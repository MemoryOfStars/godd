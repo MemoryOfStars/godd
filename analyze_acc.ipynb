{
 "cells": [
  {
   "cell_type": "markdown",
   "metadata": {},
   "source": [
    "# Find out the inside of acc"
   ]
  },
  {
   "cell_type": "code",
   "execution_count": 1,
   "metadata": {},
   "outputs": [
    {
     "ename": "FileNotFoundError",
     "evalue": "Could not find module 'D:\\Anaconda\\lib\\site-packages\\dgl\\dgl.dll' (or one of its dependencies). Try using the full path with constructor syntax.",
     "output_type": "error",
     "traceback": [
      "\u001b[1;31m---------------------------------------------------------------------------\u001b[0m",
      "\u001b[1;31mFileNotFoundError\u001b[0m                         Traceback (most recent call last)",
      "\u001b[1;32mC:\\Users\\ADMINI~1\\AppData\\Local\\Temp/ipykernel_15236/3317833556.py\u001b[0m in \u001b[0;36m<module>\u001b[1;34m\u001b[0m\n\u001b[0;32m      5\u001b[0m \u001b[1;32mimport\u001b[0m \u001b[0mtorch\u001b[0m\u001b[1;33m\u001b[0m\u001b[1;33m\u001b[0m\u001b[0m\n\u001b[0;32m      6\u001b[0m \u001b[1;32mimport\u001b[0m \u001b[0mgc\u001b[0m\u001b[1;33m\u001b[0m\u001b[1;33m\u001b[0m\u001b[0m\n\u001b[1;32m----> 7\u001b[1;33m \u001b[1;32mimport\u001b[0m \u001b[0mdgl\u001b[0m\u001b[1;33m\u001b[0m\u001b[1;33m\u001b[0m\u001b[0m\n\u001b[0m\u001b[0;32m      8\u001b[0m \u001b[1;32mimport\u001b[0m \u001b[0mtorch\u001b[0m\u001b[1;33m.\u001b[0m\u001b[0mnn\u001b[0m \u001b[1;32mas\u001b[0m \u001b[0mnn\u001b[0m\u001b[1;33m\u001b[0m\u001b[1;33m\u001b[0m\u001b[0m\n\u001b[0;32m      9\u001b[0m \u001b[1;32mimport\u001b[0m \u001b[0mtorch\u001b[0m\u001b[1;33m.\u001b[0m\u001b[0mnn\u001b[0m\u001b[1;33m.\u001b[0m\u001b[0mfunctional\u001b[0m \u001b[1;32mas\u001b[0m \u001b[0mF\u001b[0m\u001b[1;33m\u001b[0m\u001b[1;33m\u001b[0m\u001b[0m\n",
      "\u001b[1;32mD:\\Anaconda\\lib\\site-packages\\dgl\\__init__.py\u001b[0m in \u001b[0;36m<module>\u001b[1;34m\u001b[0m\n\u001b[0;32m     11\u001b[0m \u001b[1;33m\u001b[0m\u001b[0m\n\u001b[0;32m     12\u001b[0m \u001b[1;31m# Should import backend before importing anything else\u001b[0m\u001b[1;33m\u001b[0m\u001b[1;33m\u001b[0m\u001b[1;33m\u001b[0m\u001b[0m\n\u001b[1;32m---> 13\u001b[1;33m \u001b[1;32mfrom\u001b[0m \u001b[1;33m.\u001b[0m\u001b[0mbackend\u001b[0m \u001b[1;32mimport\u001b[0m \u001b[0mload_backend\u001b[0m\u001b[1;33m,\u001b[0m \u001b[0mbackend_name\u001b[0m\u001b[1;33m\u001b[0m\u001b[1;33m\u001b[0m\u001b[0m\n\u001b[0m\u001b[0;32m     14\u001b[0m \u001b[1;33m\u001b[0m\u001b[0m\n\u001b[0;32m     15\u001b[0m \u001b[1;32mfrom\u001b[0m \u001b[1;33m.\u001b[0m \u001b[1;32mimport\u001b[0m \u001b[0mfunction\u001b[0m\u001b[1;33m\u001b[0m\u001b[1;33m\u001b[0m\u001b[0m\n",
      "\u001b[1;32mD:\\Anaconda\\lib\\site-packages\\dgl\\backend\\__init__.py\u001b[0m in \u001b[0;36m<module>\u001b[1;34m\u001b[0m\n\u001b[0;32m    105\u001b[0m \u001b[1;33m\u001b[0m\u001b[0m\n\u001b[0;32m    106\u001b[0m \u001b[1;33m\u001b[0m\u001b[0m\n\u001b[1;32m--> 107\u001b[1;33m \u001b[0mload_backend\u001b[0m\u001b[1;33m(\u001b[0m\u001b[0mget_preferred_backend\u001b[0m\u001b[1;33m(\u001b[0m\u001b[1;33m)\u001b[0m\u001b[1;33m)\u001b[0m\u001b[1;33m\u001b[0m\u001b[1;33m\u001b[0m\u001b[0m\n\u001b[0m\u001b[0;32m    108\u001b[0m \u001b[1;33m\u001b[0m\u001b[0m\n\u001b[0;32m    109\u001b[0m \u001b[1;33m\u001b[0m\u001b[0m\n",
      "\u001b[1;32mD:\\Anaconda\\lib\\site-packages\\dgl\\backend\\__init__.py\u001b[0m in \u001b[0;36mload_backend\u001b[1;34m(mod_name)\u001b[0m\n\u001b[0;32m     39\u001b[0m         \u001b[1;32mraise\u001b[0m \u001b[0mNotImplementedError\u001b[0m\u001b[1;33m(\u001b[0m\u001b[1;34m'Unsupported backend: %s'\u001b[0m \u001b[1;33m%\u001b[0m \u001b[0mmod_name\u001b[0m\u001b[1;33m)\u001b[0m\u001b[1;33m\u001b[0m\u001b[1;33m\u001b[0m\u001b[0m\n\u001b[0;32m     40\u001b[0m \u001b[1;33m\u001b[0m\u001b[0m\n\u001b[1;32m---> 41\u001b[1;33m     \u001b[1;32mfrom\u001b[0m \u001b[1;33m.\u001b[0m\u001b[1;33m.\u001b[0m\u001b[0m_ffi\u001b[0m\u001b[1;33m.\u001b[0m\u001b[0mbase\u001b[0m \u001b[1;32mimport\u001b[0m \u001b[0mload_tensor_adapter\u001b[0m \u001b[1;31m# imports DGL C library\u001b[0m\u001b[1;33m\u001b[0m\u001b[1;33m\u001b[0m\u001b[0m\n\u001b[0m\u001b[0;32m     42\u001b[0m     \u001b[0mversion\u001b[0m \u001b[1;33m=\u001b[0m \u001b[0mmod\u001b[0m\u001b[1;33m.\u001b[0m\u001b[0m__version__\u001b[0m\u001b[1;33m\u001b[0m\u001b[1;33m\u001b[0m\u001b[0m\n\u001b[0;32m     43\u001b[0m     \u001b[0mload_tensor_adapter\u001b[0m\u001b[1;33m(\u001b[0m\u001b[0mmod_name\u001b[0m\u001b[1;33m,\u001b[0m \u001b[0mversion\u001b[0m\u001b[1;33m)\u001b[0m\u001b[1;33m\u001b[0m\u001b[1;33m\u001b[0m\u001b[0m\n",
      "\u001b[1;32mD:\\Anaconda\\lib\\site-packages\\dgl\\_ffi\\base.py\u001b[0m in \u001b[0;36m<module>\u001b[1;34m\u001b[0m\n\u001b[0;32m     42\u001b[0m \u001b[0m__version__\u001b[0m \u001b[1;33m=\u001b[0m \u001b[0mlibinfo\u001b[0m\u001b[1;33m.\u001b[0m\u001b[0m__version__\u001b[0m\u001b[1;33m\u001b[0m\u001b[1;33m\u001b[0m\u001b[0m\n\u001b[0;32m     43\u001b[0m \u001b[1;31m# library instance of nnvm\u001b[0m\u001b[1;33m\u001b[0m\u001b[1;33m\u001b[0m\u001b[1;33m\u001b[0m\u001b[0m\n\u001b[1;32m---> 44\u001b[1;33m \u001b[0m_LIB\u001b[0m\u001b[1;33m,\u001b[0m \u001b[0m_LIB_NAME\u001b[0m\u001b[1;33m,\u001b[0m \u001b[0m_DIR_NAME\u001b[0m \u001b[1;33m=\u001b[0m \u001b[0m_load_lib\u001b[0m\u001b[1;33m(\u001b[0m\u001b[1;33m)\u001b[0m\u001b[1;33m\u001b[0m\u001b[1;33m\u001b[0m\u001b[0m\n\u001b[0m\u001b[0;32m     45\u001b[0m \u001b[1;33m\u001b[0m\u001b[0m\n\u001b[0;32m     46\u001b[0m \u001b[1;31m# The FFI mode of DGL\u001b[0m\u001b[1;33m\u001b[0m\u001b[1;33m\u001b[0m\u001b[1;33m\u001b[0m\u001b[0m\n",
      "\u001b[1;32mD:\\Anaconda\\lib\\site-packages\\dgl\\_ffi\\base.py\u001b[0m in \u001b[0;36m_load_lib\u001b[1;34m()\u001b[0m\n\u001b[0;32m     32\u001b[0m     \u001b[1;34m\"\"\"Load libary by searching possible path.\"\"\"\u001b[0m\u001b[1;33m\u001b[0m\u001b[1;33m\u001b[0m\u001b[0m\n\u001b[0;32m     33\u001b[0m     \u001b[0mlib_path\u001b[0m \u001b[1;33m=\u001b[0m \u001b[0mlibinfo\u001b[0m\u001b[1;33m.\u001b[0m\u001b[0mfind_lib_path\u001b[0m\u001b[1;33m(\u001b[0m\u001b[1;33m)\u001b[0m\u001b[1;33m\u001b[0m\u001b[1;33m\u001b[0m\u001b[0m\n\u001b[1;32m---> 34\u001b[1;33m     \u001b[0mlib\u001b[0m \u001b[1;33m=\u001b[0m \u001b[0mctypes\u001b[0m\u001b[1;33m.\u001b[0m\u001b[0mCDLL\u001b[0m\u001b[1;33m(\u001b[0m\u001b[0mlib_path\u001b[0m\u001b[1;33m[\u001b[0m\u001b[1;36m0\u001b[0m\u001b[1;33m]\u001b[0m\u001b[1;33m)\u001b[0m\u001b[1;33m\u001b[0m\u001b[1;33m\u001b[0m\u001b[0m\n\u001b[0m\u001b[0;32m     35\u001b[0m     \u001b[0mdirname\u001b[0m \u001b[1;33m=\u001b[0m \u001b[0mos\u001b[0m\u001b[1;33m.\u001b[0m\u001b[0mpath\u001b[0m\u001b[1;33m.\u001b[0m\u001b[0mdirname\u001b[0m\u001b[1;33m(\u001b[0m\u001b[0mlib_path\u001b[0m\u001b[1;33m[\u001b[0m\u001b[1;36m0\u001b[0m\u001b[1;33m]\u001b[0m\u001b[1;33m)\u001b[0m\u001b[1;33m\u001b[0m\u001b[1;33m\u001b[0m\u001b[0m\n\u001b[0;32m     36\u001b[0m     \u001b[0mbasename\u001b[0m \u001b[1;33m=\u001b[0m \u001b[0mos\u001b[0m\u001b[1;33m.\u001b[0m\u001b[0mpath\u001b[0m\u001b[1;33m.\u001b[0m\u001b[0mbasename\u001b[0m\u001b[1;33m(\u001b[0m\u001b[0mlib_path\u001b[0m\u001b[1;33m[\u001b[0m\u001b[1;36m0\u001b[0m\u001b[1;33m]\u001b[0m\u001b[1;33m)\u001b[0m\u001b[1;33m\u001b[0m\u001b[1;33m\u001b[0m\u001b[0m\n",
      "\u001b[1;32mD:\\Anaconda\\lib\\ctypes\\__init__.py\u001b[0m in \u001b[0;36m__init__\u001b[1;34m(self, name, mode, handle, use_errno, use_last_error, winmode)\u001b[0m\n\u001b[0;32m    371\u001b[0m \u001b[1;33m\u001b[0m\u001b[0m\n\u001b[0;32m    372\u001b[0m         \u001b[1;32mif\u001b[0m \u001b[0mhandle\u001b[0m \u001b[1;32mis\u001b[0m \u001b[1;32mNone\u001b[0m\u001b[1;33m:\u001b[0m\u001b[1;33m\u001b[0m\u001b[1;33m\u001b[0m\u001b[0m\n\u001b[1;32m--> 373\u001b[1;33m             \u001b[0mself\u001b[0m\u001b[1;33m.\u001b[0m\u001b[0m_handle\u001b[0m \u001b[1;33m=\u001b[0m \u001b[0m_dlopen\u001b[0m\u001b[1;33m(\u001b[0m\u001b[0mself\u001b[0m\u001b[1;33m.\u001b[0m\u001b[0m_name\u001b[0m\u001b[1;33m,\u001b[0m \u001b[0mmode\u001b[0m\u001b[1;33m)\u001b[0m\u001b[1;33m\u001b[0m\u001b[1;33m\u001b[0m\u001b[0m\n\u001b[0m\u001b[0;32m    374\u001b[0m         \u001b[1;32melse\u001b[0m\u001b[1;33m:\u001b[0m\u001b[1;33m\u001b[0m\u001b[1;33m\u001b[0m\u001b[0m\n\u001b[0;32m    375\u001b[0m             \u001b[0mself\u001b[0m\u001b[1;33m.\u001b[0m\u001b[0m_handle\u001b[0m \u001b[1;33m=\u001b[0m \u001b[0mhandle\u001b[0m\u001b[1;33m\u001b[0m\u001b[1;33m\u001b[0m\u001b[0m\n",
      "\u001b[1;31mFileNotFoundError\u001b[0m: Could not find module 'D:\\Anaconda\\lib\\site-packages\\dgl\\dgl.dll' (or one of its dependencies). Try using the full path with constructor syntax."
     ]
    }
   ],
   "source": [
    "import time\n",
    "import os\n",
    "import pandas as pd\n",
    "import numpy as np\n",
    "import torch\n",
    "import gc\n",
    "import dgl\n",
    "import torch.nn as nn\n",
    "import torch.nn.functional as F\n",
    "from dgl.nn.pytorch import GraphConv\n",
    "from torch.autograd import Variable\n",
    "from dgl.data import DGLDataset\n",
    "from sklearn.utils import shuffle\n",
    "from gcn import GCN\n",
    "from my_dataset import MyDataset"
   ]
  },
  {
   "cell_type": "code",
   "execution_count": 3,
   "metadata": {
    "scrolled": true
   },
   "outputs": [
    {
     "data": {
      "text/plain": [
       "2630    ../negative_graph_featureSimplified/4b6r_ligand_5\n",
       "2631    ../negative_graph_featureSimplified/1os5_ligand_3\n",
       "2632    ../negative_graph_featureSimplified/4dy6_ligand_7\n",
       "2633    ../negative_graph_featureSimplified/1alw_ligand_2\n",
       "2634    ../negative_graph_featureSimplified/1mq6_ligand_1\n",
       "Name: file_name, dtype: object"
      ]
     },
     "execution_count": 3,
     "metadata": {},
     "output_type": "execute_result"
    }
   ],
   "source": [
    "dfTest = pd.read_csv('./test_simple.csv')\n",
    "testFiles = dfTest['file_name']\n",
    "testFiles[-10:-5]"
   ]
  },
  {
   "cell_type": "code",
   "execution_count": 4,
   "metadata": {
    "scrolled": true
   },
   "outputs": [
    {
     "data": {
      "text/plain": [
       "0    ../positive_graph_featureSimplified/1v2s\n",
       "1    ../positive_graph_featureSimplified/4lxz\n",
       "2    ../positive_graph_featureSimplified/4tmk\n",
       "3    ../positive_graph_featureSimplified/5efh\n",
       "4    ../positive_graph_featureSimplified/3ps1\n",
       "Name: file_name, dtype: object"
      ]
     },
     "execution_count": 4,
     "metadata": {},
     "output_type": "execute_result"
    }
   ],
   "source": [
    "testFiles[:5]"
   ]
  },
  {
   "cell_type": "code",
   "execution_count": 5,
   "metadata": {},
   "outputs": [
    {
     "data": {
      "text/plain": [
       "GCN(\n",
       "  (gnn_layerList): ModuleList(\n",
       "    (0): GATConv(\n",
       "      (fc): Linear(in_features=34, out_features=80, bias=False)\n",
       "      (feat_drop): Dropout(p=0.0, inplace=False)\n",
       "      (attn_drop): Dropout(p=0.0, inplace=False)\n",
       "      (leaky_relu): LeakyReLU(negative_slope=0.2)\n",
       "    )\n",
       "    (1): GATConv(\n",
       "      (fc): Linear(in_features=80, out_features=160, bias=False)\n",
       "      (feat_drop): Dropout(p=0.0, inplace=False)\n",
       "      (attn_drop): Dropout(p=0.0, inplace=False)\n",
       "      (leaky_relu): LeakyReLU(negative_slope=0.2)\n",
       "    )\n",
       "    (2): GATConv(\n",
       "      (fc): Linear(in_features=160, out_features=112, bias=False)\n",
       "      (feat_drop): Dropout(p=0.0, inplace=False)\n",
       "      (attn_drop): Dropout(p=0.0, inplace=False)\n",
       "      (leaky_relu): LeakyReLU(negative_slope=0.2)\n",
       "    )\n",
       "    (3): GATConv(\n",
       "      (fc): Linear(in_features=112, out_features=160, bias=False)\n",
       "      (feat_drop): Dropout(p=0.0, inplace=False)\n",
       "      (attn_drop): Dropout(p=0.0, inplace=False)\n",
       "      (leaky_relu): LeakyReLU(negative_slope=0.2)\n",
       "    )\n",
       "    (4): GATConv(\n",
       "      (fc): Linear(in_features=160, out_features=176, bias=False)\n",
       "      (feat_drop): Dropout(p=0.0, inplace=False)\n",
       "      (attn_drop): Dropout(p=0.0, inplace=False)\n",
       "      (leaky_relu): LeakyReLU(negative_slope=0.2)\n",
       "    )\n",
       "    (5): GATConv(\n",
       "      (fc): Linear(in_features=176, out_features=96, bias=False)\n",
       "      (feat_drop): Dropout(p=0.0, inplace=False)\n",
       "      (attn_drop): Dropout(p=0.0, inplace=False)\n",
       "      (leaky_relu): LeakyReLU(negative_slope=0.2)\n",
       "    )\n",
       "    (6): GATConv(\n",
       "      (fc): Linear(in_features=96, out_features=144, bias=False)\n",
       "      (feat_drop): Dropout(p=0.0, inplace=False)\n",
       "      (attn_drop): Dropout(p=0.0, inplace=False)\n",
       "      (leaky_relu): LeakyReLU(negative_slope=0.2)\n",
       "    )\n",
       "    (7): GATConv(\n",
       "      (fc): Linear(in_features=144, out_features=96, bias=False)\n",
       "      (feat_drop): Dropout(p=0.0, inplace=False)\n",
       "      (attn_drop): Dropout(p=0.0, inplace=False)\n",
       "      (leaky_relu): LeakyReLU(negative_slope=0.2)\n",
       "    )\n",
       "    (8): GATConv(\n",
       "      (fc): Linear(in_features=96, out_features=128, bias=False)\n",
       "      (feat_drop): Dropout(p=0.0, inplace=False)\n",
       "      (attn_drop): Dropout(p=0.0, inplace=False)\n",
       "      (leaky_relu): LeakyReLU(negative_slope=0.2)\n",
       "    )\n",
       "    (9): GATConv(\n",
       "      (fc): Linear(in_features=128, out_features=96, bias=False)\n",
       "      (feat_drop): Dropout(p=0.0, inplace=False)\n",
       "      (attn_drop): Dropout(p=0.0, inplace=False)\n",
       "      (leaky_relu): LeakyReLU(negative_slope=0.2)\n",
       "    )\n",
       "    (10): GATConv(\n",
       "      (fc): Linear(in_features=96, out_features=160, bias=False)\n",
       "      (feat_drop): Dropout(p=0.0, inplace=False)\n",
       "      (attn_drop): Dropout(p=0.0, inplace=False)\n",
       "      (leaky_relu): LeakyReLU(negative_slope=0.2)\n",
       "    )\n",
       "  )\n",
       "  (dnn1): Linear(in_features=160, out_features=140, bias=True)\n",
       "  (dnn2): Linear(in_features=140, out_features=1, bias=True)\n",
       ")"
      ]
     },
     "execution_count": 5,
     "metadata": {},
     "output_type": "execute_result"
    }
   ],
   "source": [
    "modelPath = '../models/gcnGAT_with_simple_feature1642648899.pkl'\n",
    "model = torch.load(modelPath)\n",
    "model"
   ]
  },
  {
   "cell_type": "code",
   "execution_count": 7,
   "metadata": {},
   "outputs": [
    {
     "name": "stdout",
     "output_type": "stream",
     "text": [
      "2639"
     ]
    }
   ],
   "source": [
    "device = torch.device(\"cuda:0\")\n",
    "testPreds = []\n",
    "for i, file in enumerate(testFiles):\n",
    "    g = dgl.load_graphs(file)[0][0].to(device) # load_graphs returns tuple(graphs, labels)\n",
    "    pred = model(g, g.ndata['h'].float()).squeeze(1).squeeze(1)\n",
    "    testPreds.append(pred.round().item())\n",
    "    print('\\r' + str(i), end='')"
   ]
  },
  {
   "cell_type": "code",
   "execution_count": 8,
   "metadata": {
    "scrolled": false
   },
   "outputs": [
    {
     "data": {
      "text/plain": [
       "True"
      ]
     },
     "execution_count": 8,
     "metadata": {},
     "output_type": "execute_result"
    }
   ],
   "source": [
    "len(testFiles) == len(testPreds)"
   ]
  },
  {
   "cell_type": "code",
   "execution_count": 9,
   "metadata": {
    "scrolled": false
   },
   "outputs": [
    {
     "data": {
      "text/html": [
       "<div>\n",
       "<style scoped>\n",
       "    .dataframe tbody tr th:only-of-type {\n",
       "        vertical-align: middle;\n",
       "    }\n",
       "\n",
       "    .dataframe tbody tr th {\n",
       "        vertical-align: top;\n",
       "    }\n",
       "\n",
       "    .dataframe thead th {\n",
       "        text-align: right;\n",
       "    }\n",
       "</style>\n",
       "<table border=\"1\" class=\"dataframe\">\n",
       "  <thead>\n",
       "    <tr style=\"text-align: right;\">\n",
       "      <th></th>\n",
       "      <th>file_name</th>\n",
       "      <th>label</th>\n",
       "    </tr>\n",
       "  </thead>\n",
       "  <tbody>\n",
       "    <tr>\n",
       "      <th>0</th>\n",
       "      <td>../positive_graph_featureSimplified/1v2s</td>\n",
       "      <td>0.0</td>\n",
       "    </tr>\n",
       "    <tr>\n",
       "      <th>1</th>\n",
       "      <td>../positive_graph_featureSimplified/4lxz</td>\n",
       "      <td>1.0</td>\n",
       "    </tr>\n",
       "    <tr>\n",
       "      <th>2</th>\n",
       "      <td>../positive_graph_featureSimplified/4tmk</td>\n",
       "      <td>1.0</td>\n",
       "    </tr>\n",
       "    <tr>\n",
       "      <th>3</th>\n",
       "      <td>../positive_graph_featureSimplified/5efh</td>\n",
       "      <td>0.0</td>\n",
       "    </tr>\n",
       "    <tr>\n",
       "      <th>4</th>\n",
       "      <td>../positive_graph_featureSimplified/3ps1</td>\n",
       "      <td>1.0</td>\n",
       "    </tr>\n",
       "  </tbody>\n",
       "</table>\n",
       "</div>"
      ],
      "text/plain": [
       "                                  file_name  label\n",
       "0  ../positive_graph_featureSimplified/1v2s    0.0\n",
       "1  ../positive_graph_featureSimplified/4lxz    1.0\n",
       "2  ../positive_graph_featureSimplified/4tmk    1.0\n",
       "3  ../positive_graph_featureSimplified/5efh    0.0\n",
       "4  ../positive_graph_featureSimplified/3ps1    1.0"
      ]
     },
     "execution_count": 9,
     "metadata": {},
     "output_type": "execute_result"
    }
   ],
   "source": [
    "dfPred = pd.DataFrame(columns=['file_name', 'label'])\n",
    "dfPred['file_name'] = testFiles\n",
    "dfPred['label'] = testPreds\n",
    "dfPred.head()"
   ]
  },
  {
   "cell_type": "code",
   "execution_count": 10,
   "metadata": {},
   "outputs": [],
   "source": [
    "def getNegativeName(file_name):\n",
    "    if 'negative' not in file_name:\n",
    "        return ''\n",
    "    start = file_name.find('ligand')-5\n",
    "    end = file_name.find('ligand')+8\n",
    "    return file_name[start:end]"
   ]
  },
  {
   "cell_type": "code",
   "execution_count": 11,
   "metadata": {},
   "outputs": [
    {
     "data": {
      "text/plain": [
       "'6ny0_ligand_7'"
      ]
     },
     "execution_count": 11,
     "metadata": {},
     "output_type": "execute_result"
    }
   ],
   "source": [
    "getNegativeName('../negative_graph_save8A_test/6ny0_ligand_7.p')"
   ]
  },
  {
   "cell_type": "code",
   "execution_count": 12,
   "metadata": {},
   "outputs": [
    {
     "data": {
      "text/plain": [
       "'6f20'"
      ]
     },
     "execution_count": 12,
     "metadata": {},
     "output_type": "execute_result"
    }
   ],
   "source": [
    "'./positive_graph_save/6f20'[-4:]"
   ]
  },
  {
   "cell_type": "code",
   "execution_count": 13,
   "metadata": {},
   "outputs": [],
   "source": [
    "dfPred.to_csv('./test_preds.csv')"
   ]
  },
  {
   "cell_type": "code",
   "execution_count": 14,
   "metadata": {},
   "outputs": [
    {
     "data": {
      "text/plain": [
       "469"
      ]
     },
     "execution_count": 14,
     "metadata": {},
     "output_type": "execute_result"
    }
   ],
   "source": [
    "dfFalse = pd.DataFrame(columns=['file_name', 'label']) # comment: FP or FT\n",
    "for i, row in dfPred.iterrows():\n",
    "    # print(row)\n",
    "    fname = row['file_name']\n",
    "    #print(fname)\n",
    "    pred = row['label']\n",
    "    if ('negative' in fname and pred == 1.0) or ('positive' in fname and pred == 0.0):\n",
    "        fname = fname[-4:] if 'positive' in fname else getNegativeName(fname)\n",
    "        dfFalse = dfFalse.append([{'file_name': fname, 'label': pred}], ignore_index=True)\n",
    "        \n",
    "len(dfFalse)"
   ]
  },
  {
   "cell_type": "code",
   "execution_count": 15,
   "metadata": {},
   "outputs": [],
   "source": [
    "dfFalse.to_csv('pred_false.csv')"
   ]
  },
  {
   "cell_type": "markdown",
   "metadata": {},
   "source": [
    "# Analyze acc  \n",
    "----------------------------------------------------\n",
    "**pred_false.csv**: false pred of test data  \n",
    "**test_preds.csv**: pred of test data  "
   ]
  },
  {
   "cell_type": "code",
   "execution_count": 3,
   "metadata": {},
   "outputs": [],
   "source": [
    "import pandas as pd\n",
    "import numpy as np\n",
    "import os\n",
    "from data_filter import DataFilter\n",
    "from calculate_rmsd import RMSDCalculator"
   ]
  },
  {
   "cell_type": "code",
   "execution_count": 4,
   "metadata": {},
   "outputs": [
    {
     "ename": "FileNotFoundError",
     "evalue": "[WinError 3] 系统找不到指定的路径。: '/data/bilab/kaku/dockings/'",
     "output_type": "error",
     "traceback": [
      "\u001b[1;31m---------------------------------------------------------------------------\u001b[0m",
      "\u001b[1;31mFileNotFoundError\u001b[0m                         Traceback (most recent call last)",
      "\u001b[1;32mC:\\Users\\ADMINI~1\\AppData\\Local\\Temp/ipykernel_15236/3668904942.py\u001b[0m in \u001b[0;36m<module>\u001b[1;34m\u001b[0m\n\u001b[0;32m      1\u001b[0m \u001b[0mrmsdCal\u001b[0m \u001b[1;33m=\u001b[0m \u001b[0mRMSDCalculator\u001b[0m\u001b[1;33m(\u001b[0m\u001b[1;33m)\u001b[0m\u001b[1;33m\u001b[0m\u001b[1;33m\u001b[0m\u001b[0m\n\u001b[1;32m----> 2\u001b[1;33m \u001b[0mdatafilter\u001b[0m \u001b[1;33m=\u001b[0m \u001b[0mDataFilter\u001b[0m\u001b[1;33m(\u001b[0m\u001b[1;33m)\u001b[0m\u001b[1;33m\u001b[0m\u001b[1;33m\u001b[0m\u001b[0m\n\u001b[0m",
      "\u001b[1;32mD:\\bioinfo\\godd\\data_filter.py\u001b[0m in \u001b[0;36m__init__\u001b[1;34m(self)\u001b[0m\n\u001b[0;32m     17\u001b[0m         \u001b[0mself\u001b[0m\u001b[1;33m.\u001b[0m\u001b[0mnaturalFiles\u001b[0m \u001b[1;33m=\u001b[0m \u001b[1;33m[\u001b[0m\u001b[1;33m]\u001b[0m\u001b[1;33m\u001b[0m\u001b[1;33m\u001b[0m\u001b[0m\n\u001b[0;32m     18\u001b[0m         \u001b[1;32mfor\u001b[0m \u001b[0mpath\u001b[0m \u001b[1;32min\u001b[0m \u001b[0mdockingPaths\u001b[0m\u001b[1;33m:\u001b[0m\u001b[1;33m\u001b[0m\u001b[1;33m\u001b[0m\u001b[0m\n\u001b[1;32m---> 19\u001b[1;33m             \u001b[0mself\u001b[0m\u001b[1;33m.\u001b[0m\u001b[0mdockingFiles\u001b[0m \u001b[1;33m+=\u001b[0m \u001b[1;33m[\u001b[0m\u001b[0mpath\u001b[0m \u001b[1;33m+\u001b[0m \u001b[0mi\u001b[0m \u001b[1;32mfor\u001b[0m \u001b[0mi\u001b[0m \u001b[1;32min\u001b[0m \u001b[0mos\u001b[0m\u001b[1;33m.\u001b[0m\u001b[0mlistdir\u001b[0m\u001b[1;33m(\u001b[0m\u001b[0mpath\u001b[0m\u001b[1;33m)\u001b[0m\u001b[1;33m]\u001b[0m\u001b[1;33m\u001b[0m\u001b[1;33m\u001b[0m\u001b[0m\n\u001b[0m\u001b[0;32m     20\u001b[0m         \u001b[1;32mfor\u001b[0m \u001b[0mpath\u001b[0m \u001b[1;32min\u001b[0m \u001b[0mnaturalPaths\u001b[0m\u001b[1;33m:\u001b[0m\u001b[1;33m\u001b[0m\u001b[1;33m\u001b[0m\u001b[0m\n\u001b[0;32m     21\u001b[0m             \u001b[0mself\u001b[0m\u001b[1;33m.\u001b[0m\u001b[0mnaturalFiles\u001b[0m \u001b[1;33m+=\u001b[0m \u001b[1;33m[\u001b[0m\u001b[0mpath\u001b[0m \u001b[1;33m+\u001b[0m \u001b[0mi\u001b[0m \u001b[1;32mfor\u001b[0m \u001b[0mi\u001b[0m \u001b[1;32min\u001b[0m \u001b[0mos\u001b[0m\u001b[1;33m.\u001b[0m\u001b[0mlistdir\u001b[0m\u001b[1;33m(\u001b[0m\u001b[0mpath\u001b[0m\u001b[1;33m)\u001b[0m\u001b[1;33m]\u001b[0m\u001b[1;33m\u001b[0m\u001b[1;33m\u001b[0m\u001b[0m\n",
      "\u001b[1;31mFileNotFoundError\u001b[0m: [WinError 3] 系统找不到指定的路径。: '/data/bilab/kaku/dockings/'"
     ]
    }
   ],
   "source": [
    "rmsdCal = RMSDCalculator()\n",
    "datafilter = DataFilter()"
   ]
  },
  {
   "cell_type": "code",
   "execution_count": 5,
   "metadata": {},
   "outputs": [
    {
     "data": {
      "text/html": [
       "<div>\n",
       "<style scoped>\n",
       "    .dataframe tbody tr th:only-of-type {\n",
       "        vertical-align: middle;\n",
       "    }\n",
       "\n",
       "    .dataframe tbody tr th {\n",
       "        vertical-align: top;\n",
       "    }\n",
       "\n",
       "    .dataframe thead th {\n",
       "        text-align: right;\n",
       "    }\n",
       "</style>\n",
       "<table border=\"1\" class=\"dataframe\">\n",
       "  <thead>\n",
       "    <tr style=\"text-align: right;\">\n",
       "      <th></th>\n",
       "      <th>Unnamed: 0</th>\n",
       "      <th>blast</th>\n",
       "      <th>rmsd</th>\n",
       "    </tr>\n",
       "  </thead>\n",
       "  <tbody>\n",
       "    <tr>\n",
       "      <th>350883</th>\n",
       "      <td>350883</td>\n",
       "      <td>5mca_4lov_ligand_4</td>\n",
       "      <td>6.176936</td>\n",
       "    </tr>\n",
       "    <tr>\n",
       "      <th>350884</th>\n",
       "      <td>350884</td>\n",
       "      <td>4tl4_4det_ligand_6</td>\n",
       "      <td>16.486824</td>\n",
       "    </tr>\n",
       "    <tr>\n",
       "      <th>350885</th>\n",
       "      <td>350885</td>\n",
       "      <td>5ca2_5n24_ligand_5</td>\n",
       "      <td>4.181141</td>\n",
       "    </tr>\n",
       "    <tr>\n",
       "      <th>350886</th>\n",
       "      <td>350886</td>\n",
       "      <td>1fj3_1qf1_ligand_4</td>\n",
       "      <td>8.658719</td>\n",
       "    </tr>\n",
       "    <tr>\n",
       "      <th>350887</th>\n",
       "      <td>350887</td>\n",
       "      <td>4q06_5sz6_ligand_5</td>\n",
       "      <td>18.535605</td>\n",
       "    </tr>\n",
       "  </tbody>\n",
       "</table>\n",
       "</div>"
      ],
      "text/plain": [
       "        Unnamed: 0               blast       rmsd\n",
       "350883      350883  5mca_4lov_ligand_4   6.176936\n",
       "350884      350884  4tl4_4det_ligand_6  16.486824\n",
       "350885      350885  5ca2_5n24_ligand_5   4.181141\n",
       "350886      350886  1fj3_1qf1_ligand_4   8.658719\n",
       "350887      350887  4q06_5sz6_ligand_5  18.535605"
      ]
     },
     "execution_count": 5,
     "metadata": {},
     "output_type": "execute_result"
    }
   ],
   "source": [
    "rmsdDf = pd.read_csv('./blast_aligned_rmsds.csv')\n",
    "rmsdDf.tail()"
   ]
  },
  {
   "cell_type": "code",
   "execution_count": 6,
   "metadata": {
    "scrolled": true
   },
   "outputs": [
    {
     "data": {
      "text/html": [
       "<div>\n",
       "<style scoped>\n",
       "    .dataframe tbody tr th:only-of-type {\n",
       "        vertical-align: middle;\n",
       "    }\n",
       "\n",
       "    .dataframe tbody tr th {\n",
       "        vertical-align: top;\n",
       "    }\n",
       "\n",
       "    .dataframe thead th {\n",
       "        text-align: right;\n",
       "    }\n",
       "</style>\n",
       "<table border=\"1\" class=\"dataframe\">\n",
       "  <thead>\n",
       "    <tr style=\"text-align: right;\">\n",
       "      <th></th>\n",
       "      <th>Unnamed: 0</th>\n",
       "      <th>name</th>\n",
       "      <th>pred</th>\n",
       "    </tr>\n",
       "  </thead>\n",
       "  <tbody>\n",
       "    <tr>\n",
       "      <th>311777</th>\n",
       "      <td>311777</td>\n",
       "      <td>5sxm_6dar_ligand_5</td>\n",
       "      <td>3.188477e-09</td>\n",
       "    </tr>\n",
       "    <tr>\n",
       "      <th>311778</th>\n",
       "      <td>311778</td>\n",
       "      <td>1tg3_5ehw_ligand_5</td>\n",
       "      <td>5.000000e-01</td>\n",
       "    </tr>\n",
       "    <tr>\n",
       "      <th>311779</th>\n",
       "      <td>311779</td>\n",
       "      <td>1y59_1tnh_ligand_1</td>\n",
       "      <td>7.870812e-09</td>\n",
       "    </tr>\n",
       "    <tr>\n",
       "      <th>311780</th>\n",
       "      <td>311780</td>\n",
       "      <td>3mnh_3rz5_ligand_4</td>\n",
       "      <td>4.544235e-14</td>\n",
       "    </tr>\n",
       "    <tr>\n",
       "      <th>311781</th>\n",
       "      <td>311781</td>\n",
       "      <td>1fo0_1fzm_ligand_5</td>\n",
       "      <td>4.871166e-05</td>\n",
       "    </tr>\n",
       "  </tbody>\n",
       "</table>\n",
       "</div>"
      ],
      "text/plain": [
       "        Unnamed: 0                name          pred\n",
       "311777      311777  5sxm_6dar_ligand_5  3.188477e-09\n",
       "311778      311778  1tg3_5ehw_ligand_5  5.000000e-01\n",
       "311779      311779  1y59_1tnh_ligand_1  7.870812e-09\n",
       "311780      311780  3mnh_3rz5_ligand_4  4.544235e-14\n",
       "311781      311781  1fo0_1fzm_ligand_5  4.871166e-05"
      ]
     },
     "execution_count": 6,
     "metadata": {},
     "output_type": "execute_result"
    }
   ],
   "source": [
    "predDf = pd.read_csv('./blast_aligned_pred.csv')\n",
    "predDf.tail()"
   ]
  },
  {
   "cell_type": "code",
   "execution_count": 48,
   "metadata": {},
   "outputs": [
    {
     "name": "stdout",
     "output_type": "stream",
     "text": [
      "705 311077\n"
     ]
    }
   ],
   "source": [
    "predDict = {}\n",
    "rmsdDict = {}\n",
    "for i, row in predDf.iterrows():\n",
    "    predDict[row['name']] = int(row['pred'])\n",
    "    \n",
    "for i, row in rmsdDf.iterrows():\n",
    "    rmsdDict[row['blast']] = float(row['rmsd'])\n",
    "    \n",
    "rights = []\n",
    "wrongs = []\n",
    "for key in rmsdDict:\n",
    "    if key not in predDict:\n",
    "        continue\n",
    "    if predDict[key] >= 0.1:\n",
    "        rights.append(rmsdDict[key])\n",
    "    else:\n",
    "        wrongs.append(rmsdDict[key])\n",
    "        \n",
    "print(len(rights), len(wrongs))"
   ]
  },
  {
   "cell_type": "code",
   "execution_count": 15,
   "metadata": {},
   "outputs": [
    {
     "data": {
      "text/plain": [
       "0.9977388046776273"
      ]
     },
     "execution_count": 15,
     "metadata": {},
     "output_type": "execute_result"
    }
   ],
   "source": [
    "311077 /(705 +311077)"
   ]
  },
  {
   "cell_type": "code",
   "execution_count": 65,
   "metadata": {},
   "outputs": [
    {
     "data": {
      "text/plain": [
       "16698"
      ]
     },
     "execution_count": 65,
     "metadata": {},
     "output_type": "execute_result"
    }
   ],
   "source": [
    "16308+390"
   ]
  },
  {
   "cell_type": "markdown",
   "metadata": {},
   "source": [
    "## draw figs"
   ]
  },
  {
   "cell_type": "code",
   "execution_count": 2,
   "metadata": {},
   "outputs": [],
   "source": [
    "import seaborn as sns\n",
    "import matplotlib.pyplot as plt\n",
    "from scipy.stats import norm"
   ]
  },
  {
   "cell_type": "code",
   "execution_count": 8,
   "metadata": {},
   "outputs": [],
   "source": [
    "fnRmsds0To2w = []\n",
    "for i in wrongs:\n",
    "    if  0 < i < 2:\n",
    "        fnRmsds0To2w.append(i)\n",
    "fnRmsds0To2r = []\n",
    "for i in rights:\n",
    "    if  0 < i < 2:\n",
    "        fnRmsds0To2r.append(i)"
   ]
  },
  {
   "cell_type": "code",
   "execution_count": 9,
   "metadata": {},
   "outputs": [],
   "source": [
    "fnRmsds2To4w = []\n",
    "for i in wrongs:\n",
    "    if  2 < i < 4:\n",
    "        fnRmsds2To4w.append(i)\n",
    "fnRmsds2To4r = []\n",
    "for i in rights:\n",
    "    if  2 < i < 4:\n",
    "        fnRmsds2To4r.append(i)"
   ]
  },
  {
   "cell_type": "code",
   "execution_count": 10,
   "metadata": {
    "scrolled": true
   },
   "outputs": [
    {
     "name": "stdout",
     "output_type": "stream",
     "text": [
      "6661 20 19452 26\n"
     ]
    }
   ],
   "source": [
    "print(len(fnRmsds0To2w), len(fnRmsds0To2r),len(fnRmsds2To4w),len(fnRmsds2To4r))"
   ]
  },
  {
   "cell_type": "code",
   "execution_count": 32,
   "metadata": {},
   "outputs": [
    {
     "data": {
      "text/plain": [
       "19478"
      ]
     },
     "execution_count": 32,
     "metadata": {},
     "output_type": "execute_result"
    }
   ],
   "source": [
    "19452 +26"
   ]
  },
  {
   "cell_type": "code",
   "execution_count": 16,
   "metadata": {},
   "outputs": [],
   "source": [
    "TP = len(fnRmsds0To2r)\n",
    "TN = len(fnRmsds2To4w)\n",
    "FP = len(fnRmsds2To4r)\n",
    "FN = len(fnRmsds0To2w)\n"
   ]
  },
  {
   "cell_type": "code",
   "execution_count": 17,
   "metadata": {},
   "outputs": [
    {
     "name": "stdout",
     "output_type": "stream",
     "text": [
      "0.00299356383774884 0.0013348393058835609 0.43478260869565216 0.7443709621927443\n"
     ]
    }
   ],
   "source": [
    "TPR = TP/(TP+FN)\n",
    "FPR = FP/(FP+TN)\n",
    "precision = TP/(TP+FP)\n",
    "acc = (TP+TN)/(FP+FN+TP+TN)\n",
    "print(TPR, FPR, precision, acc)"
   ]
  },
  {
   "cell_type": "code",
   "execution_count": 22,
   "metadata": {},
   "outputs": [
    {
     "data": {
      "text/plain": [
       "0.03486750348675035"
      ]
     },
     "execution_count": 22,
     "metadata": {},
     "output_type": "execute_result"
    }
   ],
   "source": [
    "(13+37)/(352+1032+13+37)"
   ]
  },
  {
   "cell_type": "code",
   "execution_count": 23,
   "metadata": {},
   "outputs": [
    {
     "data": {
      "text/plain": [
       "0.9651324965132496"
      ]
     },
     "execution_count": 23,
     "metadata": {},
     "output_type": "execute_result"
    }
   ],
   "source": [
    "1-0.03486750348675035"
   ]
  },
  {
   "cell_type": "code",
   "execution_count": 46,
   "metadata": {
    "scrolled": true
   },
   "outputs": [
    {
     "name": "stderr",
     "output_type": "stream",
     "text": [
      "D:\\Anaconda\\lib\\site-packages\\seaborn\\distributions.py:2619: FutureWarning: `distplot` is a deprecated function and will be removed in a future version. Please adapt your code to use either `displot` (a figure-level function with similar flexibility) or `histplot` (an axes-level function for histograms).\n",
      "  warnings.warn(msg, FutureWarning)\n"
     ]
    },
    {
     "data": {
      "image/png": "[encoded data removed]",
      "text/plain": [
       "<Figure size 432x288 with 1 Axes>"
      ]
     },
     "metadata": {
      "needs_background": "light"
     },
     "output_type": "display_data"
    }
   ],
   "source": [
    "fig = plt.figure()\n",
    "ax = fig.add_subplot(1,1,1)\n",
    "ax.set_title(\"FN RMSD Trend\")\n",
    "rmsdContFigs = sns.distplot(fnRmsds0To2w, axlabel='RMSD', color=\"red\", ax=ax)\n",
    "#sns.distplot(fnRmsds0To2r, axlabel='RMSD', color=\"blue\", ax=ax)"
   ]
  },
  {
   "cell_type": "code",
   "execution_count": 47,
   "metadata": {},
   "outputs": [],
   "source": [
    "rmsdContFigs.get_figure().savefig('./FN.png', dpi=400)"
   ]
  },
  {
   "cell_type": "code",
   "execution_count": 27,
   "metadata": {
    "scrolled": true
   },
   "outputs": [
    {
     "name": "stdout",
     "output_type": "stream",
     "text": [
      "Unnamed: 0       3\n",
      "file_name     5mjn\n",
      "label            0\n",
      "Name: 3, dtype: object\n",
      "Unnamed: 0      13\n",
      "file_name     5u11\n",
      "label            0\n",
      "Name: 13, dtype: object\n",
      "Unnamed: 0      74\n",
      "file_name     3lzu\n",
      "label            0\n",
      "Name: 74, dtype: object\n",
      "Unnamed: 0              172\n",
      "file_name     4lxz_ligand_2\n",
      "label                     1\n",
      "Name: 172, dtype: object\n",
      "Unnamed: 0              178\n",
      "file_name     5ioz_ligand_5\n",
      "label                     1\n",
      "Name: 178, dtype: object\n",
      "Unnamed: 0              206\n",
      "file_name     4w9p_ligand_4\n",
      "label                     1\n",
      "Name: 206, dtype: object\n",
      "Unnamed: 0              291\n",
      "file_name     6gf9_ligand_7\n",
      "label                     1\n",
      "Name: 291, dtype: object\n"
     ]
    }
   ],
   "source": [
    "for i, rmsd in enumerate(fnRmsds2To10):\n",
    "    if rmsd >= 7.5 and rmsd <= 8:\n",
    "        print(predFalseDf.iloc[i])"
   ]
  }
 ],
 "metadata": {
  "kernelspec": {
   "display_name": "Python 3 (ipykernel)",
   "language": "python",
   "name": "python3"
  },
  "language_info": {
   "codemirror_mode": {
    "name": "ipython",
    "version": 3
   },
   "file_extension": ".py",
   "mimetype": "text/x-python",
   "name": "python",
   "nbconvert_exporter": "python",
   "pygments_lexer": "ipython3",
   "version": "3.8.3"
  }
 },
 "nbformat": 4,
 "nbformat_minor": 4
}
