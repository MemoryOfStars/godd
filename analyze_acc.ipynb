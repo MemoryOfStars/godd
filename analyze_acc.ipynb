{
 "cells": [
  {
   "cell_type": "markdown",
   "metadata": {},
   "source": [
    "# Find out the inside of acc"
   ]
  },
  {
   "cell_type": "code",
   "execution_count": 2,
   "metadata": {},
   "outputs": [
    {
     "name": "stderr",
     "output_type": "stream",
     "text": [
      "Using backend: pytorch\n"
     ]
    }
   ],
   "source": [
    "import time\n",
    "import os\n",
    "import pandas as pd\n",
    "import numpy as np\n",
    "import torch\n",
    "import gc\n",
    "import dgl\n",
    "import torch.nn as nn\n",
    "import torch.nn.functional as F\n",
    "from dgl.nn.pytorch import GraphConv\n",
    "from torch.autograd import Variable\n",
    "from dgl.data import DGLDataset\n",
    "from sklearn.utils import shuffle\n",
    "from gcn import GCN\n",
    "from my_dataset import MyDataset"
   ]
  },
  {
   "cell_type": "code",
   "execution_count": 3,
   "metadata": {
    "scrolled": true
   },
   "outputs": [
    {
     "data": {
      "text/plain": [
       "2630    ../negative_graph_featureSimplified/4b6r_ligand_5\n",
       "2631    ../negative_graph_featureSimplified/1os5_ligand_3\n",
       "2632    ../negative_graph_featureSimplified/4dy6_ligand_7\n",
       "2633    ../negative_graph_featureSimplified/1alw_ligand_2\n",
       "2634    ../negative_graph_featureSimplified/1mq6_ligand_1\n",
       "Name: file_name, dtype: object"
      ]
     },
     "execution_count": 3,
     "metadata": {},
     "output_type": "execute_result"
    }
   ],
   "source": [
    "dfTest = pd.read_csv('./test_simple.csv')\n",
    "testFiles = dfTest['file_name']\n",
    "testFiles[-10:-5]"
   ]
  },
  {
   "cell_type": "code",
   "execution_count": 4,
   "metadata": {
    "scrolled": true
   },
   "outputs": [
    {
     "data": {
      "text/plain": [
       "0    ../positive_graph_featureSimplified/1v2s\n",
       "1    ../positive_graph_featureSimplified/4lxz\n",
       "2    ../positive_graph_featureSimplified/4tmk\n",
       "3    ../positive_graph_featureSimplified/5efh\n",
       "4    ../positive_graph_featureSimplified/3ps1\n",
       "Name: file_name, dtype: object"
      ]
     },
     "execution_count": 4,
     "metadata": {},
     "output_type": "execute_result"
    }
   ],
   "source": [
    "testFiles[:5]"
   ]
  },
  {
   "cell_type": "code",
   "execution_count": 5,
   "metadata": {},
   "outputs": [
    {
     "data": {
      "text/plain": [
       "GCN(\n",
       "  (gnn_layerList): ModuleList(\n",
       "    (0): GATConv(\n",
       "      (fc): Linear(in_features=34, out_features=80, bias=False)\n",
       "      (feat_drop): Dropout(p=0.0, inplace=False)\n",
       "      (attn_drop): Dropout(p=0.0, inplace=False)\n",
       "      (leaky_relu): LeakyReLU(negative_slope=0.2)\n",
       "    )\n",
       "    (1): GATConv(\n",
       "      (fc): Linear(in_features=80, out_features=160, bias=False)\n",
       "      (feat_drop): Dropout(p=0.0, inplace=False)\n",
       "      (attn_drop): Dropout(p=0.0, inplace=False)\n",
       "      (leaky_relu): LeakyReLU(negative_slope=0.2)\n",
       "    )\n",
       "    (2): GATConv(\n",
       "      (fc): Linear(in_features=160, out_features=112, bias=False)\n",
       "      (feat_drop): Dropout(p=0.0, inplace=False)\n",
       "      (attn_drop): Dropout(p=0.0, inplace=False)\n",
       "      (leaky_relu): LeakyReLU(negative_slope=0.2)\n",
       "    )\n",
       "    (3): GATConv(\n",
       "      (fc): Linear(in_features=112, out_features=160, bias=False)\n",
       "      (feat_drop): Dropout(p=0.0, inplace=False)\n",
       "      (attn_drop): Dropout(p=0.0, inplace=False)\n",
       "      (leaky_relu): LeakyReLU(negative_slope=0.2)\n",
       "    )\n",
       "    (4): GATConv(\n",
       "      (fc): Linear(in_features=160, out_features=176, bias=False)\n",
       "      (feat_drop): Dropout(p=0.0, inplace=False)\n",
       "      (attn_drop): Dropout(p=0.0, inplace=False)\n",
       "      (leaky_relu): LeakyReLU(negative_slope=0.2)\n",
       "    )\n",
       "    (5): GATConv(\n",
       "      (fc): Linear(in_features=176, out_features=96, bias=False)\n",
       "      (feat_drop): Dropout(p=0.0, inplace=False)\n",
       "      (attn_drop): Dropout(p=0.0, inplace=False)\n",
       "      (leaky_relu): LeakyReLU(negative_slope=0.2)\n",
       "    )\n",
       "    (6): GATConv(\n",
       "      (fc): Linear(in_features=96, out_features=144, bias=False)\n",
       "      (feat_drop): Dropout(p=0.0, inplace=False)\n",
       "      (attn_drop): Dropout(p=0.0, inplace=False)\n",
       "      (leaky_relu): LeakyReLU(negative_slope=0.2)\n",
       "    )\n",
       "    (7): GATConv(\n",
       "      (fc): Linear(in_features=144, out_features=96, bias=False)\n",
       "      (feat_drop): Dropout(p=0.0, inplace=False)\n",
       "      (attn_drop): Dropout(p=0.0, inplace=False)\n",
       "      (leaky_relu): LeakyReLU(negative_slope=0.2)\n",
       "    )\n",
       "    (8): GATConv(\n",
       "      (fc): Linear(in_features=96, out_features=128, bias=False)\n",
       "      (feat_drop): Dropout(p=0.0, inplace=False)\n",
       "      (attn_drop): Dropout(p=0.0, inplace=False)\n",
       "      (leaky_relu): LeakyReLU(negative_slope=0.2)\n",
       "    )\n",
       "    (9): GATConv(\n",
       "      (fc): Linear(in_features=128, out_features=96, bias=False)\n",
       "      (feat_drop): Dropout(p=0.0, inplace=False)\n",
       "      (attn_drop): Dropout(p=0.0, inplace=False)\n",
       "      (leaky_relu): LeakyReLU(negative_slope=0.2)\n",
       "    )\n",
       "    (10): GATConv(\n",
       "      (fc): Linear(in_features=96, out_features=160, bias=False)\n",
       "      (feat_drop): Dropout(p=0.0, inplace=False)\n",
       "      (attn_drop): Dropout(p=0.0, inplace=False)\n",
       "      (leaky_relu): LeakyReLU(negative_slope=0.2)\n",
       "    )\n",
       "  )\n",
       "  (dnn1): Linear(in_features=160, out_features=140, bias=True)\n",
       "  (dnn2): Linear(in_features=140, out_features=1, bias=True)\n",
       ")"
      ]
     },
     "execution_count": 5,
     "metadata": {},
     "output_type": "execute_result"
    }
   ],
   "source": [
    "modelPath = '../models/gcnGAT_with_simple_feature1642648899.pkl'\n",
    "model = torch.load(modelPath)\n",
    "model"
   ]
  },
  {
   "cell_type": "code",
   "execution_count": 7,
   "metadata": {},
   "outputs": [
    {
     "name": "stdout",
     "output_type": "stream",
     "text": [
      "2639"
     ]
    }
   ],
   "source": [
    "device = torch.device(\"cuda:0\")\n",
    "testPreds = []\n",
    "for i, file in enumerate(testFiles):\n",
    "    g = dgl.load_graphs(file)[0][0].to(device) # load_graphs returns tuple(graphs, labels)\n",
    "    pred = model(g, g.ndata['h'].float()).squeeze(1).squeeze(1)\n",
    "    testPreds.append(pred.round().item())\n",
    "    print('\\r' + str(i), end='')"
   ]
  },
  {
   "cell_type": "code",
   "execution_count": 8,
   "metadata": {
    "scrolled": false
   },
   "outputs": [
    {
     "data": {
      "text/plain": [
       "True"
      ]
     },
     "execution_count": 8,
     "metadata": {},
     "output_type": "execute_result"
    }
   ],
   "source": [
    "len(testFiles) == len(testPreds)"
   ]
  },
  {
   "cell_type": "code",
   "execution_count": 9,
   "metadata": {
    "scrolled": false
   },
   "outputs": [
    {
     "data": {
      "text/html": [
       "<div>\n",
       "<style scoped>\n",
       "    .dataframe tbody tr th:only-of-type {\n",
       "        vertical-align: middle;\n",
       "    }\n",
       "\n",
       "    .dataframe tbody tr th {\n",
       "        vertical-align: top;\n",
       "    }\n",
       "\n",
       "    .dataframe thead th {\n",
       "        text-align: right;\n",
       "    }\n",
       "</style>\n",
       "<table border=\"1\" class=\"dataframe\">\n",
       "  <thead>\n",
       "    <tr style=\"text-align: right;\">\n",
       "      <th></th>\n",
       "      <th>file_name</th>\n",
       "      <th>label</th>\n",
       "    </tr>\n",
       "  </thead>\n",
       "  <tbody>\n",
       "    <tr>\n",
       "      <th>0</th>\n",
       "      <td>../positive_graph_featureSimplified/1v2s</td>\n",
       "      <td>0.0</td>\n",
       "    </tr>\n",
       "    <tr>\n",
       "      <th>1</th>\n",
       "      <td>../positive_graph_featureSimplified/4lxz</td>\n",
       "      <td>1.0</td>\n",
       "    </tr>\n",
       "    <tr>\n",
       "      <th>2</th>\n",
       "      <td>../positive_graph_featureSimplified/4tmk</td>\n",
       "      <td>1.0</td>\n",
       "    </tr>\n",
       "    <tr>\n",
       "      <th>3</th>\n",
       "      <td>../positive_graph_featureSimplified/5efh</td>\n",
       "      <td>0.0</td>\n",
       "    </tr>\n",
       "    <tr>\n",
       "      <th>4</th>\n",
       "      <td>../positive_graph_featureSimplified/3ps1</td>\n",
       "      <td>1.0</td>\n",
       "    </tr>\n",
       "  </tbody>\n",
       "</table>\n",
       "</div>"
      ],
      "text/plain": [
       "                                  file_name  label\n",
       "0  ../positive_graph_featureSimplified/1v2s    0.0\n",
       "1  ../positive_graph_featureSimplified/4lxz    1.0\n",
       "2  ../positive_graph_featureSimplified/4tmk    1.0\n",
       "3  ../positive_graph_featureSimplified/5efh    0.0\n",
       "4  ../positive_graph_featureSimplified/3ps1    1.0"
      ]
     },
     "execution_count": 9,
     "metadata": {},
     "output_type": "execute_result"
    }
   ],
   "source": [
    "dfPred = pd.DataFrame(columns=['file_name', 'label'])\n",
    "dfPred['file_name'] = testFiles\n",
    "dfPred['label'] = testPreds\n",
    "dfPred.head()"
   ]
  },
  {
   "cell_type": "code",
   "execution_count": 10,
   "metadata": {},
   "outputs": [],
   "source": [
    "def getNegativeName(file_name):\n",
    "    if 'negative' not in file_name:\n",
    "        return ''\n",
    "    start = file_name.find('ligand')-5\n",
    "    end = file_name.find('ligand')+8\n",
    "    return file_name[start:end]"
   ]
  },
  {
   "cell_type": "code",
   "execution_count": 11,
   "metadata": {},
   "outputs": [
    {
     "data": {
      "text/plain": [
       "'6ny0_ligand_7'"
      ]
     },
     "execution_count": 11,
     "metadata": {},
     "output_type": "execute_result"
    }
   ],
   "source": [
    "getNegativeName('../negative_graph_save8A_test/6ny0_ligand_7.p')"
   ]
  },
  {
   "cell_type": "code",
   "execution_count": 12,
   "metadata": {},
   "outputs": [
    {
     "data": {
      "text/plain": [
       "'6f20'"
      ]
     },
     "execution_count": 12,
     "metadata": {},
     "output_type": "execute_result"
    }
   ],
   "source": [
    "'./positive_graph_save/6f20'[-4:]"
   ]
  },
  {
   "cell_type": "code",
   "execution_count": 13,
   "metadata": {},
   "outputs": [],
   "source": [
    "dfPred.to_csv('./test_preds.csv')"
   ]
  },
  {
   "cell_type": "code",
   "execution_count": 14,
   "metadata": {},
   "outputs": [
    {
     "data": {
      "text/plain": [
       "469"
      ]
     },
     "execution_count": 14,
     "metadata": {},
     "output_type": "execute_result"
    }
   ],
   "source": [
    "dfFalse = pd.DataFrame(columns=['file_name', 'label']) # comment: FP or FT\n",
    "for i, row in dfPred.iterrows():\n",
    "    # print(row)\n",
    "    fname = row['file_name']\n",
    "    #print(fname)\n",
    "    pred = row['label']\n",
    "    if ('negative' in fname and pred == 1.0) or ('positive' in fname and pred == 0.0):\n",
    "        fname = fname[-4:] if 'positive' in fname else getNegativeName(fname)\n",
    "        dfFalse = dfFalse.append([{'file_name': fname, 'label': pred}], ignore_index=True)\n",
    "        \n",
    "len(dfFalse)"
   ]
  },
  {
   "cell_type": "code",
   "execution_count": 15,
   "metadata": {},
   "outputs": [],
   "source": [
    "dfFalse.to_csv('pred_false.csv')"
   ]
  },
  {
   "cell_type": "markdown",
   "metadata": {},
   "source": [
    "# Analyze acc  \n",
    "----------------------------------------------------\n",
    "**pred_false.csv**: false pred of test data  \n",
    "**test_preds.csv**: pred of test data  "
   ]
  },
  {
   "cell_type": "code",
   "execution_count": 16,
   "metadata": {},
   "outputs": [],
   "source": [
    "import pandas as pd\n",
    "import numpy as np\n",
    "import os\n",
    "from data_filter import DataFilter\n",
    "from calculate_rmsd import RMSDCalculator"
   ]
  },
  {
   "cell_type": "code",
   "execution_count": 17,
   "metadata": {},
   "outputs": [],
   "source": [
    "rmsdCal = RMSDCalculator()\n",
    "datafilter = DataFilter()"
   ]
  },
  {
   "cell_type": "code",
   "execution_count": 25,
   "metadata": {},
   "outputs": [
    {
     "data": {
      "text/html": [
       "<div>\n",
       "<style scoped>\n",
       "    .dataframe tbody tr th:only-of-type {\n",
       "        vertical-align: middle;\n",
       "    }\n",
       "\n",
       "    .dataframe tbody tr th {\n",
       "        vertical-align: top;\n",
       "    }\n",
       "\n",
       "    .dataframe thead th {\n",
       "        text-align: right;\n",
       "    }\n",
       "</style>\n",
       "<table border=\"1\" class=\"dataframe\">\n",
       "  <thead>\n",
       "    <tr style=\"text-align: right;\">\n",
       "      <th></th>\n",
       "      <th>Unnamed: 0</th>\n",
       "      <th>file_name</th>\n",
       "      <th>label</th>\n",
       "    </tr>\n",
       "  </thead>\n",
       "  <tbody>\n",
       "    <tr>\n",
       "      <th>464</th>\n",
       "      <td>464</td>\n",
       "      <td>2o0u_ligand_2</td>\n",
       "      <td>1.0</td>\n",
       "    </tr>\n",
       "    <tr>\n",
       "      <th>465</th>\n",
       "      <td>465</td>\n",
       "      <td>6gfs_ligand_1</td>\n",
       "      <td>1.0</td>\n",
       "    </tr>\n",
       "    <tr>\n",
       "      <th>466</th>\n",
       "      <td>466</td>\n",
       "      <td>4b6r_ligand_5</td>\n",
       "      <td>1.0</td>\n",
       "    </tr>\n",
       "    <tr>\n",
       "      <th>467</th>\n",
       "      <td>467</td>\n",
       "      <td>1alw_ligand_2</td>\n",
       "      <td>1.0</td>\n",
       "    </tr>\n",
       "    <tr>\n",
       "      <th>468</th>\n",
       "      <td>468</td>\n",
       "      <td>2zdm_ligand_5</td>\n",
       "      <td>1.0</td>\n",
       "    </tr>\n",
       "  </tbody>\n",
       "</table>\n",
       "</div>"
      ],
      "text/plain": [
       "     Unnamed: 0      file_name  label\n",
       "464         464  2o0u_ligand_2    1.0\n",
       "465         465  6gfs_ligand_1    1.0\n",
       "466         466  4b6r_ligand_5    1.0\n",
       "467         467  1alw_ligand_2    1.0\n",
       "468         468  2zdm_ligand_5    1.0"
      ]
     },
     "execution_count": 25,
     "metadata": {},
     "output_type": "execute_result"
    }
   ],
   "source": [
    "predFalseDf = pd.read_csv('./pred_false.csv')\n",
    "predFalseDf.tail()"
   ]
  },
  {
   "cell_type": "code",
   "execution_count": 19,
   "metadata": {},
   "outputs": [
    {
     "data": {
      "text/html": [
       "<div>\n",
       "<style scoped>\n",
       "    .dataframe tbody tr th:only-of-type {\n",
       "        vertical-align: middle;\n",
       "    }\n",
       "\n",
       "    .dataframe tbody tr th {\n",
       "        vertical-align: top;\n",
       "    }\n",
       "\n",
       "    .dataframe thead th {\n",
       "        text-align: right;\n",
       "    }\n",
       "</style>\n",
       "<table border=\"1\" class=\"dataframe\">\n",
       "  <thead>\n",
       "    <tr style=\"text-align: right;\">\n",
       "      <th></th>\n",
       "      <th>Unnamed: 0</th>\n",
       "      <th>file_name</th>\n",
       "      <th>label</th>\n",
       "    </tr>\n",
       "  </thead>\n",
       "  <tbody>\n",
       "    <tr>\n",
       "      <th>0</th>\n",
       "      <td>0</td>\n",
       "      <td>../positive_graph_featureSimplified/1v2s</td>\n",
       "      <td>0.0</td>\n",
       "    </tr>\n",
       "    <tr>\n",
       "      <th>1</th>\n",
       "      <td>1</td>\n",
       "      <td>../positive_graph_featureSimplified/4lxz</td>\n",
       "      <td>1.0</td>\n",
       "    </tr>\n",
       "    <tr>\n",
       "      <th>2</th>\n",
       "      <td>2</td>\n",
       "      <td>../positive_graph_featureSimplified/4tmk</td>\n",
       "      <td>1.0</td>\n",
       "    </tr>\n",
       "    <tr>\n",
       "      <th>3</th>\n",
       "      <td>3</td>\n",
       "      <td>../positive_graph_featureSimplified/5efh</td>\n",
       "      <td>0.0</td>\n",
       "    </tr>\n",
       "    <tr>\n",
       "      <th>4</th>\n",
       "      <td>4</td>\n",
       "      <td>../positive_graph_featureSimplified/3ps1</td>\n",
       "      <td>1.0</td>\n",
       "    </tr>\n",
       "  </tbody>\n",
       "</table>\n",
       "</div>"
      ],
      "text/plain": [
       "   Unnamed: 0                                 file_name  label\n",
       "0           0  ../positive_graph_featureSimplified/1v2s    0.0\n",
       "1           1  ../positive_graph_featureSimplified/4lxz    1.0\n",
       "2           2  ../positive_graph_featureSimplified/4tmk    1.0\n",
       "3           3  ../positive_graph_featureSimplified/5efh    0.0\n",
       "4           4  ../positive_graph_featureSimplified/3ps1    1.0"
      ]
     },
     "execution_count": 19,
     "metadata": {},
     "output_type": "execute_result"
    }
   ],
   "source": [
    "testPredsDf = pd.read_csv('./test_preds.csv')\n",
    "testPredsDf.head()"
   ]
  },
  {
   "cell_type": "code",
   "execution_count": 28,
   "metadata": {},
   "outputs": [
    {
     "name": "stdout",
     "output_type": "stream",
     "text": [
      "1kc7_ligand_3\n",
      "1ghy_ligand_4\n",
      "3tzm_ligand_2\n",
      "5igm_ligand_8\n",
      "4wov_ligand_5\n",
      "2pwc_ligand_9\n",
      "4ca5_ligand_9\n",
      "297 297\n"
     ]
    }
   ],
   "source": [
    "fns = []\n",
    "fnRmsds = []\n",
    "for i, row in predFalseDf.iterrows():\n",
    "    if 'ligand' in row['file_name']:\n",
    "        fns.append(row['file_name'])\n",
    "        \n",
    "        dataId = datafilter.getDataID(row['file_name'])\n",
    "        posFileName = datafilter.getFilePathByDataID(dataId[:4])\n",
    "        negFileName = datafilter.getFilePathByDataID(dataId)\n",
    "        rmsd = rmsdCal.calculateRMSD(posFileName, negFileName)\n",
    "        '''\n",
    "        Analyze FPs in [7.5, 8.0]\n",
    "        '''\n",
    "        if rmsd > 7.5 and rmsd < 8.0:\n",
    "            print(row['file_name'])\n",
    "        fnRmsds.append(rmsd)\n",
    "print(len(fns), len(fnRmsds))"
   ]
  },
  {
   "cell_type": "markdown",
   "metadata": {},
   "source": [
    "## draw figs"
   ]
  },
  {
   "cell_type": "code",
   "execution_count": 21,
   "metadata": {},
   "outputs": [],
   "source": [
    "import seaborn as sns\n",
    "import matplotlib.pyplot as plt\n",
    "from scipy.stats import norm"
   ]
  },
  {
   "cell_type": "code",
   "execution_count": 22,
   "metadata": {},
   "outputs": [],
   "source": [
    "fnRmsds2To10 = []\n",
    "for i in fnRmsds:\n",
    "    if i >2.0 and i < 10.0:\n",
    "        fnRmsds2To10.append(i)"
   ]
  },
  {
   "cell_type": "code",
   "execution_count": 23,
   "metadata": {
    "scrolled": true
   },
   "outputs": [
    {
     "name": "stderr",
     "output_type": "stream",
     "text": [
      "/home/kmk_gmx/anaconda3/lib/python3.8/site-packages/seaborn/distributions.py:2551: FutureWarning: `distplot` is a deprecated function and will be removed in a future version. Please adapt your code to use either `displot` (a figure-level function with similar flexibility) or `histplot` (an axes-level function for histograms).\n",
      "  warnings.warn(msg, FutureWarning)\n"
     ]
    },
    {
     "data": {
      "image/png": "[encoded data removed]",
      "text/plain": [
       "<Figure size 432x288 with 1 Axes>"
      ]
     },
     "metadata": {
      "needs_background": "light"
     },
     "output_type": "display_data"
    }
   ],
   "source": [
    "fig = plt.figure()\n",
    "ax = fig.add_subplot(1,1,1)\n",
    "ax.set_title(\"RMSD Trend\")\n",
    "rmsdContFigs = sns.distplot(fnRmsds2To10, axlabel='RMSD', color=\"red\", ax=ax)"
   ]
  },
  {
   "cell_type": "code",
   "execution_count": 24,
   "metadata": {},
   "outputs": [],
   "source": [
    "rmsdContFigs.get_figure().savefig('../figs/analyze_acc_trend_34gat.png', dpi=400)"
   ]
  },
  {
   "cell_type": "code",
   "execution_count": 27,
   "metadata": {},
   "outputs": [
    {
     "name": "stdout",
     "output_type": "stream",
     "text": [
      "Unnamed: 0       3\n",
      "file_name     5mjn\n",
      "label            0\n",
      "Name: 3, dtype: object\n",
      "Unnamed: 0      13\n",
      "file_name     5u11\n",
      "label            0\n",
      "Name: 13, dtype: object\n",
      "Unnamed: 0      74\n",
      "file_name     3lzu\n",
      "label            0\n",
      "Name: 74, dtype: object\n",
      "Unnamed: 0              172\n",
      "file_name     4lxz_ligand_2\n",
      "label                     1\n",
      "Name: 172, dtype: object\n",
      "Unnamed: 0              178\n",
      "file_name     5ioz_ligand_5\n",
      "label                     1\n",
      "Name: 178, dtype: object\n",
      "Unnamed: 0              206\n",
      "file_name     4w9p_ligand_4\n",
      "label                     1\n",
      "Name: 206, dtype: object\n",
      "Unnamed: 0              291\n",
      "file_name     6gf9_ligand_7\n",
      "label                     1\n",
      "Name: 291, dtype: object\n"
     ]
    }
   ],
   "source": [
    "for i, rmsd in enumerate(fnRmsds2To10):\n",
    "    if rmsd >= 7.5 and rmsd <= 8:\n",
    "        print(predFalseDf.iloc[i])"
   ]
  }
 ],
 "metadata": {
  "kernelspec": {
   "display_name": "Python 3",
   "language": "python",
   "name": "python3"
  },
  "language_info": {
   "codemirror_mode": {
    "name": "ipython",
    "version": 3
   },
   "file_extension": ".py",
   "mimetype": "text/x-python",
   "name": "python",
   "nbconvert_exporter": "python",
   "pygments_lexer": "ipython3",
   "version": "3.8.5"
  }
 },
 "nbformat": 4,
 "nbformat_minor": 4
}
