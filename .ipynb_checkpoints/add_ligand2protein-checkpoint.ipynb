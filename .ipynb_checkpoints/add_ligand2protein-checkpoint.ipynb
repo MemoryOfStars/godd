{
 "cells": [
  {
   "cell_type": "markdown",
   "metadata": {},
   "source": [
    "Add docking ligand pdb files to protein pdb files"
   ]
  },
  {
   "cell_type": "code",
   "execution_count": 1,
   "metadata": {},
   "outputs": [],
   "source": [
    "import os"
   ]
  },
  {
   "cell_type": "code",
   "execution_count": null,
   "metadata": {},
   "outputs": [],
   "source": [
    "ligand_path = '/home/kmk_gmx/Desktop/bioinfo/negative_ligand_pdb/'\n",
    "protein_path = '/home/kmk_gmx/Desktop/bioinfo/refined-set/'\n",
    "tar_path = '/home/kmk_gmx/Desktop/bioinfo/negative_pdb/'\n",
    "for ligand_name in os.listdir(ligand_path):\n",
    "    ligand_pdb = []\n",
    "    with open(ligand_path+ligand_name,'r') as ligand_file:\n",
    "        ligand_pdb = ligand_file.readlines()\n",
    "    protein_pdb = []\n",
    "    with open()"
   ]
  }
 ],
 "metadata": {
  "kernelspec": {
   "display_name": "Python 3",
   "language": "python",
   "name": "python3"
  },
  "language_info": {
   "codemirror_mode": {
    "name": "ipython",
    "version": 3
   },
   "file_extension": ".py",
   "mimetype": "text/x-python",
   "name": "python",
   "nbconvert_exporter": "python",
   "pygments_lexer": "ipython3",
   "version": "3.8.5"
  }
 },
 "nbformat": 4,
 "nbformat_minor": 4
}
