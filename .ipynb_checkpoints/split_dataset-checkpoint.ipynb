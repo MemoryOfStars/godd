{
 "cells": [
  {
   "cell_type": "markdown",
   "id": "b8c26354",
   "metadata": {},
   "source": [
    "划分数据集为训练集和验证集（不能有相同的receptor-lignad pair）\n"
   ]
  },
  {
   "cell_type": "code",
   "execution_count": 1,
   "id": "e7c1fea0",
   "metadata": {},
   "outputs": [],
   "source": [
    "import pandas as pd\n",
    "import numpy as np\n",
    "import os\n",
    "from sklearn.utils import shuffle"
   ]
  },
  {
   "cell_type": "code",
   "execution_count": 2,
   "id": "140ab6b9",
   "metadata": {},
   "outputs": [
    {
     "data": {
      "text/plain": [
       "4852"
      ]
     },
     "execution_count": 2,
     "metadata": {},
     "output_type": "execute_result"
    }
   ],
   "source": [
    "dfPosi = pd.read_csv('./positive_dataset.csv')\n",
    "len(dfPosi)"
   ]
  },
  {
   "cell_type": "code",
   "execution_count": 3,
   "id": "ec8e126e",
   "metadata": {
    "scrolled": true
   },
   "outputs": [
    {
     "data": {
      "text/plain": [
       "21778"
      ]
     },
     "execution_count": 3,
     "metadata": {},
     "output_type": "execute_result"
    }
   ],
   "source": [
    "dfNega = pd.read_csv('./negative_dataset.csv')\n",
    "dfNega.head()\n",
    "len(dfNega)"
   ]
  },
  {
   "cell_type": "code",
   "execution_count": 4,
   "id": "31c21440",
   "metadata": {
    "scrolled": true
   },
   "outputs": [
    {
     "data": {
      "text/plain": [
       "26630"
      ]
     },
     "execution_count": 4,
     "metadata": {},
     "output_type": "execute_result"
    }
   ],
   "source": [
    "dfAll = pd.concat([dfPosi, dfNega])\n",
    "dfAll.head()\n",
    "len(dfAll)"
   ]
  },
  {
   "cell_type": "code",
   "execution_count": 5,
   "id": "67aa2fff",
   "metadata": {
    "scrolled": false
   },
   "outputs": [
    {
     "data": {
      "text/html": [
       "<div>\n",
       "<style scoped>\n",
       "    .dataframe tbody tr th:only-of-type {\n",
       "        vertical-align: middle;\n",
       "    }\n",
       "\n",
       "    .dataframe tbody tr th {\n",
       "        vertical-align: top;\n",
       "    }\n",
       "\n",
       "    .dataframe thead th {\n",
       "        text-align: right;\n",
       "    }\n",
       "</style>\n",
       "<table border=\"1\" class=\"dataframe\">\n",
       "  <thead>\n",
       "    <tr style=\"text-align: right;\">\n",
       "      <th></th>\n",
       "      <th>Unnamed: 0</th>\n",
       "      <th>file_name</th>\n",
       "      <th>label</th>\n",
       "    </tr>\n",
       "  </thead>\n",
       "  <tbody>\n",
       "    <tr>\n",
       "      <th>20871</th>\n",
       "      <td>20871</td>\n",
       "      <td>../negative_graph_save/4de5_ligand_2</td>\n",
       "      <td>0.0</td>\n",
       "    </tr>\n",
       "    <tr>\n",
       "      <th>11994</th>\n",
       "      <td>11994</td>\n",
       "      <td>../negative_graph_save/1a4k_ligand_7</td>\n",
       "      <td>0.0</td>\n",
       "    </tr>\n",
       "    <tr>\n",
       "      <th>12196</th>\n",
       "      <td>12196</td>\n",
       "      <td>../negative_graph_save/5ngz_ligand_2</td>\n",
       "      <td>0.0</td>\n",
       "    </tr>\n",
       "    <tr>\n",
       "      <th>20030</th>\n",
       "      <td>20030</td>\n",
       "      <td>../negative_graph_save/4rvr_ligand_4</td>\n",
       "      <td>0.0</td>\n",
       "    </tr>\n",
       "    <tr>\n",
       "      <th>20876</th>\n",
       "      <td>20876</td>\n",
       "      <td>../negative_graph_save/2cgf_ligand_5</td>\n",
       "      <td>0.0</td>\n",
       "    </tr>\n",
       "  </tbody>\n",
       "</table>\n",
       "</div>"
      ],
      "text/plain": [
       "       Unnamed: 0                             file_name  label\n",
       "20871       20871  ../negative_graph_save/4de5_ligand_2    0.0\n",
       "11994       11994  ../negative_graph_save/1a4k_ligand_7    0.0\n",
       "12196       12196  ../negative_graph_save/5ngz_ligand_2    0.0\n",
       "20030       20030  ../negative_graph_save/4rvr_ligand_4    0.0\n",
       "20876       20876  ../negative_graph_save/2cgf_ligand_5    0.0"
      ]
     },
     "execution_count": 5,
     "metadata": {},
     "output_type": "execute_result"
    }
   ],
   "source": [
    "dfAll = shuffle(dfAll)\n",
    "dfAll.head()"
   ]
  },
  {
   "cell_type": "code",
   "execution_count": 14,
   "id": "2c8a0930",
   "metadata": {},
   "outputs": [
    {
     "data": {
      "text/plain": [
       "'1cgl'"
      ]
     },
     "execution_count": 14,
     "metadata": {},
     "output_type": "execute_result"
    }
   ],
   "source": [
    "dfAll.iloc[3066]['file_name'][-4:]\n",
    "dfAll.iloc[11994]['file_name'][-13:-9]"
   ]
  },
  {
   "cell_type": "code",
   "execution_count": 22,
   "id": "fb62fae5",
   "metadata": {},
   "outputs": [],
   "source": [
    "dfTrain = pd.DataFrame(columns=['file_name', 'label'])\n",
    "dfValidation = pd.DataFrame(columns=['file_name', 'label'])\n",
    "numTrain = 0\n",
    "numValidation = 0\n",
    "dictTrain = []\n",
    "dictVali = []"
   ]
  },
  {
   "cell_type": "code",
   "execution_count": 23,
   "id": "dd2dace7",
   "metadata": {},
   "outputs": [
    {
     "name": "stdout",
     "output_type": "stream",
     "text": [
      "26629"
     ]
    }
   ],
   "source": [
    "count = 0\n",
    "for i, row in dfAll.iterrows():\n",
    "    print('\\r' + str(count), end='')\n",
    "    count+=1\n",
    "    name = ''\n",
    "    if row['label'] == 0.0:\n",
    "        name = row['file_name'][-13:-9]\n",
    "    else:\n",
    "        name = row['file_name'][-4:]\n",
    "    if name in dictTrain:\n",
    "        dfTrain.loc[numTrain] = row\n",
    "        numTrain += 1\n",
    "    elif name in dictVali:\n",
    "        dfValidation.loc[numValidation] = row\n",
    "        numValidation += 1\n",
    "    else:\n",
    "        if len(dfTrain) > 4*len(dfValidation):\n",
    "            dfValidation.loc[numValidation] = row\n",
    "            numValidation += 1\n",
    "            dictVali.append(name)\n",
    "        else:\n",
    "            dfTrain.loc[numTrain] = row\n",
    "            numTrain += 1\n",
    "            dictTrain.append(name)"
   ]
  },
  {
   "cell_type": "code",
   "execution_count": 24,
   "id": "9cb26c07",
   "metadata": {
    "scrolled": false
   },
   "outputs": [
    {
     "name": "stdout",
     "output_type": "stream",
     "text": [
      "21282 5348\n"
     ]
    }
   ],
   "source": [
    "print(numTrain, numValidation)"
   ]
  },
  {
   "cell_type": "code",
   "execution_count": 25,
   "id": "4f9f0e1b",
   "metadata": {},
   "outputs": [],
   "source": [
    "dfTrain.to_csv('./train_dataset.csv')\n",
    "dfValidation.to_csv('./validation_dataset.csv')"
   ]
  }
 ],
 "metadata": {
  "kernelspec": {
   "display_name": "Python 3 (ipykernel)",
   "language": "python",
   "name": "python3"
  },
  "language_info": {
   "codemirror_mode": {
    "name": "ipython",
    "version": 3
   },
   "file_extension": ".py",
   "mimetype": "text/x-python",
   "name": "python",
   "nbconvert_exporter": "python",
   "pygments_lexer": "ipython3",
   "version": "3.8.3"
  }
 },
 "nbformat": 4,
 "nbformat_minor": 5
}
