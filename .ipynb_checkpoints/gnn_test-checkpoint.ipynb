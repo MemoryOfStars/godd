{
 "cells": [
  {
   "cell_type": "code",
   "execution_count": 1,
   "metadata": {},
   "outputs": [
    {
     "name": "stderr",
     "output_type": "stream",
     "text": [
      "Using backend: pytorch\n"
     ]
    }
   ],
   "source": [
    "import time\n",
    "import os\n",
    "import pandas as pd\n",
    "import numpy as np\n",
    "import torch\n",
    "import gc\n",
    "import dgl\n",
    "import torch.nn as nn\n",
    "import torch.nn.functional as F\n",
    "from dgl.nn.pytorch import GraphConv\n",
    "from torch.autograd import Variable\n",
    "from dgl.data import DGLDataset\n",
    "from sklearn.utils import shuffle\n",
    "from gcn import GCN\n",
    "from my_dataset import MyDataset"
   ]
  },
  {
   "cell_type": "code",
   "execution_count": 2,
   "metadata": {},
   "outputs": [
    {
     "name": "stdout",
     "output_type": "stream",
     "text": [
      "dataset length: 4850\n"
     ]
    }
   ],
   "source": [
    "my_batch_size = 30\n",
    "my_dataset = MyDataset('./test_dataset.csv', my_batch_size)\n",
    "\n",
    "from dgl.dataloading.pytorch import GraphDataLoader\n",
    "from torch.utils.data.sampler import SubsetRandomSampler\n",
    "\n",
    "num_examples = len(my_dataset)\n",
    "print(\"dataset length:\", num_examples)\n",
    "\n",
    "test_sampler = SubsetRandomSampler(torch.arange(num_examples))\n",
    "test_dataloader = GraphDataLoader(my_dataset, sampler=test_sampler, batch_size=my_batch_size, drop_last=False)"
   ]
  },
  {
   "cell_type": "code",
   "execution_count": 3,
   "metadata": {
    "scrolled": true
   },
   "outputs": [
    {
     "data": {
      "text/plain": [
       "GCN(\n",
       "  (gat): GATConv(\n",
       "    (fc): Linear(in_features=44, out_features=44, bias=False)\n",
       "    (feat_drop): Dropout(p=0.0, inplace=False)\n",
       "    (attn_drop): Dropout(p=0.0, inplace=False)\n",
       "    (leaky_relu): LeakyReLU(negative_slope=0.2)\n",
       "  )\n",
       "  (conv1): GraphConv(in=44, out=80, normalization=both, activation=None)\n",
       "  (conv2): GraphConv(in=80, out=160, normalization=both, activation=None)\n",
       "  (conv3): GraphConv(in=160, out=112, normalization=both, activation=None)\n",
       "  (conv4): GraphConv(in=112, out=160, normalization=both, activation=None)\n",
       "  (conv5): GraphConv(in=160, out=176, normalization=both, activation=None)\n",
       "  (conv6): GraphConv(in=176, out=96, normalization=both, activation=None)\n",
       "  (conv7): GraphConv(in=96, out=144, normalization=both, activation=None)\n",
       "  (conv8): GraphConv(in=144, out=96, normalization=both, activation=None)\n",
       "  (conv9): GraphConv(in=96, out=128, normalization=both, activation=None)\n",
       "  (conv10): GraphConv(in=128, out=96, normalization=both, activation=None)\n",
       "  (conv11): GraphConv(in=96, out=160, normalization=both, activation=None)\n",
       "  (dnn1): Linear(in_features=160, out_features=140, bias=True)\n",
       "  (dnn2): Linear(in_features=140, out_features=1, bias=True)\n",
       ")"
      ]
     },
     "execution_count": 3,
     "metadata": {},
     "output_type": "execute_result"
    }
   ],
   "source": [
    "modelPath = '../models/gcn1639381295GCNWithNewTestDataset.pkl'\n",
    "model = torch.load(modelPath)\n",
    "model"
   ]
  },
  {
   "cell_type": "code",
   "execution_count": 4,
   "metadata": {},
   "outputs": [
    {
     "data": {
      "text/plain": [
       "0.7521649484536083"
      ]
     },
     "execution_count": 4,
     "metadata": {},
     "output_type": "execute_result"
    }
   ],
   "source": [
    "num_correct = 0\n",
    "num_tests = 0\n",
    "FP = 0\n",
    "FN = 0\n",
    "device = torch.device(\"cuda:0\")\n",
    "for batched_graph, labels in test_dataloader:\n",
    "    batched_graph, labels = batched_graph.to(device), labels.to(device)\n",
    "    pred = model(batched_graph, batched_graph.ndata['h'].float()).squeeze(1).squeeze(1)\n",
    "    # print(pred, labels)\n",
    "    for i, p in enumerate(pred.round()):\n",
    "        if p != labels[i]:\n",
    "            FP += 1 if p == torch.tensor(1.0) else 0\n",
    "            FN += 1 if p == torch.tensor(0.0) else 0\n",
    "\n",
    "    num_correct += (pred.round() == labels).sum().item() # TP+TN\n",
    "    num_tests += len(labels) # TP+TN+FP+FN\n",
    "num_correct/num_tests"
   ]
  },
  {
   "cell_type": "markdown",
   "metadata": {},
   "source": [
    "# Find out the inside of acc"
   ]
  },
  {
   "cell_type": "code",
   "execution_count": 6,
   "metadata": {
    "scrolled": true
   },
   "outputs": [
    {
     "data": {
      "text/plain": [
       "2936    ../negative_graph_save/4tz2_ligand_4\n",
       "2937    ../negative_graph_save/2x95_ligand_9\n",
       "2938    ../negative_graph_save/5vja_ligand_6\n",
       "2939             ../positive_graph_save/2za0\n",
       "2940             ../positive_graph_save/2vmf\n",
       "Name: file_name, dtype: object"
      ]
     },
     "execution_count": 6,
     "metadata": {},
     "output_type": "execute_result"
    }
   ],
   "source": [
    "dfTest = pd.read_csv('./test_dataset.csv')\n",
    "testFiles = dfTest['file_name']\n",
    "testFiles[-10:-5]"
   ]
  },
  {
   "cell_type": "code",
   "execution_count": 7,
   "metadata": {
    "scrolled": true
   },
   "outputs": [
    {
     "data": {
      "text/plain": [
       "0    ../negative_graph_save/3iof_ligand_1\n",
       "1    ../negative_graph_save/4bao_ligand_6\n",
       "2             ../positive_graph_save/6f20\n",
       "3    ../negative_graph_save/2vot_ligand_3\n",
       "4    ../negative_graph_save/2brb_ligand_4\n",
       "Name: file_name, dtype: object"
      ]
     },
     "execution_count": 7,
     "metadata": {},
     "output_type": "execute_result"
    }
   ],
   "source": [
    "testFiles[:5]"
   ]
  },
  {
   "cell_type": "code",
   "execution_count": 8,
   "metadata": {},
   "outputs": [
    {
     "name": "stdout",
     "output_type": "stream",
     "text": [
      "2945"
     ]
    }
   ],
   "source": [
    "testPreds = []\n",
    "for i, file in enumerate(testFiles):\n",
    "    g = dgl.load_graphs(file)[0][0].to(device) # load_graphs returns tuple(graphs, labels)\n",
    "    pred = model(g, g.ndata['h'].float()).squeeze(1).squeeze(1)\n",
    "    testPreds.append(pred.round().item())\n",
    "    print('\\r' + str(i), end='')"
   ]
  },
  {
   "cell_type": "code",
   "execution_count": 9,
   "metadata": {
    "scrolled": false
   },
   "outputs": [
    {
     "data": {
      "text/plain": [
       "True"
      ]
     },
     "execution_count": 9,
     "metadata": {},
     "output_type": "execute_result"
    }
   ],
   "source": [
    "len(testFiles) == len(testPreds)"
   ]
  },
  {
   "cell_type": "code",
   "execution_count": 10,
   "metadata": {
    "scrolled": false
   },
   "outputs": [
    {
     "data": {
      "text/html": [
       "<div>\n",
       "<style scoped>\n",
       "    .dataframe tbody tr th:only-of-type {\n",
       "        vertical-align: middle;\n",
       "    }\n",
       "\n",
       "    .dataframe tbody tr th {\n",
       "        vertical-align: top;\n",
       "    }\n",
       "\n",
       "    .dataframe thead th {\n",
       "        text-align: right;\n",
       "    }\n",
       "</style>\n",
       "<table border=\"1\" class=\"dataframe\">\n",
       "  <thead>\n",
       "    <tr style=\"text-align: right;\">\n",
       "      <th></th>\n",
       "      <th>file_name</th>\n",
       "      <th>label</th>\n",
       "    </tr>\n",
       "  </thead>\n",
       "  <tbody>\n",
       "    <tr>\n",
       "      <th>0</th>\n",
       "      <td>../negative_graph_save/3iof_ligand_1</td>\n",
       "      <td>0.0</td>\n",
       "    </tr>\n",
       "    <tr>\n",
       "      <th>1</th>\n",
       "      <td>../negative_graph_save/4bao_ligand_6</td>\n",
       "      <td>0.0</td>\n",
       "    </tr>\n",
       "    <tr>\n",
       "      <th>2</th>\n",
       "      <td>../positive_graph_save/6f20</td>\n",
       "      <td>1.0</td>\n",
       "    </tr>\n",
       "    <tr>\n",
       "      <th>3</th>\n",
       "      <td>../negative_graph_save/2vot_ligand_3</td>\n",
       "      <td>0.0</td>\n",
       "    </tr>\n",
       "    <tr>\n",
       "      <th>4</th>\n",
       "      <td>../negative_graph_save/2brb_ligand_4</td>\n",
       "      <td>0.0</td>\n",
       "    </tr>\n",
       "  </tbody>\n",
       "</table>\n",
       "</div>"
      ],
      "text/plain": [
       "                              file_name  label\n",
       "0  ../negative_graph_save/3iof_ligand_1    0.0\n",
       "1  ../negative_graph_save/4bao_ligand_6    0.0\n",
       "2           ../positive_graph_save/6f20    1.0\n",
       "3  ../negative_graph_save/2vot_ligand_3    0.0\n",
       "4  ../negative_graph_save/2brb_ligand_4    0.0"
      ]
     },
     "execution_count": 10,
     "metadata": {},
     "output_type": "execute_result"
    }
   ],
   "source": [
    "dfPred = pd.DataFrame(columns=['file_name', 'label'])\n",
    "dfPred['file_name'] = testFiles\n",
    "dfPred['label'] = testPreds\n",
    "dfPred.head()"
   ]
  },
  {
   "cell_type": "code",
   "execution_count": 12,
   "metadata": {},
   "outputs": [],
   "source": [
    "def getNegativeName(file_name):\n",
    "    if 'negative' not in file_name:\n",
    "        return ''\n",
    "    start = file_name.find('ligand')-5\n",
    "    end = file_name.find('ligand')+8\n",
    "    return file_name[start:end]"
   ]
  },
  {
   "cell_type": "code",
   "execution_count": 14,
   "metadata": {},
   "outputs": [
    {
     "data": {
      "text/plain": [
       "'6ny0_ligand_7'"
      ]
     },
     "execution_count": 14,
     "metadata": {},
     "output_type": "execute_result"
    }
   ],
   "source": [
    "getNegativeName('../negative_graph_save8A_test/6ny0_ligand_7.p')"
   ]
  },
  {
   "cell_type": "code",
   "execution_count": 15,
   "metadata": {},
   "outputs": [
    {
     "data": {
      "text/plain": [
       "'6f20'"
      ]
     },
     "execution_count": 15,
     "metadata": {},
     "output_type": "execute_result"
    }
   ],
   "source": [
    "'./positive_graph_save/6f20'[-4:]"
   ]
  },
  {
   "cell_type": "code",
   "execution_count": 11,
   "metadata": {},
   "outputs": [],
   "source": [
    "dfPred.to_csv('./test_preds.csv')"
   ]
  },
  {
   "cell_type": "code",
   "execution_count": 22,
   "metadata": {},
   "outputs": [
    {
     "data": {
      "text/plain": [
       "633"
      ]
     },
     "execution_count": 22,
     "metadata": {},
     "output_type": "execute_result"
    }
   ],
   "source": [
    "dfFalse = pd.DataFrame(columns=['file_name', 'label']) # comment: FP or FT\n",
    "for i, row in dfPred.iterrows():\n",
    "    # print(row)\n",
    "    fname = row['file_name']\n",
    "    #print(fname)\n",
    "    pred = row['label']\n",
    "    if ('negative' in fname and pred == 1.0) or ('positive' in fname and pred == 0.0):\n",
    "        fname = fname[-4:] if 'positive' in fname else getNegativeName(fname)\n",
    "        dfFalse = dfFalse.append([{'file_name': fname, 'label': pred}], ignore_index=True)\n",
    "        \n",
    "len(dfFalse)"
   ]
  },
  {
   "cell_type": "code",
   "execution_count": 23,
   "metadata": {},
   "outputs": [],
   "source": [
    "dfFalse.to_csv('pred_false.csv')"
   ]
  }
 ],
 "metadata": {
  "kernelspec": {
   "display_name": "Python 3",
   "language": "python",
   "name": "python3"
  },
  "language_info": {
   "codemirror_mode": {
    "name": "ipython",
    "version": 3
   },
   "file_extension": ".py",
   "mimetype": "text/x-python",
   "name": "python",
   "nbconvert_exporter": "python",
   "pygments_lexer": "ipython3",
   "version": "3.8.5"
  }
 },
 "nbformat": 4,
 "nbformat_minor": 4
}
