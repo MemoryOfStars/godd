{
 "cells": [
  {
   "cell_type": "code",
   "execution_count": 6,
   "metadata": {},
   "outputs": [],
   "source": [
    "import time\n",
    "import os\n",
    "import pandas as pd\n",
    "import numpy as np\n",
    "import torch\n",
    "import gc\n",
    "import dgl\n",
    "import torch.nn as nn\n",
    "import torch.nn.functional as F\n",
    "from dgl.nn.pytorch import GraphConv\n",
    "from torch.autograd import Variable\n",
    "from dgl.data import DGLDataset\n",
    "from sklearn.utils import shuffle\n",
    "from gcn import GCN\n",
    "from my_dataset import MyDataset"
   ]
  },
  {
   "cell_type": "code",
   "execution_count": 11,
   "metadata": {},
   "outputs": [
    {
     "name": "stdout",
     "output_type": "stream",
     "text": [
      "dataset length: 4649\n"
     ]
    }
   ],
   "source": [
    "my_batch_size = 30\n",
    "my_dataset = MyDataset('./test_dataset.csv', my_batch_size)\n",
    "\n",
    "from dgl.dataloading.pytorch import GraphDataLoader\n",
    "from torch.utils.data.sampler import SubsetRandomSampler\n",
    "\n",
    "num_examples = len(my_dataset)\n",
    "print(\"dataset length:\", num_examples)\n",
    "\n",
    "test_sampler = SubsetRandomSampler(torch.arange(num_examples))\n",
    "test_dataloader = GraphDataLoader(my_dataset, sampler=test_sampler, batch_size=my_batch_size, drop_last=False)"
   ]
  },
  {
   "cell_type": "code",
   "execution_count": 36,
   "metadata": {
    "scrolled": true
   },
   "outputs": [
    {
     "data": {
      "text/plain": [
       "GCN(\n",
       "  (conv1): GraphConv(in=44, out=80, normalization=both, activation=None)\n",
       "  (conv2): GraphConv(in=80, out=160, normalization=both, activation=None)\n",
       "  (conv3): GraphConv(in=160, out=112, normalization=both, activation=None)\n",
       "  (conv4): GraphConv(in=112, out=160, normalization=both, activation=None)\n",
       "  (conv5): GraphConv(in=160, out=176, normalization=both, activation=None)\n",
       "  (conv6): GraphConv(in=176, out=96, normalization=both, activation=None)\n",
       "  (conv7): GraphConv(in=96, out=144, normalization=both, activation=None)\n",
       "  (conv8): GraphConv(in=144, out=96, normalization=both, activation=None)\n",
       "  (conv9): GraphConv(in=96, out=128, normalization=both, activation=None)\n",
       "  (conv10): GraphConv(in=128, out=96, normalization=both, activation=None)\n",
       "  (conv11): GraphConv(in=96, out=160, normalization=both, activation=None)\n",
       "  (dnn1): Linear(in_features=160, out_features=140, bias=True)\n",
       "  (dnn2): Linear(in_features=140, out_features=1, bias=True)\n",
       ")"
      ]
     },
     "execution_count": 36,
     "metadata": {},
     "output_type": "execute_result"
    }
   ],
   "source": [
    "modelPath = '../models/gcn1638302501.pkl'\n",
    "model = torch.load(modelPath)\n",
    "model"
   ]
  },
  {
   "cell_type": "code",
   "execution_count": 37,
   "metadata": {},
   "outputs": [
    {
     "data": {
      "text/plain": [
       "0.6205635620563562"
      ]
     },
     "execution_count": 37,
     "metadata": {},
     "output_type": "execute_result"
    }
   ],
   "source": [
    "num_correct = 0\n",
    "num_tests = 0\n",
    "FP = 0\n",
    "FN = 0\n",
    "device = torch.device(\"cuda:0\")\n",
    "for batched_graph, labels in test_dataloader:\n",
    "    batched_graph, labels = batched_graph.to(device), labels.to(device)\n",
    "    pred = model(batched_graph, batched_graph.ndata['h'].float()).squeeze(1).squeeze(1)\n",
    "    # print(pred, labels)\n",
    "    for i, p in enumerate(pred.round()):\n",
    "        if p != labels[i]:\n",
    "            FP += 1 if p == torch.tensor(1.0) else 0\n",
    "            FN += 1 if p == torch.tensor(0.0) else 0\n",
    "\n",
    "    num_correct += (pred.round() == labels).sum().item() # TP+TN\n",
    "    num_tests += len(labels) # TP+TN+FP+FN\n",
    "num_correct/num_tests"
   ]
  },
  {
   "cell_type": "markdown",
   "metadata": {},
   "source": [
    "# Find out the inside of acc"
   ]
  },
  {
   "cell_type": "code",
   "execution_count": 40,
   "metadata": {},
   "outputs": [
    {
     "data": {
      "text/plain": [
       "2778    ../negative_graph_save8A_test/6ays_ligand_6.p\n",
       "2779    ../negative_graph_save8A_test/6r8l_ligand_8.p\n",
       "2780    ../negative_graph_save8A_test/6ajy_ligand_6.p\n",
       "2781    ../negative_graph_save8A_test/6i65_ligand_4.p\n",
       "2782    ../negative_graph_save8A_test/6r1b_ligand_4.p\n",
       "Name: file_name, dtype: object"
      ]
     },
     "execution_count": 40,
     "metadata": {},
     "output_type": "execute_result"
    }
   ],
   "source": [
    "dfTest = pd.read_csv('./test_dataset.csv')\n",
    "testFiles = dfTest['file_name']\n",
    "testFiles[-10:-5]"
   ]
  },
  {
   "cell_type": "code",
   "execution_count": 41,
   "metadata": {
    "scrolled": true
   },
   "outputs": [
    {
     "data": {
      "text/plain": [
       "0    ../positive_graph_save8A_test/6as8\n",
       "1    ../positive_graph_save8A_test/6eeb\n",
       "2    ../positive_graph_save8A_test/6dys\n",
       "3    ../positive_graph_save8A_test/5zg1\n",
       "4    ../positive_graph_save8A_test/6aro\n",
       "Name: file_name, dtype: object"
      ]
     },
     "execution_count": 41,
     "metadata": {},
     "output_type": "execute_result"
    }
   ],
   "source": [
    "testFiles[:5]"
   ]
  },
  {
   "cell_type": "code",
   "execution_count": 44,
   "metadata": {},
   "outputs": [
    {
     "name": "stdout",
     "output_type": "stream",
     "text": [
      "([Graph(num_nodes=287, num_edges=2053,\n",
      "      ndata_schemes={'h': Scheme(shape=(1, 44), dtype=torch.int64)}\n",
      "      edata_schemes={'h': Scheme(shape=(1,), dtype=torch.float32)})], {})\n"
     ]
    },
    {
     "ename": "AttributeError",
     "evalue": "'tuple' object has no attribute 'ndata'",
     "output_type": "error",
     "traceback": [
      "\u001b[0;31m---------------------------------------------------------------------------\u001b[0m",
      "\u001b[0;31mAttributeError\u001b[0m                            Traceback (most recent call last)",
      "\u001b[0;32m<ipython-input-44-dafee6522d63>\u001b[0m in \u001b[0;36m<module>\u001b[0;34m\u001b[0m\n\u001b[1;32m      2\u001b[0m     \u001b[0mg\u001b[0m \u001b[0;34m=\u001b[0m \u001b[0mdgl\u001b[0m\u001b[0;34m.\u001b[0m\u001b[0mload_graphs\u001b[0m\u001b[0;34m(\u001b[0m\u001b[0mfile\u001b[0m\u001b[0;34m)\u001b[0m\u001b[0;34m\u001b[0m\u001b[0;34m\u001b[0m\u001b[0m\n\u001b[1;32m      3\u001b[0m     \u001b[0mprint\u001b[0m\u001b[0;34m(\u001b[0m\u001b[0mg\u001b[0m\u001b[0;34m)\u001b[0m\u001b[0;34m\u001b[0m\u001b[0;34m\u001b[0m\u001b[0m\n\u001b[0;32m----> 4\u001b[0;31m     \u001b[0mpred\u001b[0m \u001b[0;34m=\u001b[0m \u001b[0mmodel\u001b[0m\u001b[0;34m(\u001b[0m\u001b[0mg\u001b[0m\u001b[0;34m,\u001b[0m \u001b[0mg\u001b[0m\u001b[0;34m.\u001b[0m\u001b[0mndata\u001b[0m\u001b[0;34m[\u001b[0m\u001b[0;34m'h'\u001b[0m\u001b[0;34m]\u001b[0m\u001b[0;34m.\u001b[0m\u001b[0mfloat\u001b[0m\u001b[0;34m(\u001b[0m\u001b[0;34m)\u001b[0m\u001b[0;34m)\u001b[0m\u001b[0;34m\u001b[0m\u001b[0;34m\u001b[0m\u001b[0m\n\u001b[0m\u001b[1;32m      5\u001b[0m     \u001b[0mprint\u001b[0m\u001b[0;34m(\u001b[0m\u001b[0mpred\u001b[0m\u001b[0;34m)\u001b[0m\u001b[0;34m\u001b[0m\u001b[0;34m\u001b[0m\u001b[0m\n\u001b[1;32m      6\u001b[0m     \u001b[0;32mbreak\u001b[0m\u001b[0;34m\u001b[0m\u001b[0;34m\u001b[0m\u001b[0m\n",
      "\u001b[0;31mAttributeError\u001b[0m: 'tuple' object has no attribute 'ndata'"
     ]
    }
   ],
   "source": [
    "testPreds = []\n",
    "for file in testFiles:\n",
    "    g = dgl.load_graphs(file)[0] # load_graphs returns tuple(graphs, labels)\n",
    "    print(g)\n",
    "    pred = model(g, g.ndata['h'].float())\n",
    "    print(pred)\n",
    "    break"
   ]
  }
 ],
 "metadata": {
  "kernelspec": {
   "display_name": "Python 3",
   "language": "python",
   "name": "python3"
  },
  "language_info": {
   "codemirror_mode": {
    "name": "ipython",
    "version": 3
   },
   "file_extension": ".py",
   "mimetype": "text/x-python",
   "name": "python",
   "nbconvert_exporter": "python",
   "pygments_lexer": "ipython3",
   "version": "3.8.5"
  }
 },
 "nbformat": 4,
 "nbformat_minor": 4
}
