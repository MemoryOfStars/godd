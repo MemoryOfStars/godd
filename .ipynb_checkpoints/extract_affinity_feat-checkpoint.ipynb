{
 "cells": [
  {
   "cell_type": "markdown",
   "metadata": {},
   "source": [
    "Extract Affinity for positive/negative datasets\n",
    "\n",
    "feats: Affinity\n",
    "\n",
    "Positive: Extract from `INDEX_refined_data.2019`\n",
    "Negative: Extract from `pdbqt` docking files, remember convert to $kcal/mol$"
   ]
  },
  {
   "cell_type": "code",
   "execution_count": 10,
   "metadata": {},
   "outputs": [],
   "source": [
    "import pandas as pd\n",
    "import numpy as np\n",
    "import os"
   ]
  },
  {
   "cell_type": "code",
   "execution_count": 29,
   "metadata": {
    "scrolled": false
   },
   "outputs": [
    {
     "data": {
      "text/html": [
       "<div>\n",
       "<style scoped>\n",
       "    .dataframe tbody tr th:only-of-type {\n",
       "        vertical-align: middle;\n",
       "    }\n",
       "\n",
       "    .dataframe tbody tr th {\n",
       "        vertical-align: top;\n",
       "    }\n",
       "\n",
       "    .dataframe thead th {\n",
       "        text-align: right;\n",
       "    }\n",
       "</style>\n",
       "<table border=\"1\" class=\"dataframe\">\n",
       "  <thead>\n",
       "    <tr style=\"text-align: right;\">\n",
       "      <th></th>\n",
       "      <th>0</th>\n",
       "      <th>1</th>\n",
       "      <th>2</th>\n",
       "      <th>3</th>\n",
       "      <th>4</th>\n",
       "      <th>5</th>\n",
       "    </tr>\n",
       "  </thead>\n",
       "  <tbody>\n",
       "    <tr>\n",
       "      <th>0</th>\n",
       "      <td>2r58</td>\n",
       "      <td>2.00</td>\n",
       "      <td>2007</td>\n",
       "      <td>2.00</td>\n",
       "      <td>Kd=10mM</td>\n",
       "      <td>//2r58.pdf(MLY)</td>\n",
       "    </tr>\n",
       "    <tr>\n",
       "      <th>1</th>\n",
       "      <td>3c2f</td>\n",
       "      <td>2.35</td>\n",
       "      <td>2008</td>\n",
       "      <td>2.00</td>\n",
       "      <td>Kd=10.1mM</td>\n",
       "      <td>//3c2f.pdf(PRP)</td>\n",
       "    </tr>\n",
       "    <tr>\n",
       "      <th>2</th>\n",
       "      <td>3g2y</td>\n",
       "      <td>1.31</td>\n",
       "      <td>2009</td>\n",
       "      <td>2.00</td>\n",
       "      <td>Ki=10mM</td>\n",
       "      <td>//3g2y.pdf(GF4)</td>\n",
       "    </tr>\n",
       "    <tr>\n",
       "      <th>3</th>\n",
       "      <td>3pce</td>\n",
       "      <td>2.06</td>\n",
       "      <td>1998</td>\n",
       "      <td>2.00</td>\n",
       "      <td>Ki=10mM</td>\n",
       "      <td>//3pce.pdf(3HP)</td>\n",
       "    </tr>\n",
       "    <tr>\n",
       "      <th>4</th>\n",
       "      <td>4qsu</td>\n",
       "      <td>1.90</td>\n",
       "      <td>2014</td>\n",
       "      <td>2.00</td>\n",
       "      <td>Kd=10mM</td>\n",
       "      <td>//4qsu.pdf(TDR)</td>\n",
       "    </tr>\n",
       "  </tbody>\n",
       "</table>\n",
       "</div>"
      ],
      "text/plain": [
       "      0     1     2     3          4                5\n",
       "0  2r58  2.00  2007  2.00    Kd=10mM  //2r58.pdf(MLY)\n",
       "1  3c2f  2.35  2008  2.00  Kd=10.1mM  //3c2f.pdf(PRP)\n",
       "2  3g2y  1.31  2009  2.00    Ki=10mM  //3g2y.pdf(GF4)\n",
       "3  3pce  2.06  1998  2.00    Ki=10mM  //3pce.pdf(3HP)\n",
       "4  4qsu  1.90  2014  2.00    Kd=10mM  //4qsu.pdf(TDR)"
      ]
     },
     "execution_count": 29,
     "metadata": {},
     "output_type": "execute_result"
    }
   ],
   "source": [
    "f = open('../refined_index/index/INDEX_refined_data.2019')\n",
    "lines = f.readlines()\n",
    "lines = [l.split() for l in lines]\n",
    "for l in lines:\n",
    "    l[5] = ''.join(l[5:])\n",
    "    del l[6:]\n",
    "# print(lines)\n",
    "df = pd.DataFrame(lines)\n",
    "df.head()"
   ]
  },
  {
   "cell_type": "markdown",
   "metadata": {},
   "source": [
    "$K_i$: 抑制常数（inhibition constant），反映的是抑制剂对靶标的抑制强度，这个值越小说明抑制能力越强。  \n",
    "$K_d$: 解离常数（dissociation constant），反映的是化合物对靶标的亲和力大小，值越小亲和力越强。\n",
    "\n",
    "\n",
    "$K_d = K_i$\n",
    "\n",
    "某些情况下$K_d$可以与$K_i$等同"
   ]
  },
  {
   "cell_type": "code",
   "execution_count": 31,
   "metadata": {
    "scrolled": false
   },
   "outputs": [
    {
     "name": "stdout",
     "output_type": "stream",
     "text": [
      "2\n",
      "2\n",
      "2\n",
      "2\n",
      "2\n",
      "2\n"
     ]
    },
    {
     "data": {
      "text/html": [
       "<div>\n",
       "<style scoped>\n",
       "    .dataframe tbody tr th:only-of-type {\n",
       "        vertical-align: middle;\n",
       "    }\n",
       "\n",
       "    .dataframe tbody tr th {\n",
       "        vertical-align: top;\n",
       "    }\n",
       "\n",
       "    .dataframe thead th {\n",
       "        text-align: right;\n",
       "    }\n",
       "</style>\n",
       "<table border=\"1\" class=\"dataframe\">\n",
       "  <thead>\n",
       "    <tr style=\"text-align: right;\">\n",
       "      <th></th>\n",
       "      <th>0</th>\n",
       "      <th>1</th>\n",
       "      <th>2</th>\n",
       "      <th>3</th>\n",
       "      <th>4</th>\n",
       "      <th>5</th>\n",
       "    </tr>\n",
       "  </thead>\n",
       "  <tbody>\n",
       "    <tr>\n",
       "      <th>0</th>\n",
       "      <td>2r58</td>\n",
       "      <td>2.00</td>\n",
       "      <td>2007</td>\n",
       "      <td>2.00</td>\n",
       "      <td>Kd=10mM</td>\n",
       "      <td>//2r58.pdf(MLY)</td>\n",
       "    </tr>\n",
       "    <tr>\n",
       "      <th>1</th>\n",
       "      <td>3c2f</td>\n",
       "      <td>2.35</td>\n",
       "      <td>2008</td>\n",
       "      <td>2.00</td>\n",
       "      <td>Kd=10.1mM</td>\n",
       "      <td>//3c2f.pdf(PRP)</td>\n",
       "    </tr>\n",
       "    <tr>\n",
       "      <th>2</th>\n",
       "      <td>3g2y</td>\n",
       "      <td>1.31</td>\n",
       "      <td>2009</td>\n",
       "      <td>2.00</td>\n",
       "      <td>Ki=10mM</td>\n",
       "      <td>//3g2y.pdf(GF4)</td>\n",
       "    </tr>\n",
       "    <tr>\n",
       "      <th>3</th>\n",
       "      <td>3pce</td>\n",
       "      <td>2.06</td>\n",
       "      <td>1998</td>\n",
       "      <td>2.00</td>\n",
       "      <td>Ki=10mM</td>\n",
       "      <td>//3pce.pdf(3HP)</td>\n",
       "    </tr>\n",
       "    <tr>\n",
       "      <th>4</th>\n",
       "      <td>4qsu</td>\n",
       "      <td>1.90</td>\n",
       "      <td>2014</td>\n",
       "      <td>2.00</td>\n",
       "      <td>Kd=10mM</td>\n",
       "      <td>//4qsu.pdf(TDR)</td>\n",
       "    </tr>\n",
       "    <tr>\n",
       "      <th>...</th>\n",
       "      <td>...</td>\n",
       "      <td>...</td>\n",
       "      <td>...</td>\n",
       "      <td>...</td>\n",
       "      <td>...</td>\n",
       "      <td>...</td>\n",
       "    </tr>\n",
       "    <tr>\n",
       "      <th>4847</th>\n",
       "      <td>4f3c</td>\n",
       "      <td>1.93</td>\n",
       "      <td>2013</td>\n",
       "      <td>11.82</td>\n",
       "      <td>Ki=1.5pM</td>\n",
       "      <td>//4f1w.pdf(BIG)</td>\n",
       "    </tr>\n",
       "    <tr>\n",
       "      <th>4848</th>\n",
       "      <td>5bry</td>\n",
       "      <td>1.34</td>\n",
       "      <td>2015</td>\n",
       "      <td>11.82</td>\n",
       "      <td>Ki=0.0015nM</td>\n",
       "      <td>//5bry.pdf(4UY)</td>\n",
       "    </tr>\n",
       "    <tr>\n",
       "      <th>4849</th>\n",
       "      <td>1sl3</td>\n",
       "      <td>1.81</td>\n",
       "      <td>2004</td>\n",
       "      <td>11.85</td>\n",
       "      <td>Ki=1.4pM</td>\n",
       "      <td>//1sl3.pdf(170)</td>\n",
       "    </tr>\n",
       "    <tr>\n",
       "      <th>4850</th>\n",
       "      <td>1ctu</td>\n",
       "      <td>2.30</td>\n",
       "      <td>1995</td>\n",
       "      <td>11.92</td>\n",
       "      <td>Ki=1.2pM</td>\n",
       "      <td>//1ctu.pdf(ZEB)</td>\n",
       "    </tr>\n",
       "    <tr>\n",
       "      <th>4851</th>\n",
       "      <td>6e9a</td>\n",
       "      <td>1.22</td>\n",
       "      <td>2018</td>\n",
       "      <td>11.92</td>\n",
       "      <td>Ki=0.0012nM</td>\n",
       "      <td>//6e7j.pdf(J0S)</td>\n",
       "    </tr>\n",
       "  </tbody>\n",
       "</table>\n",
       "<p>4852 rows × 6 columns</p>\n",
       "</div>"
      ],
      "text/plain": [
       "         0     1     2      3            4                5\n",
       "0     2r58  2.00  2007   2.00      Kd=10mM  //2r58.pdf(MLY)\n",
       "1     3c2f  2.35  2008   2.00    Kd=10.1mM  //3c2f.pdf(PRP)\n",
       "2     3g2y  1.31  2009   2.00      Ki=10mM  //3g2y.pdf(GF4)\n",
       "3     3pce  2.06  1998   2.00      Ki=10mM  //3pce.pdf(3HP)\n",
       "4     4qsu  1.90  2014   2.00      Kd=10mM  //4qsu.pdf(TDR)\n",
       "...    ...   ...   ...    ...          ...              ...\n",
       "4847  4f3c  1.93  2013  11.82     Ki=1.5pM  //4f1w.pdf(BIG)\n",
       "4848  5bry  1.34  2015  11.82  Ki=0.0015nM  //5bry.pdf(4UY)\n",
       "4849  1sl3  1.81  2004  11.85     Ki=1.4pM  //1sl3.pdf(170)\n",
       "4850  1ctu  2.30  1995  11.92     Ki=1.2pM  //1ctu.pdf(ZEB)\n",
       "4851  6e9a  1.22  2018  11.92  Ki=0.0012nM  //6e7j.pdf(J0S)\n",
       "\n",
       "[4852 rows x 6 columns]"
      ]
     },
     "execution_count": 31,
     "metadata": {},
     "output_type": "execute_result"
    }
   ],
   "source": [
    "for i in df.items():\n",
    "    print(len(i))\n",
    "df"
   ]
  },
  {
   "cell_type": "code",
   "execution_count": 32,
   "metadata": {},
   "outputs": [],
   "source": [
    "df.to_csv('../python_files/aff_resolution_data.csv')"
   ]
  },
  {
   "cell_type": "code",
   "execution_count": 26,
   "metadata": {
    "scrolled": true
   },
   "outputs": [
    {
     "data": {
      "text/plain": [
       "['1', '2', '34']"
      ]
     },
     "execution_count": 26,
     "metadata": {},
     "output_type": "execute_result"
    }
   ],
   "source": [
    "a = ['1', '2', '3', '4']\n",
    "a[2] = ''.join(a[2:])\n",
    "del a[3:]\n",
    "a"
   ]
  }
 ],
 "metadata": {
  "kernelspec": {
   "display_name": "Python 3",
   "language": "python",
   "name": "python3"
  },
  "language_info": {
   "codemirror_mode": {
    "name": "ipython",
    "version": 3
   },
   "file_extension": ".py",
   "mimetype": "text/x-python",
   "name": "python",
   "nbconvert_exporter": "python",
   "pygments_lexer": "ipython3",
   "version": "3.8.5"
  }
 },
 "nbformat": 4,
 "nbformat_minor": 4
}
