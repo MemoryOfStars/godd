{
 "cells": [
  {
   "cell_type": "code",
   "execution_count": 1,
   "metadata": {},
   "outputs": [
    {
     "name": "stderr",
     "output_type": "stream",
     "text": [
      "Using backend: pytorch\n"
     ]
    }
   ],
   "source": [
    "from dgl.data import DGLDataset\n",
    "import os\n",
    "import numpy as np\n",
    "import pandas as pd\n",
    "import torch as th\n",
    "import dgl"
   ]
  },
  {
   "cell_type": "code",
   "execution_count": 3,
   "metadata": {},
   "outputs": [
    {
     "data": {
      "text/plain": [
       "Graph(num_nodes=6, num_edges=0,\n",
       "      ndata_schemes={}\n",
       "      edata_schemes={})"
      ]
     },
     "execution_count": 3,
     "metadata": {},
     "output_type": "execute_result"
    }
   ],
   "source": [
    "valid_elements = ['N', 'C', 'O', 'S', 'H', 'P', 'F', 'CL',  'BR',  'ZN']\n",
    "g = dgl.DGLGraph()\n",
    "g.add_nodes(6)\n",
    "g"
   ]
  },
  {
   "cell_type": "code",
   "execution_count": 5,
   "metadata": {},
   "outputs": [],
   "source": [
    "import json"
   ]
  },
  {
   "cell_type": "code",
   "execution_count": 11,
   "metadata": {},
   "outputs": [],
   "source": [
    "dgl.save_graphs('./positive_graph_save/g', [g])"
   ]
  },
  {
   "cell_type": "code",
   "execution_count": 13,
   "metadata": {
    "scrolled": true
   },
   "outputs": [
    {
     "data": {
      "text/plain": [
       "[Graph(num_nodes=6, num_edges=0,\n",
       "       ndata_schemes={}\n",
       "       edata_schemes={})]"
      ]
     },
     "execution_count": 13,
     "metadata": {},
     "output_type": "execute_result"
    }
   ],
   "source": [
    "g2 = dgl.load_graphs('./positive_graph_save/g')\n",
    "g2[0]"
   ]
  },
  {
   "cell_type": "code",
   "execution_count": 15,
   "metadata": {},
   "outputs": [
    {
     "data": {
      "text/plain": [
       "tensor([0.3000])"
      ]
     },
     "execution_count": 15,
     "metadata": {},
     "output_type": "execute_result"
    }
   ],
   "source": [
    "th.tensor([th.nn.Parameter(th.FloatTensor(1), requires_grad=True).data.fill_(0.3)])"
   ]
  },
  {
   "cell_type": "code",
   "execution_count": 17,
   "metadata": {},
   "outputs": [
    {
     "data": {
      "text/plain": [
       "tensor([[1.],\n",
       "        [1.]])"
      ]
     },
     "execution_count": 17,
     "metadata": {},
     "output_type": "execute_result"
    }
   ],
   "source": [
    "th.ones(2,1)"
   ]
  },
  {
   "cell_type": "code",
   "execution_count": 19,
   "metadata": {},
   "outputs": [
    {
     "data": {
      "text/plain": [
       "Parameter containing:\n",
       "tensor([8.4490e-39], requires_grad=True)"
      ]
     },
     "execution_count": 19,
     "metadata": {},
     "output_type": "execute_result"
    }
   ],
   "source": [
    "th.nn.Parameter(th.FloatTensor(1), requires_grad=True)"
   ]
  },
  {
   "cell_type": "code",
   "execution_count": 22,
   "metadata": {},
   "outputs": [
    {
     "ename": "TypeError",
     "evalue": "'builtin_function_or_method' object is not subscriptable",
     "output_type": "error",
     "traceback": [
      "\u001b[1;31m---------------------------------------------------------------------------\u001b[0m",
      "\u001b[1;31mTypeError\u001b[0m                                 Traceback (most recent call last)",
      "\u001b[1;32m<ipython-input-22-21447296627a>\u001b[0m in \u001b[0;36m<module>\u001b[1;34m\u001b[0m\n\u001b[0;32m      1\u001b[0m th.tensor([th.nn.Parameter(th.FloatTensor(1), requires_grad=True).data.fill_(0.3),\n\u001b[0;32m      2\u001b[0m                                th.nn.Parameter(th.FloatTensor(1), requires_grad=True).data.fill_(0.4)])\n\u001b[1;32m----> 3\u001b[1;33m \u001b[0mth\u001b[0m\u001b[1;33m.\u001b[0m\u001b[0mtensor\u001b[0m\u001b[1;33m[\u001b[0m\u001b[1;36m0\u001b[0m\u001b[1;33m]\u001b[0m\u001b[1;33m\u001b[0m\u001b[1;33m\u001b[0m\u001b[0m\n\u001b[0m",
      "\u001b[1;31mTypeError\u001b[0m: 'builtin_function_or_method' object is not subscriptable"
     ]
    }
   ],
   "source": [
    "th.tensor([th.nn.Parameter(th.FloatTensor(1), requires_grad=True).data.fill_(0.3),\n",
    "                               th.nn.Parameter(th.FloatTensor(1), requires_grad=True).data.fill_(0.4)])"
   ]
  },
  {
   "cell_type": "code",
   "execution_count": 27,
   "metadata": {},
   "outputs": [],
   "source": [
    "g_test = dgl.DGLGraph((th.tensor([0, 1]), th.tensor([1, 2])))\n",
    "\n",
    "g_test.edata['h'] = th.tensor([th.nn.Parameter(th.FloatTensor(1), requires_grad=True).data.fill_(0.3),\n",
    "                               th.nn.Parameter(th.FloatTensor(1), requires_grad=True).data.fill_(0.4)])"
   ]
  },
  {
   "cell_type": "code",
   "execution_count": 20,
   "metadata": {},
   "outputs": [
    {
     "data": {
      "text/plain": [
       "tensor([0.3000, 0.4000])"
      ]
     },
     "execution_count": 20,
     "metadata": {},
     "output_type": "execute_result"
    }
   ],
   "source": [
    "g_test.edata['h']"
   ]
  },
  {
   "cell_type": "code",
   "execution_count": 28,
   "metadata": {},
   "outputs": [],
   "source": [
    "import math"
   ]
  },
  {
   "cell_type": "code",
   "execution_count": 40,
   "metadata": {},
   "outputs": [
    {
     "name": "stderr",
     "output_type": "stream",
     "text": [
      "F:\\Anaconda\\lib\\site-packages\\dgl\\base.py:45: DGLWarning: Recommend creating graphs by `dgl.graph(data)` instead of `dgl.DGLGraph(data)`.\n",
      "  return warnings.warn(message, category=category, stacklevel=1)\n"
     ]
    },
    {
     "name": "stdout",
     "output_type": "stream",
     "text": [
      "Graph(num_nodes=3328, num_edges=3376840,\n",
      "      ndata_schemes={'h': Scheme(shape=(1, 10), dtype=torch.int64)}\n",
      "      edata_schemes={'h': Scheme(shape=(1,), dtype=torch.float32)})\n",
      "Graph(num_nodes=1299, num_edges=696862,\n",
      "      ndata_schemes={'h': Scheme(shape=(1, 10), dtype=torch.int64)}\n",
      "      edata_schemes={'h': Scheme(shape=(1,), dtype=torch.float32)})\n",
      "Graph(num_nodes=1298, num_edges=691504,\n",
      "      ndata_schemes={'h': Scheme(shape=(1, 10), dtype=torch.int64)}\n",
      "      edata_schemes={'h': Scheme(shape=(1,), dtype=torch.float32)})\n",
      "Graph(num_nodes=1299, num_edges=693066,\n",
      "      ndata_schemes={'h': Scheme(shape=(1, 10), dtype=torch.int64)}\n",
      "      edata_schemes={'h': Scheme(shape=(1,), dtype=torch.float32)})\n",
      "Graph(num_nodes=1297, num_edges=692046,\n",
      "      ndata_schemes={'h': Scheme(shape=(1, 10), dtype=torch.int64)}\n",
      "      edata_schemes={'h': Scheme(shape=(1,), dtype=torch.float32)})\n",
      "Graph(num_nodes=1297, num_edges=695166,\n",
      "      ndata_schemes={'h': Scheme(shape=(1, 10), dtype=torch.int64)}\n",
      "      edata_schemes={'h': Scheme(shape=(1,), dtype=torch.float32)})\n",
      "Graph(num_nodes=2113, num_edges=1516782,\n",
      "      ndata_schemes={'h': Scheme(shape=(1, 10), dtype=torch.int64)}\n",
      "      edata_schemes={'h': Scheme(shape=(1,), dtype=torch.float32)})\n",
      "Graph(num_nodes=4082, num_edges=4306816,\n",
      "      ndata_schemes={'h': Scheme(shape=(1, 10), dtype=torch.int64)}\n",
      "      edata_schemes={'h': Scheme(shape=(1,), dtype=torch.float32)})\n",
      "Graph(num_nodes=1536, num_edges=1005228,\n",
      "      ndata_schemes={'h': Scheme(shape=(1, 10), dtype=torch.int64)}\n",
      "      edata_schemes={'h': Scheme(shape=(1,), dtype=torch.float32)})\n",
      "Graph(num_nodes=6704, num_edges=6747268,\n",
      "      ndata_schemes={'h': Scheme(shape=(1, 10), dtype=torch.int64)}\n",
      "      edata_schemes={'h': Scheme(shape=(1,), dtype=torch.float32)})\n",
      "Graph(num_nodes=3004, num_edges=2215228,\n",
      "      ndata_schemes={'h': Scheme(shape=(1, 10), dtype=torch.int64)}\n",
      "      edata_schemes={'h': Scheme(shape=(1,), dtype=torch.float32)})\n",
      "Graph(num_nodes=2264, num_edges=1634320,\n",
      "      ndata_schemes={'h': Scheme(shape=(1, 10), dtype=torch.int64)}\n",
      "      edata_schemes={'h': Scheme(shape=(1,), dtype=torch.float32)})\n",
      "Graph(num_nodes=5360, num_edges=8218296,\n",
      "      ndata_schemes={'h': Scheme(shape=(1, 10), dtype=torch.int64)}\n",
      "      edata_schemes={'h': Scheme(shape=(1,), dtype=torch.float32)})\n",
      "Graph(num_nodes=3814, num_edges=2965416,\n",
      "      ndata_schemes={'h': Scheme(shape=(1, 10), dtype=torch.int64)}\n",
      "      edata_schemes={'h': Scheme(shape=(1,), dtype=torch.float32)})\n",
      "Graph(num_nodes=10744, num_edges=15086920,\n",
      "      ndata_schemes={'h': Scheme(shape=(1, 10), dtype=torch.int64)}\n",
      "      edata_schemes={'h': Scheme(shape=(1,), dtype=torch.float32)})\n",
      "Graph(num_nodes=1570, num_edges=1034104,\n",
      "      ndata_schemes={'h': Scheme(shape=(1, 10), dtype=torch.int64)}\n",
      "      edata_schemes={'h': Scheme(shape=(1,), dtype=torch.float32)})\n",
      "Graph(num_nodes=2204, num_edges=1249940,\n",
      "      ndata_schemes={'h': Scheme(shape=(1, 10), dtype=torch.int64)}\n",
      "      edata_schemes={'h': Scheme(shape=(1,), dtype=torch.float32)})\n",
      "Graph(num_nodes=1557, num_edges=820906,\n",
      "      ndata_schemes={'h': Scheme(shape=(1, 10), dtype=torch.int64)}\n",
      "      edata_schemes={'h': Scheme(shape=(1,), dtype=torch.float32)})\n",
      "Graph(num_nodes=2811, num_edges=2200218,\n",
      "      ndata_schemes={'h': Scheme(shape=(1, 10), dtype=torch.int64)}\n",
      "      edata_schemes={'h': Scheme(shape=(1,), dtype=torch.float32)})\n",
      "Graph(num_nodes=1053, num_edges=373102,\n",
      "      ndata_schemes={'h': Scheme(shape=(1, 10), dtype=torch.int64)}\n",
      "      edata_schemes={'h': Scheme(shape=(1,), dtype=torch.float32)})\n",
      "Graph(num_nodes=13628, num_edges=28586240,\n",
      "      ndata_schemes={'h': Scheme(shape=(1, 10), dtype=torch.int64)}\n",
      "      edata_schemes={'h': Scheme(shape=(1,), dtype=torch.float32)})\n",
      "Graph(num_nodes=1964, num_edges=930676,\n",
      "      ndata_schemes={'h': Scheme(shape=(1, 10), dtype=torch.int64)}\n",
      "      edata_schemes={'h': Scheme(shape=(1,), dtype=torch.float32)})\n",
      "Graph(num_nodes=1963, num_edges=926454,\n",
      "      ndata_schemes={'h': Scheme(shape=(1, 10), dtype=torch.int64)}\n",
      "      edata_schemes={'h': Scheme(shape=(1,), dtype=torch.float32)})\n",
      "Graph(num_nodes=6083, num_edges=9394462,\n",
      "      ndata_schemes={'h': Scheme(shape=(1, 10), dtype=torch.int64)}\n",
      "      edata_schemes={'h': Scheme(shape=(1,), dtype=torch.float32)})\n",
      "Graph(num_nodes=6084, num_edges=9381880,\n",
      "      ndata_schemes={'h': Scheme(shape=(1, 10), dtype=torch.int64)}\n",
      "      edata_schemes={'h': Scheme(shape=(1,), dtype=torch.float32)})\n",
      "Graph(num_nodes=6078, num_edges=9372272,\n",
      "      ndata_schemes={'h': Scheme(shape=(1, 10), dtype=torch.int64)}\n",
      "      edata_schemes={'h': Scheme(shape=(1,), dtype=torch.float32)})\n",
      "Graph(num_nodes=1574, num_edges=958192,\n",
      "      ndata_schemes={'h': Scheme(shape=(1, 10), dtype=torch.int64)}\n",
      "      edata_schemes={'h': Scheme(shape=(1,), dtype=torch.float32)})\n",
      "Graph(num_nodes=4067, num_edges=4415506,\n",
      "      ndata_schemes={'h': Scheme(shape=(1, 10), dtype=torch.int64)}\n",
      "      edata_schemes={'h': Scheme(shape=(1,), dtype=torch.float32)})\n",
      "Graph(num_nodes=6084, num_edges=9381400,\n",
      "      ndata_schemes={'h': Scheme(shape=(1, 10), dtype=torch.int64)}\n",
      "      edata_schemes={'h': Scheme(shape=(1,), dtype=torch.float32)})\n",
      "Graph(num_nodes=6105, num_edges=9448406,\n",
      "      ndata_schemes={'h': Scheme(shape=(1, 10), dtype=torch.int64)}\n",
      "      edata_schemes={'h': Scheme(shape=(1,), dtype=torch.float32)})\n",
      "Graph(num_nodes=6107, num_edges=9477714,\n",
      "      ndata_schemes={'h': Scheme(shape=(1, 10), dtype=torch.int64)}\n",
      "      edata_schemes={'h': Scheme(shape=(1,), dtype=torch.float32)})\n",
      "Graph(num_nodes=1557, num_edges=1007946,\n",
      "      ndata_schemes={'h': Scheme(shape=(1, 10), dtype=torch.int64)}\n",
      "      edata_schemes={'h': Scheme(shape=(1,), dtype=torch.float32)})\n",
      "Graph(num_nodes=1556, num_edges=997508,\n",
      "      ndata_schemes={'h': Scheme(shape=(1, 10), dtype=torch.int64)}\n",
      "      edata_schemes={'h': Scheme(shape=(1,), dtype=torch.float32)})\n",
      "Graph(num_nodes=2814, num_edges=2062424,\n",
      "      ndata_schemes={'h': Scheme(shape=(1, 10), dtype=torch.int64)}\n",
      "      edata_schemes={'h': Scheme(shape=(1,), dtype=torch.float32)})\n",
      "Graph(num_nodes=1915, num_edges=1243670,\n",
      "      ndata_schemes={'h': Scheme(shape=(1, 10), dtype=torch.int64)}\n",
      "      edata_schemes={'h': Scheme(shape=(1,), dtype=torch.float32)})\n",
      "Graph(num_nodes=1721, num_edges=996146,\n",
      "      ndata_schemes={'h': Scheme(shape=(1, 10), dtype=torch.int64)}\n",
      "      edata_schemes={'h': Scheme(shape=(1,), dtype=torch.float32)})\n",
      "Graph(num_nodes=2432, num_edges=1266900,\n",
      "      ndata_schemes={'h': Scheme(shape=(1, 10), dtype=torch.int64)}\n",
      "      edata_schemes={'h': Scheme(shape=(1,), dtype=torch.float32)})\n",
      "Graph(num_nodes=3210, num_edges=3682420,\n",
      "      ndata_schemes={'h': Scheme(shape=(1, 10), dtype=torch.int64)}\n",
      "      edata_schemes={'h': Scheme(shape=(1,), dtype=torch.float32)})\n",
      "Graph(num_nodes=2991, num_edges=2121218,\n",
      "      ndata_schemes={'h': Scheme(shape=(1, 10), dtype=torch.int64)}\n",
      "      edata_schemes={'h': Scheme(shape=(1,), dtype=torch.float32)})\n",
      "Graph(num_nodes=2046, num_edges=1369680,\n",
      "      ndata_schemes={'h': Scheme(shape=(1, 10), dtype=torch.int64)}\n",
      "      edata_schemes={'h': Scheme(shape=(1,), dtype=torch.float32)})\n",
      "Graph(num_nodes=1913, num_edges=1207678,\n",
      "      ndata_schemes={'h': Scheme(shape=(1, 10), dtype=torch.int64)}\n",
      "      edata_schemes={'h': Scheme(shape=(1,), dtype=torch.float32)})\n",
      "Graph(num_nodes=2032, num_edges=1180736,\n",
      "      ndata_schemes={'h': Scheme(shape=(1, 10), dtype=torch.int64)}\n",
      "      edata_schemes={'h': Scheme(shape=(1,), dtype=torch.float32)})\n",
      "Graph(num_nodes=2366, num_edges=1657056,\n",
      "      ndata_schemes={'h': Scheme(shape=(1, 10), dtype=torch.int64)}\n",
      "      edata_schemes={'h': Scheme(shape=(1,), dtype=torch.float32)})\n",
      "Graph(num_nodes=2766, num_edges=2756464,\n",
      "      ndata_schemes={'h': Scheme(shape=(1, 10), dtype=torch.int64)}\n",
      "      edata_schemes={'h': Scheme(shape=(1,), dtype=torch.float32)})\n",
      "Graph(num_nodes=5268, num_edges=5962828,\n",
      "      ndata_schemes={'h': Scheme(shape=(1, 10), dtype=torch.int64)}\n",
      "      edata_schemes={'h': Scheme(shape=(1,), dtype=torch.float32)})\n",
      "Graph(num_nodes=1593, num_edges=576246,\n",
      "      ndata_schemes={'h': Scheme(shape=(1, 10), dtype=torch.int64)}\n",
      "      edata_schemes={'h': Scheme(shape=(1,), dtype=torch.float32)})\n",
      "Graph(num_nodes=1540, num_edges=542596,\n",
      "      ndata_schemes={'h': Scheme(shape=(1, 10), dtype=torch.int64)}\n",
      "      edata_schemes={'h': Scheme(shape=(1,), dtype=torch.float32)})\n"
     ]
    },
    {
     "name": "stdout",
     "output_type": "stream",
     "text": [
      "Graph(num_nodes=1575, num_edges=566314,\n",
      "      ndata_schemes={'h': Scheme(shape=(1, 10), dtype=torch.int64)}\n",
      "      edata_schemes={'h': Scheme(shape=(1,), dtype=torch.float32)})\n",
      "Graph(num_nodes=2204, num_edges=1437272,\n",
      "      ndata_schemes={'h': Scheme(shape=(1, 10), dtype=torch.int64)}\n",
      "      edata_schemes={'h': Scheme(shape=(1,), dtype=torch.float32)})\n",
      "Graph(num_nodes=2218, num_edges=1281592,\n",
      "      ndata_schemes={'h': Scheme(shape=(1, 10), dtype=torch.int64)}\n",
      "      edata_schemes={'h': Scheme(shape=(1,), dtype=torch.float32)})\n",
      "Graph(num_nodes=1358, num_edges=647388,\n",
      "      ndata_schemes={'h': Scheme(shape=(1, 10), dtype=torch.int64)}\n",
      "      edata_schemes={'h': Scheme(shape=(1,), dtype=torch.float32)})\n",
      "Graph(num_nodes=2403, num_edges=1797046,\n",
      "      ndata_schemes={'h': Scheme(shape=(1, 10), dtype=torch.int64)}\n",
      "      edata_schemes={'h': Scheme(shape=(1,), dtype=torch.float32)})\n",
      "Graph(num_nodes=2087, num_edges=1395034,\n",
      "      ndata_schemes={'h': Scheme(shape=(1, 10), dtype=torch.int64)}\n",
      "      edata_schemes={'h': Scheme(shape=(1,), dtype=torch.float32)})\n",
      "Graph(num_nodes=2333, num_edges=1704638,\n",
      "      ndata_schemes={'h': Scheme(shape=(1, 10), dtype=torch.int64)}\n",
      "      edata_schemes={'h': Scheme(shape=(1,), dtype=torch.float32)})\n",
      "Graph(num_nodes=1540, num_edges=801800,\n",
      "      ndata_schemes={'h': Scheme(shape=(1, 10), dtype=torch.int64)}\n",
      "      edata_schemes={'h': Scheme(shape=(1,), dtype=torch.float32)})\n",
      "Graph(num_nodes=1722, num_edges=997624,\n",
      "      ndata_schemes={'h': Scheme(shape=(1, 10), dtype=torch.int64)}\n",
      "      edata_schemes={'h': Scheme(shape=(1,), dtype=torch.float32)})\n",
      "Graph(num_nodes=891, num_edges=328530,\n",
      "      ndata_schemes={'h': Scheme(shape=(1, 10), dtype=torch.int64)}\n",
      "      edata_schemes={'h': Scheme(shape=(1,), dtype=torch.float32)})\n",
      "Graph(num_nodes=2359, num_edges=1712642,\n",
      "      ndata_schemes={'h': Scheme(shape=(1, 10), dtype=torch.int64)}\n",
      "      edata_schemes={'h': Scheme(shape=(1,), dtype=torch.float32)})\n",
      "Graph(num_nodes=1649, num_edges=907902,\n",
      "      ndata_schemes={'h': Scheme(shape=(1, 10), dtype=torch.int64)}\n",
      "      edata_schemes={'h': Scheme(shape=(1,), dtype=torch.float32)})\n",
      "Graph(num_nodes=1655, num_edges=917766,\n",
      "      ndata_schemes={'h': Scheme(shape=(1, 10), dtype=torch.int64)}\n",
      "      edata_schemes={'h': Scheme(shape=(1,), dtype=torch.float32)})\n",
      "Graph(num_nodes=1842, num_edges=1060404,\n",
      "      ndata_schemes={'h': Scheme(shape=(1, 10), dtype=torch.int64)}\n",
      "      edata_schemes={'h': Scheme(shape=(1,), dtype=torch.float32)})\n",
      "Graph(num_nodes=1866, num_edges=983996,\n",
      "      ndata_schemes={'h': Scheme(shape=(1, 10), dtype=torch.int64)}\n",
      "      edata_schemes={'h': Scheme(shape=(1,), dtype=torch.float32)})\n",
      "Graph(num_nodes=2511, num_edges=2051246,\n",
      "      ndata_schemes={'h': Scheme(shape=(1, 10), dtype=torch.int64)}\n",
      "      edata_schemes={'h': Scheme(shape=(1,), dtype=torch.float32)})\n",
      "Graph(num_nodes=2516, num_edges=2060904,\n",
      "      ndata_schemes={'h': Scheme(shape=(1, 10), dtype=torch.int64)}\n",
      "      edata_schemes={'h': Scheme(shape=(1,), dtype=torch.float32)})\n",
      "Graph(num_nodes=2512, num_edges=2046036,\n",
      "      ndata_schemes={'h': Scheme(shape=(1, 10), dtype=torch.int64)}\n",
      "      edata_schemes={'h': Scheme(shape=(1,), dtype=torch.float32)})\n",
      "Graph(num_nodes=2508, num_edges=2049432,\n",
      "      ndata_schemes={'h': Scheme(shape=(1, 10), dtype=torch.int64)}\n",
      "      edata_schemes={'h': Scheme(shape=(1,), dtype=torch.float32)})\n",
      "Graph(num_nodes=2060, num_edges=1383008,\n",
      "      ndata_schemes={'h': Scheme(shape=(1, 10), dtype=torch.int64)}\n",
      "      edata_schemes={'h': Scheme(shape=(1,), dtype=torch.float32)})\n",
      "Graph(num_nodes=2062, num_edges=1389648,\n",
      "      ndata_schemes={'h': Scheme(shape=(1, 10), dtype=torch.int64)}\n",
      "      edata_schemes={'h': Scheme(shape=(1,), dtype=torch.float32)})\n",
      "Graph(num_nodes=2060, num_edges=1386352,\n",
      "      ndata_schemes={'h': Scheme(shape=(1, 10), dtype=torch.int64)}\n",
      "      edata_schemes={'h': Scheme(shape=(1,), dtype=torch.float32)})\n",
      "Graph(num_nodes=2510, num_edges=2045936,\n",
      "      ndata_schemes={'h': Scheme(shape=(1, 10), dtype=torch.int64)}\n",
      "      edata_schemes={'h': Scheme(shape=(1,), dtype=torch.float32)})\n",
      "Graph(num_nodes=2504, num_edges=2024384,\n",
      "      ndata_schemes={'h': Scheme(shape=(1, 10), dtype=torch.int64)}\n",
      "      edata_schemes={'h': Scheme(shape=(1,), dtype=torch.float32)})\n",
      "Graph(num_nodes=2610, num_edges=1596208,\n",
      "      ndata_schemes={'h': Scheme(shape=(1, 10), dtype=torch.int64)}\n",
      "      edata_schemes={'h': Scheme(shape=(1,), dtype=torch.float32)})\n",
      "Graph(num_nodes=7506, num_edges=9205624,\n",
      "      ndata_schemes={'h': Scheme(shape=(1, 10), dtype=torch.int64)}\n",
      "      edata_schemes={'h': Scheme(shape=(1,), dtype=torch.float32)})\n",
      "Graph(num_nodes=2145, num_edges=1352422,\n",
      "      ndata_schemes={'h': Scheme(shape=(1, 10), dtype=torch.int64)}\n",
      "      edata_schemes={'h': Scheme(shape=(1,), dtype=torch.float32)})\n",
      "Graph(num_nodes=3450, num_edges=3976704,\n",
      "      ndata_schemes={'h': Scheme(shape=(1, 10), dtype=torch.int64)}\n",
      "      edata_schemes={'h': Scheme(shape=(1,), dtype=torch.float32)})\n",
      "Graph(num_nodes=1574, num_edges=841912,\n",
      "      ndata_schemes={'h': Scheme(shape=(1, 10), dtype=torch.int64)}\n",
      "      edata_schemes={'h': Scheme(shape=(1,), dtype=torch.float32)})\n",
      "Graph(num_nodes=1564, num_edges=838928,\n",
      "      ndata_schemes={'h': Scheme(shape=(1, 10), dtype=torch.int64)}\n",
      "      edata_schemes={'h': Scheme(shape=(1,), dtype=torch.float32)})\n",
      "Graph(num_nodes=1572, num_edges=826680,\n",
      "      ndata_schemes={'h': Scheme(shape=(1, 10), dtype=torch.int64)}\n",
      "      edata_schemes={'h': Scheme(shape=(1,), dtype=torch.float32)})\n",
      "Graph(num_nodes=1908, num_edges=1211528,\n",
      "      ndata_schemes={'h': Scheme(shape=(1, 10), dtype=torch.int64)}\n",
      "      edata_schemes={'h': Scheme(shape=(1,), dtype=torch.float32)})\n",
      "Graph(num_nodes=4858, num_edges=5082300,\n",
      "      ndata_schemes={'h': Scheme(shape=(1, 10), dtype=torch.int64)}\n",
      "      edata_schemes={'h': Scheme(shape=(1,), dtype=torch.float32)})\n",
      "Graph(num_nodes=2435, num_edges=1304058,\n",
      "      ndata_schemes={'h': Scheme(shape=(1, 10), dtype=torch.int64)}\n",
      "      edata_schemes={'h': Scheme(shape=(1,), dtype=torch.float32)})\n"
     ]
    },
    {
     "ename": "KeyboardInterrupt",
     "evalue": "",
     "output_type": "error",
     "traceback": [
      "\u001b[1;31m---------------------------------------------------------------------------\u001b[0m",
      "\u001b[1;31mKeyboardInterrupt\u001b[0m                         Traceback (most recent call last)",
      "\u001b[1;32m<ipython-input-40-8ebc530ff17b>\u001b[0m in \u001b[0;36m<module>\u001b[1;34m\u001b[0m\n\u001b[0;32m     37\u001b[0m             \u001b[0my_dis\u001b[0m \u001b[1;33m=\u001b[0m \u001b[0mpdb_data\u001b[0m\u001b[1;33m[\u001b[0m\u001b[0mi\u001b[0m\u001b[1;33m]\u001b[0m\u001b[1;33m[\u001b[0m\u001b[1;36m3\u001b[0m\u001b[1;33m]\u001b[0m \u001b[1;33m-\u001b[0m \u001b[0mpdb_data\u001b[0m\u001b[1;33m[\u001b[0m\u001b[0mj\u001b[0m\u001b[1;33m]\u001b[0m\u001b[1;33m[\u001b[0m\u001b[1;36m3\u001b[0m\u001b[1;33m]\u001b[0m\u001b[1;33m\u001b[0m\u001b[1;33m\u001b[0m\u001b[0m\n\u001b[0;32m     38\u001b[0m             \u001b[0mz_dis\u001b[0m \u001b[1;33m=\u001b[0m \u001b[0mpdb_data\u001b[0m\u001b[1;33m[\u001b[0m\u001b[0mi\u001b[0m\u001b[1;33m]\u001b[0m\u001b[1;33m[\u001b[0m\u001b[1;36m3\u001b[0m\u001b[1;33m]\u001b[0m \u001b[1;33m-\u001b[0m \u001b[0mpdb_data\u001b[0m\u001b[1;33m[\u001b[0m\u001b[0mj\u001b[0m\u001b[1;33m]\u001b[0m\u001b[1;33m[\u001b[0m\u001b[1;36m3\u001b[0m\u001b[1;33m]\u001b[0m\u001b[1;33m\u001b[0m\u001b[1;33m\u001b[0m\u001b[0m\n\u001b[1;32m---> 39\u001b[1;33m             \u001b[0mdis\u001b[0m \u001b[1;33m=\u001b[0m \u001b[0mmath\u001b[0m\u001b[1;33m.\u001b[0m\u001b[0msqrt\u001b[0m\u001b[1;33m(\u001b[0m\u001b[0mx_dis\u001b[0m\u001b[1;33m**\u001b[0m\u001b[1;36m2\u001b[0m\u001b[1;33m+\u001b[0m\u001b[0my_dis\u001b[0m\u001b[1;33m**\u001b[0m\u001b[1;36m2\u001b[0m\u001b[1;33m+\u001b[0m\u001b[0mz_dis\u001b[0m\u001b[1;33m**\u001b[0m\u001b[1;36m2\u001b[0m\u001b[1;33m)\u001b[0m\u001b[1;33m\u001b[0m\u001b[1;33m\u001b[0m\u001b[0m\n\u001b[0m\u001b[0;32m     40\u001b[0m             \u001b[1;32mif\u001b[0m \u001b[0mdis\u001b[0m \u001b[1;33m<\u001b[0m \u001b[1;36m2.0\u001b[0m \u001b[1;32mand\u001b[0m \u001b[0mpdb_data\u001b[0m\u001b[1;33m[\u001b[0m\u001b[0mi\u001b[0m\u001b[1;33m]\u001b[0m\u001b[1;33m[\u001b[0m\u001b[1;36m1\u001b[0m\u001b[1;33m]\u001b[0m\u001b[1;33m==\u001b[0m\u001b[0mpdb_data\u001b[0m\u001b[1;33m[\u001b[0m\u001b[0mj\u001b[0m\u001b[1;33m]\u001b[0m\u001b[1;33m[\u001b[0m\u001b[1;36m1\u001b[0m\u001b[1;33m]\u001b[0m \u001b[1;32mand\u001b[0m \u001b[0mpdb_data\u001b[0m\u001b[1;33m[\u001b[0m\u001b[0mi\u001b[0m\u001b[1;33m]\u001b[0m\u001b[1;33m[\u001b[0m\u001b[1;36m2\u001b[0m\u001b[1;33m]\u001b[0m \u001b[1;33m==\u001b[0m \u001b[0mpdb_data\u001b[0m\u001b[1;33m[\u001b[0m\u001b[0mj\u001b[0m\u001b[1;33m]\u001b[0m\u001b[1;33m[\u001b[0m\u001b[1;36m2\u001b[0m\u001b[1;33m]\u001b[0m\u001b[1;33m:\u001b[0m\u001b[1;33m\u001b[0m\u001b[1;33m\u001b[0m\u001b[0m\n\u001b[0;32m     41\u001b[0m                 \u001b[0mgraph_edata\u001b[0m\u001b[1;33m.\u001b[0m\u001b[0mappend\u001b[0m\u001b[1;33m(\u001b[0m\u001b[1;33m[\u001b[0m\u001b[1;36m1\u001b[0m\u001b[1;33m]\u001b[0m\u001b[1;33m)\u001b[0m\u001b[1;33m\u001b[0m\u001b[1;33m\u001b[0m\u001b[0m\n",
      "\u001b[1;31mKeyboardInterrupt\u001b[0m: "
     ]
    }
   ],
   "source": [
    "positive_pdb_dir = './positive_truncated_data/'\n",
    "target_graph_dir = './positive_graph_save/'\n",
    "valid_elements = ['N', 'C', 'O', 'S', 'H', 'P', 'F', 'CL',  'BR',  'ZN']\n",
    "element_onehot = {}.fromkeys(valid_elements, 0 )\n",
    "element_onehot['N'] = [1,0,0,0,0,0,0,0,0,0]\n",
    "element_onehot['C'] = [0,1,0,0,0,0,0,0,0,0]\n",
    "element_onehot['O'] = [0,0,1,0,0,0,0,0,0,0]\n",
    "element_onehot['S'] = [0,0,0,1,0,0,0,0,0,0]\n",
    "element_onehot['H'] = [0,0,0,0,1,0,0,0,0,0]\n",
    "element_onehot['P'] = [0,0,0,0,0,1,0,0,0,0]\n",
    "element_onehot['F'] = [0,0,0,0,0,0,1,0,0,0]\n",
    "element_onehot['CL'] = [0,0,0,0,0,0,0,1,0,0]\n",
    "element_onehot['BR'] = [0,0,0,0,0,0,0,0,1,0]\n",
    "element_onehot['ZN'] = [0,0,0,0,0,0,0,0,0,1]\n",
    "for pdb_name in os.listdir(positive_pdb_dir):\n",
    "    pdb_data = []                        #一个pdb文件中的信息汇总\n",
    "    # [element_name, protein_or_ligand, chain_id, x, y, z]\n",
    "    with open(positive_pdb_dir+pdb_name) as pdb_file:\n",
    "        for i in pdb_file.readlines():\n",
    "            if (i[:4]=='ATOM' or i[:6]=='HETATM') and i[76:78].strip() in valid_elements:\n",
    "                temp = ['C', 0, 'A', 2.2, 3.3, 2.2]#0代表蛋白质分子。 1代表ligand分子\n",
    "                temp[0] = i[76:78].strip()                   #element_name\n",
    "                temp[1] = 0 if i[:4]=='ATOM' else 1  #protein or ligand\n",
    "                temp[2] = i[21]                      #chain_id\n",
    "                temp[3] = float(i[30:38].strip())    #x\n",
    "                temp[4] = float(i[38:46].strip())    #y\n",
    "                temp[5] = float(i[46:54].strip())    #z\n",
    "                pdb_data.append(temp)\n",
    "    graph_edata = [] #edge weights\n",
    "    u_set = []\n",
    "    v_set = []\n",
    "    graph_ndata = []\n",
    "    for i in range(len(pdb_data)):\n",
    "        graph_ndata.append([element_onehot[pdb_data[i][0]]]) #[[ele1, other_feature], [ele2, other_feature],....]\n",
    "        for j in range(len(pdb_data)):\n",
    "            x_dis = pdb_data[i][3] - pdb_data[j][3]\n",
    "            y_dis = pdb_data[i][3] - pdb_data[j][3]\n",
    "            z_dis = pdb_data[i][3] - pdb_data[j][3]\n",
    "            dis = math.sqrt(x_dis**2+y_dis**2+z_dis**2)\n",
    "            if dis < 2.0 and pdb_data[i][1]==pdb_data[j][1] and pdb_data[i][2] == pdb_data[j][2]:\n",
    "                graph_edata.append([1])\n",
    "                graph_edata.append([1])\n",
    "                u_set.append(i)\n",
    "                v_set.append(j)\n",
    "                u_set.append(j)\n",
    "                v_set.append(i)\n",
    "            elif dis < 5.0 and (pdb_data[i][1]==pdb_data[j][1] or pdb_data[i][2] == pdb_data[j][2]):\n",
    "                graph_edata.append([dis])\n",
    "                graph_edata.append([dis])\n",
    "                u_set.append(i)\n",
    "                v_set.append(j)\n",
    "                u_set.append(j)\n",
    "                v_set.append(i)\n",
    "    g = dgl.DGLGraph()\n",
    "    g.add_nodes(len(graph_ndata))\n",
    "    g.add_edges(u_set, v_set)\n",
    "    \n",
    "    g.edata['h'] = th.tensor(graph_edata)\n",
    "    g.ndata['h'] = th.tensor(graph_ndata)\n",
    "    print(g)\n",
    "    dgl.save_graphs('./positive_graph_save/'+pdb_name[:4], [g])"
   ]
  }
 ],
 "metadata": {
  "kernelspec": {
   "display_name": "Python 3",
   "language": "python",
   "name": "python3"
  },
  "language_info": {
   "codemirror_mode": {
    "name": "ipython",
    "version": 3
   },
   "file_extension": ".py",
   "mimetype": "text/x-python",
   "name": "python",
   "nbconvert_exporter": "python",
   "pygments_lexer": "ipython3",
   "version": "3.8.5"
  }
 },
 "nbformat": 4,
 "nbformat_minor": 4
}
