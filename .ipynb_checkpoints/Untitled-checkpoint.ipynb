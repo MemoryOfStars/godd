{
 "cells": [
  {
   "cell_type": "code",
   "execution_count": 1,
   "metadata": {},
   "outputs": [
    {
     "name": "stderr",
     "output_type": "stream",
     "text": [
      "Using backend: pytorch\n"
     ]
    }
   ],
   "source": [
    "import time\n",
    "import os\n",
    "import pandas as pd\n",
    "import numpy as np\n",
    "import torch\n",
    "import gc\n",
    "import dgl\n",
    "import torch.nn as nn\n",
    "import torch.nn.functional as F\n",
    "from dgl.nn.pytorch import GraphConv\n",
    "from torch.autograd import Variable\n",
    "\n",
    "from sklearn.utils import shuffle\n",
    "batchSize = 20"
   ]
  },
  {
   "cell_type": "code",
   "execution_count": 2,
   "metadata": {
    "scrolled": true
   },
   "outputs": [
    {
     "data": {
      "text/html": [
       "<div>\n",
       "<style scoped>\n",
       "    .dataframe tbody tr th:only-of-type {\n",
       "        vertical-align: middle;\n",
       "    }\n",
       "\n",
       "    .dataframe tbody tr th {\n",
       "        vertical-align: top;\n",
       "    }\n",
       "\n",
       "    .dataframe thead th {\n",
       "        text-align: right;\n",
       "    }\n",
       "</style>\n",
       "<table border=\"1\" class=\"dataframe\">\n",
       "  <thead>\n",
       "    <tr style=\"text-align: right;\">\n",
       "      <th></th>\n",
       "      <th>Unnamed: 0</th>\n",
       "      <th>file_name</th>\n",
       "      <th>label</th>\n",
       "    </tr>\n",
       "  </thead>\n",
       "  <tbody>\n",
       "    <tr>\n",
       "      <th>0</th>\n",
       "      <td>0</td>\n",
       "      <td>../negative_graph_save/4de5_ligand_2</td>\n",
       "      <td>0.0</td>\n",
       "    </tr>\n",
       "    <tr>\n",
       "      <th>1</th>\n",
       "      <td>1</td>\n",
       "      <td>../negative_graph_save/5ngz_ligand_2</td>\n",
       "      <td>0.0</td>\n",
       "    </tr>\n",
       "    <tr>\n",
       "      <th>2</th>\n",
       "      <td>2</td>\n",
       "      <td>../negative_graph_save/4rvr_ligand_4</td>\n",
       "      <td>0.0</td>\n",
       "    </tr>\n",
       "    <tr>\n",
       "      <th>3</th>\n",
       "      <td>3</td>\n",
       "      <td>../negative_graph_save/2cgf_ligand_5</td>\n",
       "      <td>0.0</td>\n",
       "    </tr>\n",
       "    <tr>\n",
       "      <th>4</th>\n",
       "      <td>4</td>\n",
       "      <td>../negative_graph_save/5n0e_ligand_7</td>\n",
       "      <td>0.0</td>\n",
       "    </tr>\n",
       "  </tbody>\n",
       "</table>\n",
       "</div>"
      ],
      "text/plain": [
       "   Unnamed: 0                             file_name  label\n",
       "0           0  ../negative_graph_save/4de5_ligand_2    0.0\n",
       "1           1  ../negative_graph_save/5ngz_ligand_2    0.0\n",
       "2           2  ../negative_graph_save/4rvr_ligand_4    0.0\n",
       "3           3  ../negative_graph_save/2cgf_ligand_5    0.0\n",
       "4           4  ../negative_graph_save/5n0e_ligand_7    0.0"
      ]
     },
     "execution_count": 2,
     "metadata": {},
     "output_type": "execute_result"
    }
   ],
   "source": [
    "df = pd.read_csv('./train_dataset.csv')\n",
    "df.head()"
   ]
  },
  {
   "cell_type": "code",
   "execution_count": 27,
   "metadata": {},
   "outputs": [
    {
     "data": {
      "text/plain": [
       "{'H': 0,\n",
       " 'HD': 0,\n",
       " 'HS': 0,\n",
       " 'C': 0,\n",
       " 'A': 0,\n",
       " 'N': 0,\n",
       " 'NA': 0,\n",
       " 'NS': 0,\n",
       " 'OA': 0,\n",
       " 'OS': 0,\n",
       " 'F': 0,\n",
       " 'MG': 0,\n",
       " 'P': 0,\n",
       " 'SA': 0,\n",
       " 'S': 0,\n",
       " 'CL': 0,\n",
       " 'CA': 0,\n",
       " 'MN': 0,\n",
       " 'FE': 0,\n",
       " 'ZN': 0,\n",
       " 'BR': 0,\n",
       " 'I': 0}"
      ]
     },
     "execution_count": 27,
     "metadata": {},
     "output_type": "execute_result"
    }
   ],
   "source": [
    "types = ['H', 'HD', 'HS', 'C', 'A', 'N', 'NA', 'NS', 'OA', 'OS', 'F', 'MG', 'P', 'SA', 'S', 'CL', 'CA', 'MN', 'FE', 'ZN', 'BR', 'I']\n",
    "typesCnt = {}.fromkeys(types, 0)\n",
    "typesCnt"
   ]
  },
  {
   "cell_type": "code",
   "execution_count": 52,
   "metadata": {},
   "outputs": [
    {
     "name": "stdout",
     "output_type": "stream",
     "text": [
      "21281"
     ]
    }
   ],
   "source": [
    "atomsCnt = np.zeros(44)\n",
    "for i, row in df.iterrows():\n",
    "    g = dgl.load_graphs(row['file_name'])[0][0]\n",
    "    #print(g)\n",
    "    #print(g.ndata['h'].shape)\n",
    "    #print(np.array(g.ndata['h'].squeeze(1).sum(0)))\n",
    "    atomsCnt = atomsCnt+np.array(g.ndata['h'].squeeze(1).sum(0))\n",
    "    print('\\r' + str(i), end='')"
   ]
  },
  {
   "cell_type": "code",
   "execution_count": 53,
   "metadata": {},
   "outputs": [
    {
     "data": {
      "text/plain": [
       "array([      0., 1751953.,       0., 2331176.,  543285.,  744218.,\n",
       "         35597.,       0., 1193117.,       0.,       0.,    1072.,\n",
       "             0.,       0.,   28679.,       0.,     566.,     353.,\n",
       "           143.,    3912.,       0.,       0.,       0.,   74193.,\n",
       "             0.,  190789.,  137985.,   40908.,   17974.,       0.,\n",
       "         97346.,       0.,    4295.,       0.,    4537.,       0.,\n",
       "          7736.,    2927.,       0.,       0.,       0.,       0.,\n",
       "           599.,     125.])"
      ]
     },
     "execution_count": 53,
     "metadata": {},
     "output_type": "execute_result"
    }
   ],
   "source": [
    "np.set_printoptions(suppress=True)\n",
    "atomsCnt"
   ]
  },
  {
   "cell_type": "code",
   "execution_count": 54,
   "metadata": {},
   "outputs": [
    {
     "name": "stdout",
     "output_type": "stream",
     "text": [
      "5347"
     ]
    }
   ],
   "source": [
    "dfVal = pd.read_csv('./validation_dataset.csv')\n",
    "for i, row in dfVal.iterrows():\n",
    "    g = dgl.load_graphs(row['file_name'])[0][0]\n",
    "    #print(g)\n",
    "    #print(g.ndata['h'].shape)\n",
    "    #print(np.array(g.ndata['h'].squeeze(1).sum(0)))\n",
    "    atomsCnt = atomsCnt+np.array(g.ndata['h'].squeeze(1).sum(0))\n",
    "    print('\\r' + str(i), end='')"
   ]
  },
  {
   "cell_type": "code",
   "execution_count": 55,
   "metadata": {},
   "outputs": [
    {
     "data": {
      "text/plain": [
       "array([      0., 2187220.,       0., 2912684.,  676293.,  930295.,\n",
       "         44176.,       0., 1488516.,       0.,       0.,    1265.,\n",
       "             0.,       0.,   35621.,       0.,     741.,     519.,\n",
       "           172.,    4933.,       0.,       0.,       0.,   92336.,\n",
       "             0.,  238762.,  173318.,   51008.,   22566.,       0.,\n",
       "        121764.,       0.,    5322.,       0.,    5609.,       0.,\n",
       "          9950.,    3636.,       0.,       0.,       0.,       0.,\n",
       "           835.,     163.])"
      ]
     },
     "execution_count": 55,
     "metadata": {},
     "output_type": "execute_result"
    }
   ],
   "source": [
    "atomsCnt"
   ]
  },
  {
   "cell_type": "code",
   "execution_count": 56,
   "metadata": {},
   "outputs": [
    {
     "name": "stdout",
     "output_type": "stream",
     "text": [
      "5347"
     ]
    },
    {
     "data": {
      "text/plain": [
       "array([      0., 2622487.,       0., 3494192.,  809301., 1116372.,\n",
       "         52755.,       0., 1783915.,       0.,       0.,    1458.,\n",
       "             0.,       0.,   42563.,       0.,     916.,     685.,\n",
       "           201.,    5954.,       0.,       0.,       0.,  110479.,\n",
       "             0.,  286735.,  208651.,   61108.,   27158.,       0.,\n",
       "        146182.,       0.,    6349.,       0.,    6681.,       0.,\n",
       "         12164.,    4345.,       0.,       0.,       0.,       0.,\n",
       "          1071.,     201.])"
      ]
     },
     "execution_count": 56,
     "metadata": {},
     "output_type": "execute_result"
    }
   ],
   "source": [
    "dfTest = pd.read_csv('./test_dataset.csv')\n",
    "for i, row in dfVal.iterrows():\n",
    "    g = dgl.load_graphs(row['file_name'])[0][0]\n",
    "    #print(g)\n",
    "    #print(g.ndata['h'].shape)\n",
    "    #print(np.array(g.ndata['h'].squeeze(1).sum(0)))\n",
    "    atomsCnt = atomsCnt+np.array(g.ndata['h'].squeeze(1).sum(0))\n",
    "    print('\\r' + str(i), end='')\n",
    "atomsCnt"
   ]
  },
  {
   "cell_type": "code",
   "execution_count": 57,
   "metadata": {},
   "outputs": [
    {
     "data": {
      "text/html": [
       "<div>\n",
       "<style scoped>\n",
       "    .dataframe tbody tr th:only-of-type {\n",
       "        vertical-align: middle;\n",
       "    }\n",
       "\n",
       "    .dataframe tbody tr th {\n",
       "        vertical-align: top;\n",
       "    }\n",
       "\n",
       "    .dataframe thead th {\n",
       "        text-align: right;\n",
       "    }\n",
       "</style>\n",
       "<table border=\"1\" class=\"dataframe\">\n",
       "  <thead>\n",
       "    <tr style=\"text-align: right;\">\n",
       "      <th></th>\n",
       "      <th>Unnamed: 0</th>\n",
       "      <th>file_name</th>\n",
       "      <th>label</th>\n",
       "    </tr>\n",
       "  </thead>\n",
       "  <tbody>\n",
       "    <tr>\n",
       "      <th>0</th>\n",
       "      <td>0</td>\n",
       "      <td>../negative_graph_save/1a4k_ligand_7</td>\n",
       "      <td>0.0</td>\n",
       "    </tr>\n",
       "    <tr>\n",
       "      <th>1</th>\n",
       "      <td>1</td>\n",
       "      <td>../positive_graph_save/4avh</td>\n",
       "      <td>1.0</td>\n",
       "    </tr>\n",
       "    <tr>\n",
       "      <th>2</th>\n",
       "      <td>2</td>\n",
       "      <td>../negative_graph_save/4lm4_ligand_5</td>\n",
       "      <td>0.0</td>\n",
       "    </tr>\n",
       "    <tr>\n",
       "      <th>3</th>\n",
       "      <td>3</td>\n",
       "      <td>../negative_graph_save/4c5d_ligand_7</td>\n",
       "      <td>0.0</td>\n",
       "    </tr>\n",
       "    <tr>\n",
       "      <th>4</th>\n",
       "      <td>4</td>\n",
       "      <td>../negative_graph_save/5l4m_ligand_3</td>\n",
       "      <td>0.0</td>\n",
       "    </tr>\n",
       "  </tbody>\n",
       "</table>\n",
       "</div>"
      ],
      "text/plain": [
       "   Unnamed: 0                             file_name  label\n",
       "0           0  ../negative_graph_save/1a4k_ligand_7    0.0\n",
       "1           1           ../positive_graph_save/4avh    1.0\n",
       "2           2  ../negative_graph_save/4lm4_ligand_5    0.0\n",
       "3           3  ../negative_graph_save/4c5d_ligand_7    0.0\n",
       "4           4  ../negative_graph_save/5l4m_ligand_3    0.0"
      ]
     },
     "execution_count": 57,
     "metadata": {},
     "output_type": "execute_result"
    }
   ],
   "source": [
    "dfVal.head()"
   ]
  },
  {
   "cell_type": "code",
   "execution_count": 58,
   "metadata": {
    "scrolled": false
   },
   "outputs": [
    {
     "data": {
      "text/html": [
       "<div>\n",
       "<style scoped>\n",
       "    .dataframe tbody tr th:only-of-type {\n",
       "        vertical-align: middle;\n",
       "    }\n",
       "\n",
       "    .dataframe tbody tr th {\n",
       "        vertical-align: top;\n",
       "    }\n",
       "\n",
       "    .dataframe thead th {\n",
       "        text-align: right;\n",
       "    }\n",
       "</style>\n",
       "<table border=\"1\" class=\"dataframe\">\n",
       "  <thead>\n",
       "    <tr style=\"text-align: right;\">\n",
       "      <th></th>\n",
       "      <th>Unnamed: 0</th>\n",
       "      <th>Unnamed: 0.1</th>\n",
       "      <th>file_name</th>\n",
       "      <th>label</th>\n",
       "    </tr>\n",
       "  </thead>\n",
       "  <tbody>\n",
       "    <tr>\n",
       "      <th>0</th>\n",
       "      <td>0</td>\n",
       "      <td>0</td>\n",
       "      <td>../positive_graph_save8A_test/6as8</td>\n",
       "      <td>1.0</td>\n",
       "    </tr>\n",
       "    <tr>\n",
       "      <th>1</th>\n",
       "      <td>1</td>\n",
       "      <td>1</td>\n",
       "      <td>../positive_graph_save8A_test/6eeb</td>\n",
       "      <td>1.0</td>\n",
       "    </tr>\n",
       "    <tr>\n",
       "      <th>2</th>\n",
       "      <td>2</td>\n",
       "      <td>2</td>\n",
       "      <td>../positive_graph_save8A_test/6dys</td>\n",
       "      <td>1.0</td>\n",
       "    </tr>\n",
       "    <tr>\n",
       "      <th>3</th>\n",
       "      <td>3</td>\n",
       "      <td>3</td>\n",
       "      <td>../positive_graph_save8A_test/5zg1</td>\n",
       "      <td>1.0</td>\n",
       "    </tr>\n",
       "    <tr>\n",
       "      <th>4</th>\n",
       "      <td>4</td>\n",
       "      <td>4</td>\n",
       "      <td>../positive_graph_save8A_test/6aro</td>\n",
       "      <td>1.0</td>\n",
       "    </tr>\n",
       "  </tbody>\n",
       "</table>\n",
       "</div>"
      ],
      "text/plain": [
       "   Unnamed: 0  Unnamed: 0.1                           file_name  label\n",
       "0           0             0  ../positive_graph_save8A_test/6as8    1.0\n",
       "1           1             1  ../positive_graph_save8A_test/6eeb    1.0\n",
       "2           2             2  ../positive_graph_save8A_test/6dys    1.0\n",
       "3           3             3  ../positive_graph_save8A_test/5zg1    1.0\n",
       "4           4             4  ../positive_graph_save8A_test/6aro    1.0"
      ]
     },
     "execution_count": 58,
     "metadata": {},
     "output_type": "execute_result"
    }
   ],
   "source": [
    "dfTest.head()"
   ]
  },
  {
   "cell_type": "markdown",
   "metadata": {},
   "source": []
  },
  {
   "cell_type": "code",
   "execution_count": 51,
   "metadata": {},
   "outputs": [
    {
     "data": {
      "text/plain": [
       "2622487.0"
      ]
     },
     "execution_count": 51,
     "metadata": {},
     "output_type": "execute_result"
    }
   ],
   "source": [
    "atomsCnt"
   ]
  },
  {
   "cell_type": "code",
   "execution_count": 59,
   "metadata": {},
   "outputs": [
    {
     "data": {
      "text/plain": [
       "array([      0., 2732966.,       0., 3780927., 1017952., 1177480.,\n",
       "         79913.,       0., 1930097.,       0.,    6349.,    1458.,\n",
       "          6681.,       0.,   54727.,    4345.,     916.,     685.,\n",
       "           201.,    5954.,    1071.,     201.])"
      ]
     },
     "execution_count": 59,
     "metadata": {},
     "output_type": "execute_result"
    }
   ],
   "source": [
    "atomsCnts = np.array_split(atomsCnt, 2)\n",
    "atomsCnt = atomsCnts[0] + atomsCnts[1]\n",
    "atomsCnt"
   ]
  },
  {
   "cell_type": "markdown",
   "metadata": {},
   "source": []
  },
  {
   "cell_type": "code",
   "execution_count": null,
   "metadata": {},
   "outputs": [],
   "source": []
  }
 ],
 "metadata": {
  "kernelspec": {
   "display_name": "Python 3",
   "language": "python",
   "name": "python3"
  },
  "language_info": {
   "codemirror_mode": {
    "name": "ipython",
    "version": 3
   },
   "file_extension": ".py",
   "mimetype": "text/x-python",
   "name": "python",
   "nbconvert_exporter": "python",
   "pygments_lexer": "ipython3",
   "version": "3.8.5"
  }
 },
 "nbformat": 4,
 "nbformat_minor": 4
}
