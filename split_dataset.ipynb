{
 "cells": [
  {
   "cell_type": "markdown",
   "id": "d4c05adb",
   "metadata": {},
   "source": [
    "划分数据集为训练集和验证集以及测试集（不能有相同的receptor-lignad pair）"
   ]
  },
  {
   "cell_type": "code",
   "execution_count": 2,
   "id": "2991ca7a",
   "metadata": {},
   "outputs": [],
   "source": [
    "import pandas as pd\n",
    "import numpy as np\n",
    "import os\n",
    "from sklearn.utils import shuffle"
   ]
  },
  {
   "cell_type": "code",
   "execution_count": 2,
   "id": "7d4227b6",
   "metadata": {},
   "outputs": [
    {
     "data": {
      "text/plain": [
       "4852"
      ]
     },
     "execution_count": 2,
     "metadata": {},
     "output_type": "execute_result"
    }
   ],
   "source": [
    "dfPosi = pd.read_csv('./positive_dataset.csv')\n",
    "len(dfPosi)"
   ]
  },
  {
   "cell_type": "code",
   "execution_count": 3,
   "id": "399349ff",
   "metadata": {
    "scrolled": false
   },
   "outputs": [
    {
     "data": {
      "text/plain": [
       "21778"
      ]
     },
     "execution_count": 3,
     "metadata": {},
     "output_type": "execute_result"
    }
   ],
   "source": [
    "dfNega = pd.read_csv('./negative_dataset.csv')\n",
    "dfNega.head()\n",
    "len(dfNega)"
   ]
  },
  {
   "cell_type": "code",
   "execution_count": 8,
   "id": "3ad2be88",
   "metadata": {
    "scrolled": true
   },
   "outputs": [
    {
     "data": {
      "text/plain": [
       "2788"
      ]
     },
     "execution_count": 8,
     "metadata": {},
     "output_type": "execute_result"
    }
   ],
   "source": [
    "dfTest = pd.read_csv('./test_dataset.csv')\n",
    "dfTest.tail()\n",
    "len(dfTest)"
   ]
  },
  {
   "cell_type": "code",
   "execution_count": 9,
   "id": "dec8ff38",
   "metadata": {
    "scrolled": true
   },
   "outputs": [
    {
     "data": {
      "text/plain": [
       "29418"
      ]
     },
     "execution_count": 9,
     "metadata": {},
     "output_type": "execute_result"
    }
   ],
   "source": [
    "dfAll = pd.concat([dfPosi, dfNega, dfTest])\n",
    "dfAll.head()\n",
    "len(dfAll)"
   ]
  },
  {
   "cell_type": "code",
   "execution_count": 10,
   "id": "05b4adb7",
   "metadata": {
    "scrolled": true
   },
   "outputs": [
    {
     "data": {
      "text/html": [
       "<div>\n",
       "<style scoped>\n",
       "    .dataframe tbody tr th:only-of-type {\n",
       "        vertical-align: middle;\n",
       "    }\n",
       "\n",
       "    .dataframe tbody tr th {\n",
       "        vertical-align: top;\n",
       "    }\n",
       "\n",
       "    .dataframe thead th {\n",
       "        text-align: right;\n",
       "    }\n",
       "</style>\n",
       "<table border=\"1\" class=\"dataframe\">\n",
       "  <thead>\n",
       "    <tr style=\"text-align: right;\">\n",
       "      <th></th>\n",
       "      <th>Unnamed: 0</th>\n",
       "      <th>file_name</th>\n",
       "      <th>label</th>\n",
       "      <th>Unnamed: 0.1</th>\n",
       "    </tr>\n",
       "  </thead>\n",
       "  <tbody>\n",
       "    <tr>\n",
       "      <th>10873</th>\n",
       "      <td>10873</td>\n",
       "      <td>../negative_graph_save/1o2z_ligand_3</td>\n",
       "      <td>0.0</td>\n",
       "      <td>NaN</td>\n",
       "    </tr>\n",
       "    <tr>\n",
       "      <th>2429</th>\n",
       "      <td>2429</td>\n",
       "      <td>../positive_graph_save/2f8g</td>\n",
       "      <td>1.0</td>\n",
       "      <td>NaN</td>\n",
       "    </tr>\n",
       "    <tr>\n",
       "      <th>11525</th>\n",
       "      <td>11525</td>\n",
       "      <td>../negative_graph_save/3iof_ligand_1</td>\n",
       "      <td>0.0</td>\n",
       "      <td>NaN</td>\n",
       "    </tr>\n",
       "    <tr>\n",
       "      <th>2491</th>\n",
       "      <td>2491</td>\n",
       "      <td>../negative_graph_save8A_test/6dys_ligand_3.p</td>\n",
       "      <td>0.0</td>\n",
       "      <td>2027.0</td>\n",
       "    </tr>\n",
       "    <tr>\n",
       "      <th>10774</th>\n",
       "      <td>10774</td>\n",
       "      <td>../negative_graph_save/1e1v_ligand_1</td>\n",
       "      <td>0.0</td>\n",
       "      <td>NaN</td>\n",
       "    </tr>\n",
       "  </tbody>\n",
       "</table>\n",
       "</div>"
      ],
      "text/plain": [
       "       Unnamed: 0                                      file_name  label  \\\n",
       "10873       10873           ../negative_graph_save/1o2z_ligand_3    0.0   \n",
       "2429         2429                    ../positive_graph_save/2f8g    1.0   \n",
       "11525       11525           ../negative_graph_save/3iof_ligand_1    0.0   \n",
       "2491         2491  ../negative_graph_save8A_test/6dys_ligand_3.p    0.0   \n",
       "10774       10774           ../negative_graph_save/1e1v_ligand_1    0.0   \n",
       "\n",
       "       Unnamed: 0.1  \n",
       "10873           NaN  \n",
       "2429            NaN  \n",
       "11525           NaN  \n",
       "2491         2027.0  \n",
       "10774           NaN  "
      ]
     },
     "execution_count": 10,
     "metadata": {},
     "output_type": "execute_result"
    }
   ],
   "source": [
    "dfAll = shuffle(dfAll)\n",
    "dfAll.head()"
   ]
  },
  {
   "cell_type": "code",
   "execution_count": 25,
   "id": "f3f2e682",
   "metadata": {
    "scrolled": false
   },
   "outputs": [
    {
     "data": {
      "text/plain": [
       "2"
      ]
     },
     "execution_count": 25,
     "metadata": {},
     "output_type": "execute_result"
    }
   ],
   "source": [
    "a = pd.DataFrame(columns=['file_name', 'label'])\n",
    "b = pd.DataFrame()\n",
    "a = a.append([{\"file_name\":'dsa', 'label':1.0}, {\"file_name\":'123', 'label':0.0}])\n",
    "a.shape[0]"
   ]
  },
  {
   "cell_type": "code",
   "execution_count": 3,
   "id": "e1f0090d",
   "metadata": {},
   "outputs": [],
   "source": [
    "positive_path = \"../positive_graph_featureSimplified/\"\n",
    "negative_path = \"../negative_graph_featureSimplified/\"\n",
    "posiFiles = [positive_path + i for i in os.listdir(positive_path)]\n",
    "negaFiles = [negative_path + i for i in os.listdir(negative_path)]"
   ]
  },
  {
   "cell_type": "code",
   "execution_count": 5,
   "id": "3f3d17bd",
   "metadata": {},
   "outputs": [],
   "source": [
    "posiLabels = [1.0] * len(posiFiles)\n",
    "negaLabels = [0.0] * len(negaFiles)"
   ]
  },
  {
   "cell_type": "code",
   "execution_count": 7,
   "id": "906a2cec",
   "metadata": {},
   "outputs": [
    {
     "data": {
      "text/html": [
       "<div>\n",
       "<style scoped>\n",
       "    .dataframe tbody tr th:only-of-type {\n",
       "        vertical-align: middle;\n",
       "    }\n",
       "\n",
       "    .dataframe tbody tr th {\n",
       "        vertical-align: top;\n",
       "    }\n",
       "\n",
       "    .dataframe thead th {\n",
       "        text-align: right;\n",
       "    }\n",
       "</style>\n",
       "<table border=\"1\" class=\"dataframe\">\n",
       "  <thead>\n",
       "    <tr style=\"text-align: right;\">\n",
       "      <th></th>\n",
       "      <th>file_name</th>\n",
       "      <th>label</th>\n",
       "    </tr>\n",
       "  </thead>\n",
       "  <tbody>\n",
       "    <tr>\n",
       "      <th>26625</th>\n",
       "      <td>../negative_graph_featureSimplified/2v00_ligand_8</td>\n",
       "      <td>0.0</td>\n",
       "    </tr>\n",
       "    <tr>\n",
       "      <th>26626</th>\n",
       "      <td>../negative_graph_featureSimplified/2v59_ligand_5</td>\n",
       "      <td>0.0</td>\n",
       "    </tr>\n",
       "    <tr>\n",
       "      <th>26627</th>\n",
       "      <td>../negative_graph_featureSimplified/3i9g_ligand_2</td>\n",
       "      <td>0.0</td>\n",
       "    </tr>\n",
       "    <tr>\n",
       "      <th>26628</th>\n",
       "      <td>../negative_graph_featureSimplified/2qi4_ligand_6</td>\n",
       "      <td>0.0</td>\n",
       "    </tr>\n",
       "    <tr>\n",
       "      <th>26629</th>\n",
       "      <td>../negative_graph_featureSimplified/1o7o_ligand_7</td>\n",
       "      <td>0.0</td>\n",
       "    </tr>\n",
       "  </tbody>\n",
       "</table>\n",
       "</div>"
      ],
      "text/plain": [
       "                                               file_name  label\n",
       "26625  ../negative_graph_featureSimplified/2v00_ligand_8    0.0\n",
       "26626  ../negative_graph_featureSimplified/2v59_ligand_5    0.0\n",
       "26627  ../negative_graph_featureSimplified/3i9g_ligand_2    0.0\n",
       "26628  ../negative_graph_featureSimplified/2qi4_ligand_6    0.0\n",
       "26629  ../negative_graph_featureSimplified/1o7o_ligand_7    0.0"
      ]
     },
     "execution_count": 7,
     "metadata": {},
     "output_type": "execute_result"
    }
   ],
   "source": [
    "dfAll = pd.DataFrame({'file_name':posiFiles + negaFiles, 'label': posiLabels + negaLabels})\n",
    "dfAll.tail()"
   ]
  },
  {
   "cell_type": "code",
   "execution_count": 8,
   "id": "328b537a",
   "metadata": {},
   "outputs": [],
   "source": [
    "dfTrain = pd.DataFrame(columns=['file_name', 'label'])\n",
    "dfValidation = pd.DataFrame(columns=['file_name', 'label'])\n",
    "dfTest = pd.DataFrame(columns=['file_name', 'label'])\n",
    "numTrain = 0\n",
    "numValidation = 0\n",
    "numTest = 0\n",
    "dictTrain = []\n",
    "dictVali = []\n",
    "dictTest = []"
   ]
  },
  {
   "cell_type": "code",
   "execution_count": 9,
   "id": "45c74055",
   "metadata": {},
   "outputs": [
    {
     "name": "stdout",
     "output_type": "stream",
     "text": [
      "26629"
     ]
    }
   ],
   "source": [
    "count = 0\n",
    "for i, row in dfAll.iterrows():\n",
    "    print('\\r' + str(count), end='')\n",
    "    count+=1\n",
    "    name = ''\n",
    "    #extract name\n",
    "    if row['label'] == 0.0:\n",
    "        name = row['file_name'][-13:-9]\n",
    "    else:\n",
    "        name = row['file_name'][-4:]\n",
    "    # add a new row\n",
    "    if name in dictTrain:\n",
    "        dfTrain.loc[numTrain] = row\n",
    "        numTrain += 1\n",
    "    elif name in dictVali:\n",
    "        dfValidation.loc[numValidation] = row\n",
    "        numValidation += 1\n",
    "    elif name in dictTest:\n",
    "        dfTest.loc[numTest] = row\n",
    "        numTest += 1\n",
    "    else:\n",
    "        flag = np.array([2*numTrain, 7*numValidation, 14*numTest]).argsort()[0]\n",
    "        if flag == 0:\n",
    "            dfTrain.loc[numTrain] = row\n",
    "            numTrain += 1\n",
    "            dictTrain.append(name)\n",
    "        elif flag == 1:\n",
    "            dfValidation.loc[numValidation] = row\n",
    "            numValidation += 1\n",
    "            dictVali.append(name)\n",
    "        else:\n",
    "            dfTest.loc[numTest] = row\n",
    "            numTest += 1\n",
    "            dictTest.append(name)"
   ]
  },
  {
   "cell_type": "code",
   "execution_count": 10,
   "id": "988907b2",
   "metadata": {
    "scrolled": false
   },
   "outputs": [
    {
     "name": "stdout",
     "output_type": "stream",
     "text": [
      "18638 5352 2640\n"
     ]
    }
   ],
   "source": [
    "print(numTrain, numValidation, numTest)"
   ]
  },
  {
   "cell_type": "code",
   "execution_count": 11,
   "id": "24c4a269",
   "metadata": {},
   "outputs": [],
   "source": [
    "dfTrain.to_csv('./train_dataset_simple.csv')\n",
    "dfValidation.to_csv('./validation_dataset_simple.csv')\n",
    "dfTest.to_csv('./test_simple.csv')"
   ]
  }
 ],
 "metadata": {
  "kernelspec": {
   "display_name": "Python 3 (ipykernel)",
   "language": "python",
   "name": "python3"
  },
  "language_info": {
   "codemirror_mode": {
    "name": "ipython",
    "version": 3
   },
   "file_extension": ".py",
   "mimetype": "text/x-python",
   "name": "python",
   "nbconvert_exporter": "python",
   "pygments_lexer": "ipython3",
   "version": "3.8.3"
  }
 },
 "nbformat": 4,
 "nbformat_minor": 5
}
