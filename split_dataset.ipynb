{
 "cells": [
  {
   "cell_type": "markdown",
   "id": "b8c26354",
   "metadata": {},
   "source": [
    "划分数据集为训练集和验证集以及测试集（不能有相同的receptor-lignad pair）"
   ]
  },
  {
   "cell_type": "code",
   "execution_count": 1,
   "id": "e7c1fea0",
   "metadata": {},
   "outputs": [],
   "source": [
    "import pandas as pd\n",
    "import numpy as np\n",
    "import os\n",
    "from sklearn.utils import shuffle"
   ]
  },
  {
   "cell_type": "code",
   "execution_count": 2,
   "id": "140ab6b9",
   "metadata": {},
   "outputs": [
    {
     "data": {
      "text/plain": [
       "4852"
      ]
     },
     "execution_count": 2,
     "metadata": {},
     "output_type": "execute_result"
    }
   ],
   "source": [
    "dfPosi = pd.read_csv('./positive_dataset.csv')\n",
    "len(dfPosi)"
   ]
  },
  {
   "cell_type": "code",
   "execution_count": 3,
   "id": "ec8e126e",
   "metadata": {
    "scrolled": true
   },
   "outputs": [
    {
     "data": {
      "text/plain": [
       "21778"
      ]
     },
     "execution_count": 3,
     "metadata": {},
     "output_type": "execute_result"
    }
   ],
   "source": [
    "dfNega = pd.read_csv('./negative_dataset.csv')\n",
    "dfNega.head()\n",
    "len(dfNega)"
   ]
  },
  {
   "cell_type": "code",
   "execution_count": 8,
   "id": "4ba20c7c",
   "metadata": {
    "scrolled": true
   },
   "outputs": [
    {
     "data": {
      "text/plain": [
       "2788"
      ]
     },
     "execution_count": 8,
     "metadata": {},
     "output_type": "execute_result"
    }
   ],
   "source": [
    "dfTest = pd.read_csv('./test_dataset.csv')\n",
    "dfTest.tail()\n",
    "len(dfTest)"
   ]
  },
  {
   "cell_type": "code",
   "execution_count": 9,
   "id": "31c21440",
   "metadata": {
    "scrolled": true
   },
   "outputs": [
    {
     "data": {
      "text/plain": [
       "29418"
      ]
     },
     "execution_count": 9,
     "metadata": {},
     "output_type": "execute_result"
    }
   ],
   "source": [
    "dfAll = pd.concat([dfPosi, dfNega, dfTest])\n",
    "dfAll.head()\n",
    "len(dfAll)"
   ]
  },
  {
   "cell_type": "code",
   "execution_count": 10,
   "id": "67aa2fff",
   "metadata": {
    "scrolled": true
   },
   "outputs": [
    {
     "data": {
      "text/html": [
       "<div>\n",
       "<style scoped>\n",
       "    .dataframe tbody tr th:only-of-type {\n",
       "        vertical-align: middle;\n",
       "    }\n",
       "\n",
       "    .dataframe tbody tr th {\n",
       "        vertical-align: top;\n",
       "    }\n",
       "\n",
       "    .dataframe thead th {\n",
       "        text-align: right;\n",
       "    }\n",
       "</style>\n",
       "<table border=\"1\" class=\"dataframe\">\n",
       "  <thead>\n",
       "    <tr style=\"text-align: right;\">\n",
       "      <th></th>\n",
       "      <th>Unnamed: 0</th>\n",
       "      <th>file_name</th>\n",
       "      <th>label</th>\n",
       "      <th>Unnamed: 0.1</th>\n",
       "    </tr>\n",
       "  </thead>\n",
       "  <tbody>\n",
       "    <tr>\n",
       "      <th>10873</th>\n",
       "      <td>10873</td>\n",
       "      <td>../negative_graph_save/1o2z_ligand_3</td>\n",
       "      <td>0.0</td>\n",
       "      <td>NaN</td>\n",
       "    </tr>\n",
       "    <tr>\n",
       "      <th>2429</th>\n",
       "      <td>2429</td>\n",
       "      <td>../positive_graph_save/2f8g</td>\n",
       "      <td>1.0</td>\n",
       "      <td>NaN</td>\n",
       "    </tr>\n",
       "    <tr>\n",
       "      <th>11525</th>\n",
       "      <td>11525</td>\n",
       "      <td>../negative_graph_save/3iof_ligand_1</td>\n",
       "      <td>0.0</td>\n",
       "      <td>NaN</td>\n",
       "    </tr>\n",
       "    <tr>\n",
       "      <th>2491</th>\n",
       "      <td>2491</td>\n",
       "      <td>../negative_graph_save8A_test/6dys_ligand_3.p</td>\n",
       "      <td>0.0</td>\n",
       "      <td>2027.0</td>\n",
       "    </tr>\n",
       "    <tr>\n",
       "      <th>10774</th>\n",
       "      <td>10774</td>\n",
       "      <td>../negative_graph_save/1e1v_ligand_1</td>\n",
       "      <td>0.0</td>\n",
       "      <td>NaN</td>\n",
       "    </tr>\n",
       "  </tbody>\n",
       "</table>\n",
       "</div>"
      ],
      "text/plain": [
       "       Unnamed: 0                                      file_name  label  \\\n",
       "10873       10873           ../negative_graph_save/1o2z_ligand_3    0.0   \n",
       "2429         2429                    ../positive_graph_save/2f8g    1.0   \n",
       "11525       11525           ../negative_graph_save/3iof_ligand_1    0.0   \n",
       "2491         2491  ../negative_graph_save8A_test/6dys_ligand_3.p    0.0   \n",
       "10774       10774           ../negative_graph_save/1e1v_ligand_1    0.0   \n",
       "\n",
       "       Unnamed: 0.1  \n",
       "10873           NaN  \n",
       "2429            NaN  \n",
       "11525           NaN  \n",
       "2491         2027.0  \n",
       "10774           NaN  "
      ]
     },
     "execution_count": 10,
     "metadata": {},
     "output_type": "execute_result"
    }
   ],
   "source": [
    "dfAll = shuffle(dfAll)\n",
    "dfAll.head()"
   ]
  },
  {
   "cell_type": "code",
   "execution_count": 12,
   "id": "29644651",
   "metadata": {
    "scrolled": true
   },
   "outputs": [
    {
     "data": {
      "text/plain": [
       "'../negative_graph_save/1o2z_ligand_3'"
      ]
     },
     "execution_count": 12,
     "metadata": {},
     "output_type": "execute_result"
    }
   ],
   "source": [
    "dfAll['file_name'][10873]"
   ]
  },
  {
   "cell_type": "code",
   "execution_count": 25,
   "id": "2c8a0930",
   "metadata": {
    "scrolled": false
   },
   "outputs": [
    {
     "data": {
      "text/plain": [
       "2"
      ]
     },
     "execution_count": 25,
     "metadata": {},
     "output_type": "execute_result"
    }
   ],
   "source": [
    "a = pd.DataFrame(columns=['file_name', 'label'])\n",
    "b = pd.DataFrame()\n",
    "a = a.append([{\"file_name\":'dsa', 'label':1.0}, {\"file_name\":'123', 'label':0.0}])\n",
    "a.shape[0]"
   ]
  },
  {
   "cell_type": "code",
   "execution_count": 18,
   "id": "fb62fae5",
   "metadata": {},
   "outputs": [],
   "source": [
    "dfTrain = pd.DataFrame(columns=['file_name', 'label'])\n",
    "dfValidation = pd.DataFrame(columns=['file_name', 'label'])\n",
    "dfTest = pd.DataFrame(columns=['file_name', 'label'])\n",
    "numTrain = 0\n",
    "numValidation = 0\n",
    "numTest = 0\n",
    "dictTrain = []\n",
    "dictVali = []\n",
    "dictTest = []"
   ]
  },
  {
   "cell_type": "code",
   "execution_count": 15,
   "id": "26ea4ca1",
   "metadata": {},
   "outputs": [
    {
     "data": {
      "text/plain": [
       "array([1, 0, 2], dtype=int64)"
      ]
     },
     "execution_count": 15,
     "metadata": {},
     "output_type": "execute_result"
    }
   ],
   "source": [
    "np.array([1,0,3]).argsort()"
   ]
  },
  {
   "cell_type": "code",
   "execution_count": 20,
   "id": "dd2dace7",
   "metadata": {},
   "outputs": [
    {
     "name": "stdout",
     "output_type": "stream",
     "text": [
      "29417"
     ]
    }
   ],
   "source": [
    "count = 0\n",
    "for i, row in dfAll.iterrows():\n",
    "    print('\\r' + str(count), end='')\n",
    "    count+=1\n",
    "    name = ''\n",
    "    #extract name\n",
    "    if row['label'] == 0.0:\n",
    "        name = row['file_name'][-13:-9]\n",
    "    else:\n",
    "        name = row['file_name'][-4:]\n",
    "    # add a new row\n",
    "    if name in dictTrain:\n",
    "        dfTrain.loc[numTrain] = row\n",
    "        numTrain += 1\n",
    "    elif name in dictVali:\n",
    "        dfValidation.loc[numValidation] = row\n",
    "        numValidation += 1\n",
    "    elif name in dictTest:\n",
    "        dfTest.loc[numTest] = row\n",
    "        numTest += 1\n",
    "    else:\n",
    "        flag = np.array([2*numTrain, 7*numValidation, 14*numTest]).argsort()[0]\n",
    "        if flag == 0:\n",
    "            dfTrain.loc[numTrain] = row\n",
    "            numTrain += 1\n",
    "            dictTrain.append(name)\n",
    "        elif flag == 1:\n",
    "            dfValidation.loc[numValidation] = row\n",
    "            numValidation += 1\n",
    "            dictVali.append(name)\n",
    "        else:\n",
    "            dfTest.loc[numTest] = row\n",
    "            numTest += 1\n",
    "            dictTest.append(name)"
   ]
  },
  {
   "cell_type": "code",
   "execution_count": 21,
   "id": "9cb26c07",
   "metadata": {
    "scrolled": true
   },
   "outputs": [
    {
     "name": "stdout",
     "output_type": "stream",
     "text": [
      "20563 5912 2946\n"
     ]
    }
   ],
   "source": [
    "print(numTrain, numValidation, numTest)"
   ]
  },
  {
   "cell_type": "code",
   "execution_count": 25,
   "id": "4f9f0e1b",
   "metadata": {},
   "outputs": [],
   "source": [
    "dfTrain.to_csv('./train_dataset.csv')\n",
    "dfValidation.to_csv('./validation_dataset.csv')\n",
    "dfTest"
   ]
  }
 ],
 "metadata": {
  "kernelspec": {
   "display_name": "Python 3 (ipykernel)",
   "language": "python",
   "name": "python3"
  },
  "language_info": {
   "codemirror_mode": {
    "name": "ipython",
    "version": 3
   },
   "file_extension": ".py",
   "mimetype": "text/x-python",
   "name": "python",
   "nbconvert_exporter": "python",
   "pygments_lexer": "ipython3",
   "version": "3.8.3"
  }
 },
 "nbformat": 4,
 "nbformat_minor": 5
}
