{
 "cells": [
  {
   "cell_type": "code",
   "execution_count": 1,
   "metadata": {},
   "outputs": [
    {
     "name": "stderr",
     "output_type": "stream",
     "text": [
      "Using backend: pytorch\n"
     ]
    }
   ],
   "source": [
    "from dgl.data import DGLDataset\n",
    "import os\n",
    "import numpy as np\n",
    "import pandas as pd\n",
    "import torch as th\n",
    "import dgl"
   ]
  },
  {
   "cell_type": "code",
   "execution_count": 3,
   "metadata": {},
   "outputs": [
    {
     "data": {
      "text/plain": [
       "Graph(num_nodes=6, num_edges=0,\n",
       "      ndata_schemes={}\n",
       "      edata_schemes={})"
      ]
     },
     "execution_count": 3,
     "metadata": {},
     "output_type": "execute_result"
    }
   ],
   "source": [
    "valid_elements = ['N', 'C', 'O', 'S', 'H', 'P', 'F', 'CL',  'BR',  'ZN']\n",
    "g = dgl.DGLGraph()\n",
    "g.add_nodes(6)\n",
    "g"
   ]
  },
  {
   "cell_type": "code",
   "execution_count": 5,
   "metadata": {},
   "outputs": [],
   "source": [
    "import json"
   ]
  },
  {
   "cell_type": "code",
   "execution_count": 11,
   "metadata": {},
   "outputs": [],
   "source": [
    "dgl.save_graphs('./positive_graph_save/g', [g])"
   ]
  },
  {
   "cell_type": "code",
   "execution_count": 13,
   "metadata": {
    "scrolled": true
   },
   "outputs": [
    {
     "data": {
      "text/plain": [
       "[Graph(num_nodes=6, num_edges=0,\n",
       "       ndata_schemes={}\n",
       "       edata_schemes={})]"
      ]
     },
     "execution_count": 13,
     "metadata": {},
     "output_type": "execute_result"
    }
   ],
   "source": [
    "g2 = dgl.load_graphs('./positive_graph_save/g')\n",
    "g2[0]"
   ]
  },
  {
   "cell_type": "code",
   "execution_count": 15,
   "metadata": {},
   "outputs": [
    {
     "data": {
      "text/plain": [
       "tensor([0.3000])"
      ]
     },
     "execution_count": 15,
     "metadata": {},
     "output_type": "execute_result"
    }
   ],
   "source": [
    "th.tensor([th.nn.Parameter(th.FloatTensor(1), requires_grad=True).data.fill_(0.3)])"
   ]
  },
  {
   "cell_type": "code",
   "execution_count": 17,
   "metadata": {},
   "outputs": [
    {
     "data": {
      "text/plain": [
       "tensor([[1.],\n",
       "        [1.]])"
      ]
     },
     "execution_count": 17,
     "metadata": {},
     "output_type": "execute_result"
    }
   ],
   "source": [
    "th.ones(2,1)"
   ]
  },
  {
   "cell_type": "code",
   "execution_count": 19,
   "metadata": {},
   "outputs": [
    {
     "data": {
      "text/plain": [
       "Parameter containing:\n",
       "tensor([8.4490e-39], requires_grad=True)"
      ]
     },
     "execution_count": 19,
     "metadata": {},
     "output_type": "execute_result"
    }
   ],
   "source": [
    "th.nn.Parameter(th.FloatTensor(1), requires_grad=True)"
   ]
  },
  {
   "cell_type": "code",
   "execution_count": 22,
   "metadata": {},
   "outputs": [
    {
     "ename": "TypeError",
     "evalue": "'builtin_function_or_method' object is not subscriptable",
     "output_type": "error",
     "traceback": [
      "\u001b[1;31m---------------------------------------------------------------------------\u001b[0m",
      "\u001b[1;31mTypeError\u001b[0m                                 Traceback (most recent call last)",
      "\u001b[1;32m<ipython-input-22-21447296627a>\u001b[0m in \u001b[0;36m<module>\u001b[1;34m\u001b[0m\n\u001b[0;32m      1\u001b[0m th.tensor([th.nn.Parameter(th.FloatTensor(1), requires_grad=True).data.fill_(0.3),\n\u001b[0;32m      2\u001b[0m                                th.nn.Parameter(th.FloatTensor(1), requires_grad=True).data.fill_(0.4)])\n\u001b[1;32m----> 3\u001b[1;33m \u001b[0mth\u001b[0m\u001b[1;33m.\u001b[0m\u001b[0mtensor\u001b[0m\u001b[1;33m[\u001b[0m\u001b[1;36m0\u001b[0m\u001b[1;33m]\u001b[0m\u001b[1;33m\u001b[0m\u001b[1;33m\u001b[0m\u001b[0m\n\u001b[0m",
      "\u001b[1;31mTypeError\u001b[0m: 'builtin_function_or_method' object is not subscriptable"
     ]
    }
   ],
   "source": [
    "th.tensor([th.nn.Parameter(th.FloatTensor(1), requires_grad=True).data.fill_(0.3),\n",
    "                               th.nn.Parameter(th.FloatTensor(1), requires_grad=True).data.fill_(0.4)])"
   ]
  },
  {
   "cell_type": "code",
   "execution_count": 27,
   "metadata": {},
   "outputs": [],
   "source": [
    "g_test = dgl.DGLGraph((th.tensor([0, 1]), th.tensor([1, 2])))\n",
    "\n",
    "g_test.edata['h'] = th.tensor([th.nn.Parameter(th.FloatTensor(1), requires_grad=True).data.fill_(0.3),\n",
    "                               th.nn.Parameter(th.FloatTensor(1), requires_grad=True).data.fill_(0.4)])"
   ]
  },
  {
   "cell_type": "code",
   "execution_count": 20,
   "metadata": {},
   "outputs": [
    {
     "data": {
      "text/plain": [
       "tensor([0.3000, 0.4000])"
      ]
     },
     "execution_count": 20,
     "metadata": {},
     "output_type": "execute_result"
    }
   ],
   "source": [
    "g_test.edata['h']"
   ]
  },
  {
   "cell_type": "code",
   "execution_count": 6,
   "metadata": {},
   "outputs": [],
   "source": [
    "import math"
   ]
  },
  {
   "cell_type": "code",
   "execution_count": null,
   "metadata": {},
   "outputs": [
    {
     "name": "stdout",
     "output_type": "stream",
     "text": [
      "4ufm_ligand_3.pdb\n",
      "3c2o_ligand_5.pdb\n",
      "3nuo_ligand_5.pdb\n",
      "6b98_ligand_3.pdb\n",
      "3mho_ligand_2.pdb\n",
      "4myd_ligand_5.pdb\n",
      "6eyt_ligand_3.pdb\n",
      "4aci_ligand_7.pdb\n"
     ]
    }
   ],
   "source": [
    "positive_pdb_dir = '../negative_pdb/'\n",
    "target_graph_dir = '../negative_graph_save/'\n",
    "valid_elements = ['N', 'C', 'O', 'S', 'H', 'P', 'F', 'CL',  'BR',  'ZN']\n",
    "element_onehot = {}.fromkeys(valid_elements, 0 )\n",
    "element_onehot['N'] = [1,0,0,0,0,0,0,0,0,0]\n",
    "element_onehot['C'] = [0,1,0,0,0,0,0,0,0,0]\n",
    "element_onehot['O'] = [0,0,1,0,0,0,0,0,0,0]\n",
    "element_onehot['S'] = [0,0,0,1,0,0,0,0,0,0]\n",
    "element_onehot['H'] = [0,0,0,0,1,0,0,0,0,0]\n",
    "element_onehot['P'] = [0,0,0,0,0,1,0,0,0,0]\n",
    "element_onehot['F'] = [0,0,0,0,0,0,1,0,0,0]\n",
    "element_onehot['CL'] = [0,0,0,0,0,0,0,1,0,0]\n",
    "element_onehot['BR'] = [0,0,0,0,0,0,0,0,1,0]\n",
    "element_onehot['ZN'] = [0,0,0,0,0,0,0,0,0,1]\n",
    "for pdb_name in os.listdir(positive_pdb_dir):\n",
    "    pdb_data = []                        #一个pdb文件中的信息汇总\n",
    "    # [element_name, protein_or_ligand, chain_id, x, y, z]\n",
    "    with open(positive_pdb_dir+pdb_name) as pdb_file:\n",
    "        for i in pdb_file.readlines():\n",
    "            if (i[:4]=='ATOM' or i[:6]=='HETATM') and i[76:78].strip() in valid_elements:\n",
    "                temp = ['C', 0, 'A', 2.2, 3.3, 2.2]#0代表蛋白质分子。 1代表ligand分子\n",
    "                temp[0] = i[76:78].strip()                   #element_name\n",
    "                temp[1] = 0 if i[:4]=='ATOM' else 1  #protein or ligand\n",
    "                temp[2] = i[21]                      #chain_id\n",
    "                temp[3] = float(i[30:38].strip())    #x\n",
    "                temp[4] = float(i[38:46].strip())    #y\n",
    "                temp[5] = float(i[46:54].strip())    #z\n",
    "                pdb_data.append(temp)\n",
    "    graph_edata = [] #edge weights\n",
    "    u_set = []\n",
    "    v_set = []\n",
    "    graph_ndata = []\n",
    "    for i in range(len(pdb_data)):\n",
    "        graph_ndata.append([element_onehot[pdb_data[i][0]]]) #[[ele1, other_feature], [ele2, other_feature],....]\n",
    "        for j in range(len(pdb_data)):\n",
    "            x_dis = pdb_data[i][3] - pdb_data[j][3]\n",
    "            y_dis = pdb_data[i][3] - pdb_data[j][3]\n",
    "            z_dis = pdb_data[i][3] - pdb_data[j][3]\n",
    "            dis = math.sqrt(x_dis**2+y_dis**2+z_dis**2)\n",
    "            if dis < 2.0 and pdb_data[i][1]==pdb_data[j][1] and pdb_data[i][2] == pdb_data[j][2]:\n",
    "                graph_edata.append([1])\n",
    "                graph_edata.append([1])\n",
    "                u_set.append(i)\n",
    "                v_set.append(j)\n",
    "                u_set.append(j)\n",
    "                v_set.append(i)\n",
    "            elif dis < 5.0 and (pdb_data[i][1]==pdb_data[j][1] or pdb_data[i][2] == pdb_data[j][2]):\n",
    "                graph_edata.append([dis])\n",
    "                graph_edata.append([dis])\n",
    "                u_set.append(i)\n",
    "                v_set.append(j)\n",
    "                u_set.append(j)\n",
    "                v_set.append(i)\n",
    "    g = dgl.DGLGraph()\n",
    "    g.add_nodes(len(graph_ndata))\n",
    "    g.add_edges(u_set, v_set)\n",
    "    \n",
    "    g.edata['h'] = th.tensor(graph_edata)\n",
    "    g.ndata['h'] = th.tensor(graph_ndata)\n",
    "    print(pdb_name)\n",
    "    dgl.save_graphs(target_graph_dir+pdb_name[:-4], [g])"
   ]
  }
 ],
 "metadata": {
  "kernelspec": {
   "display_name": "Python 3",
   "language": "python",
   "name": "python3"
  },
  "language_info": {
   "codemirror_mode": {
    "name": "ipython",
    "version": 3
   },
   "file_extension": ".py",
   "mimetype": "text/x-python",
   "name": "python",
   "nbconvert_exporter": "python",
   "pygments_lexer": "ipython3",
   "version": "3.8.5"
  }
 },
 "nbformat": 4,
 "nbformat_minor": 4
}
