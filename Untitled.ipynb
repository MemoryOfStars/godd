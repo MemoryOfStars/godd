{
 "cells": [
  {
   "cell_type": "code",
   "execution_count": 1,
   "metadata": {},
   "outputs": [
    {
     "name": "stderr",
     "output_type": "stream",
     "text": [
      "Using backend: pytorch\n"
     ]
    }
   ],
   "source": [
    "import time\n",
    "import os\n",
    "import pandas as pd\n",
    "import numpy as np\n",
    "import torch\n",
    "import gc\n",
    "import dgl\n",
    "import torch.nn as nn\n",
    "import torch.nn.functional as F\n",
    "from dgl.nn.pytorch import GraphConv\n",
    "from torch.autograd import Variable\n",
    "\n",
    "from sklearn.utils import shuffle\n",
    "batchSize = 20"
   ]
  },
  {
   "cell_type": "code",
   "execution_count": 2,
   "metadata": {
    "scrolled": true
   },
   "outputs": [
    {
     "data": {
      "text/html": [
       "<div>\n",
       "<style scoped>\n",
       "    .dataframe tbody tr th:only-of-type {\n",
       "        vertical-align: middle;\n",
       "    }\n",
       "\n",
       "    .dataframe tbody tr th {\n",
       "        vertical-align: top;\n",
       "    }\n",
       "\n",
       "    .dataframe thead th {\n",
       "        text-align: right;\n",
       "    }\n",
       "</style>\n",
       "<table border=\"1\" class=\"dataframe\">\n",
       "  <thead>\n",
       "    <tr style=\"text-align: right;\">\n",
       "      <th></th>\n",
       "      <th>Unnamed: 0</th>\n",
       "      <th>file_name</th>\n",
       "      <th>label</th>\n",
       "    </tr>\n",
       "  </thead>\n",
       "  <tbody>\n",
       "    <tr>\n",
       "      <th>0</th>\n",
       "      <td>0</td>\n",
       "      <td>../negative_graph_save/1o2z_ligand_3</td>\n",
       "      <td>0.0</td>\n",
       "    </tr>\n",
       "    <tr>\n",
       "      <th>1</th>\n",
       "      <td>1</td>\n",
       "      <td>../negative_graph_save/1o2z_ligand_3</td>\n",
       "      <td>0.0</td>\n",
       "    </tr>\n",
       "    <tr>\n",
       "      <th>2</th>\n",
       "      <td>2</td>\n",
       "      <td>../negative_graph_save/3iof_ligand_1</td>\n",
       "      <td>0.0</td>\n",
       "    </tr>\n",
       "    <tr>\n",
       "      <th>3</th>\n",
       "      <td>3</td>\n",
       "      <td>../negative_graph_save8A_test/6dys_ligand_3.p</td>\n",
       "      <td>0.0</td>\n",
       "    </tr>\n",
       "    <tr>\n",
       "      <th>4</th>\n",
       "      <td>4</td>\n",
       "      <td>../negative_graph_save/1e1v_ligand_1</td>\n",
       "      <td>0.0</td>\n",
       "    </tr>\n",
       "  </tbody>\n",
       "</table>\n",
       "</div>"
      ],
      "text/plain": [
       "   Unnamed: 0                                      file_name  label\n",
       "0           0           ../negative_graph_save/1o2z_ligand_3    0.0\n",
       "1           1           ../negative_graph_save/1o2z_ligand_3    0.0\n",
       "2           2           ../negative_graph_save/3iof_ligand_1    0.0\n",
       "3           3  ../negative_graph_save8A_test/6dys_ligand_3.p    0.0\n",
       "4           4           ../negative_graph_save/1e1v_ligand_1    0.0"
      ]
     },
     "execution_count": 2,
     "metadata": {},
     "output_type": "execute_result"
    }
   ],
   "source": [
    "df = pd.read_csv('./train_dataset.csv')\n",
    "df.head()"
   ]
  },
  {
   "cell_type": "code",
   "execution_count": 3,
   "metadata": {},
   "outputs": [
    {
     "data": {
      "text/plain": [
       "{'H': 0,\n",
       " 'HD': 0,\n",
       " 'HS': 0,\n",
       " 'C': 0,\n",
       " 'A': 0,\n",
       " 'N': 0,\n",
       " 'NA': 0,\n",
       " 'NS': 0,\n",
       " 'OA': 0,\n",
       " 'OS': 0,\n",
       " 'F': 0,\n",
       " 'MG': 0,\n",
       " 'P': 0,\n",
       " 'SA': 0,\n",
       " 'S': 0,\n",
       " 'CL': 0,\n",
       " 'CA': 0,\n",
       " 'MN': 0,\n",
       " 'FE': 0,\n",
       " 'ZN': 0,\n",
       " 'BR': 0,\n",
       " 'I': 0}"
      ]
     },
     "execution_count": 3,
     "metadata": {},
     "output_type": "execute_result"
    }
   ],
   "source": [
    "types = ['H', 'HD', 'HS', 'C', 'A', 'N', 'NA', 'NS', 'OA', 'OS', 'F', 'MG', 'P', 'SA', 'S', 'CL', 'CA', 'MN', 'FE', 'ZN', 'BR', 'I']\n",
    "typesCnt = {}.fromkeys(types, 0)\n",
    "typesCnt"
   ]
  },
  {
   "cell_type": "code",
   "execution_count": 4,
   "metadata": {},
   "outputs": [
    {
     "name": "stdout",
     "output_type": "stream",
     "text": [
      "20562"
     ]
    }
   ],
   "source": [
    "atomsCnt = np.zeros(44)\n",
    "for i, row in df.iterrows():\n",
    "    g = dgl.load_graphs(row['file_name'])[0][0]\n",
    "    #print(g)\n",
    "    #print(g.ndata['h'].shape)\n",
    "    #print(np.array(g.ndata['h'].squeeze(1).sum(0)))\n",
    "    atomsCnt = atomsCnt+np.array(g.ndata['h'].squeeze(1).sum(0))\n",
    "    print('\\r' + str(i), end='')"
   ]
  },
  {
   "cell_type": "code",
   "execution_count": 5,
   "metadata": {},
   "outputs": [
    {
     "data": {
      "text/plain": [
       "array([      0., 1621323.,       0., 2274419.,  529413.,  722558.,\n",
       "         33983.,       0., 1159557.,       0.,       0.,    1010.,\n",
       "             0.,       0.,   27981.,       0.,     597.,     345.,\n",
       "           122.,    3554.,       0.,       0.,       0.,   72318.,\n",
       "             0.,  188184.,  138263.,   40711.,   18009.,       0.,\n",
       "         93440.,       0.,    4442.,       0.,    4298.,       0.,\n",
       "          7428.,    2942.,       0.,       0.,       0.,       0.,\n",
       "           659.,     117.])"
      ]
     },
     "execution_count": 5,
     "metadata": {},
     "output_type": "execute_result"
    }
   ],
   "source": [
    "np.set_printoptions(suppress=True)\n",
    "atomsCnt"
   ]
  },
  {
   "cell_type": "code",
   "execution_count": 6,
   "metadata": {},
   "outputs": [
    {
     "name": "stdout",
     "output_type": "stream",
     "text": [
      "5911"
     ]
    }
   ],
   "source": [
    "dfVal = pd.read_csv('./validation_dataset.csv')\n",
    "for i, row in dfVal.iterrows():\n",
    "    g = dgl.load_graphs(row['file_name'])[0][0]\n",
    "    #print(g)\n",
    "    #print(g.ndata['h'].shape)\n",
    "    #print(np.array(g.ndata['h'].squeeze(1).sum(0)))\n",
    "    atomsCnt = atomsCnt+np.array(g.ndata['h'].squeeze(1).sum(0))\n",
    "    print('\\r' + str(i), end='')"
   ]
  },
  {
   "cell_type": "code",
   "execution_count": 7,
   "metadata": {
    "scrolled": true
   },
   "outputs": [
    {
     "data": {
      "text/plain": [
       "array([      0., 2093911.,       0., 2921336.,  677441.,  930370.,\n",
       "         43968.,       0., 1492234.,       0.,       0.,    1294.,\n",
       "             0.,       0.,   35686.,       0.,     708.,     502.,\n",
       "           153.,    4723.,       0.,       0.,       0.,   92874.,\n",
       "             0.,  241891.,  174413.,   52071.,   22813.,       0.,\n",
       "        119831.,       0.,    5426.,       0.,    5577.,       0.,\n",
       "          9723.,    3670.,       0.,       0.,       0.,       0.,\n",
       "           840.,     155.])"
      ]
     },
     "execution_count": 7,
     "metadata": {},
     "output_type": "execute_result"
    }
   ],
   "source": [
    "atomsCnt"
   ]
  },
  {
   "cell_type": "code",
   "execution_count": 8,
   "metadata": {},
   "outputs": [
    {
     "name": "stdout",
     "output_type": "stream",
     "text": [
      "5911"
     ]
    },
    {
     "data": {
      "text/plain": [
       "array([      0., 2566499.,       0., 3568253.,  825469., 1138182.,\n",
       "         53953.,       0., 1824911.,       0.,       0.,    1578.,\n",
       "             0.,       0.,   43391.,       0.,     819.,     659.,\n",
       "           184.,    5892.,       0.,       0.,       0.,  113430.,\n",
       "             0.,  295598.,  210563.,   63431.,   27617.,       0.,\n",
       "        146222.,       0.,    6410.,       0.,    6856.,       0.,\n",
       "         12018.,    4398.,       0.,       0.,       0.,       0.,\n",
       "          1021.,     193.])"
      ]
     },
     "execution_count": 8,
     "metadata": {},
     "output_type": "execute_result"
    }
   ],
   "source": [
    "dfTest = pd.read_csv('./test_dataset.csv')\n",
    "for i, row in dfVal.iterrows():\n",
    "    g = dgl.load_graphs(row['file_name'])[0][0]\n",
    "    #print(g)\n",
    "    #print(g.ndata['h'].shape)\n",
    "    #print(np.array(g.ndata['h'].squeeze(1).sum(0)))\n",
    "    atomsCnt = atomsCnt+np.array(g.ndata['h'].squeeze(1).sum(0))\n",
    "    print('\\r' + str(i), end='')\n",
    "atomsCnt"
   ]
  },
  {
   "cell_type": "code",
   "execution_count": 57,
   "metadata": {},
   "outputs": [
    {
     "data": {
      "text/html": [
       "<div>\n",
       "<style scoped>\n",
       "    .dataframe tbody tr th:only-of-type {\n",
       "        vertical-align: middle;\n",
       "    }\n",
       "\n",
       "    .dataframe tbody tr th {\n",
       "        vertical-align: top;\n",
       "    }\n",
       "\n",
       "    .dataframe thead th {\n",
       "        text-align: right;\n",
       "    }\n",
       "</style>\n",
       "<table border=\"1\" class=\"dataframe\">\n",
       "  <thead>\n",
       "    <tr style=\"text-align: right;\">\n",
       "      <th></th>\n",
       "      <th>Unnamed: 0</th>\n",
       "      <th>file_name</th>\n",
       "      <th>label</th>\n",
       "    </tr>\n",
       "  </thead>\n",
       "  <tbody>\n",
       "    <tr>\n",
       "      <th>0</th>\n",
       "      <td>0</td>\n",
       "      <td>../negative_graph_save/1a4k_ligand_7</td>\n",
       "      <td>0.0</td>\n",
       "    </tr>\n",
       "    <tr>\n",
       "      <th>1</th>\n",
       "      <td>1</td>\n",
       "      <td>../positive_graph_save/4avh</td>\n",
       "      <td>1.0</td>\n",
       "    </tr>\n",
       "    <tr>\n",
       "      <th>2</th>\n",
       "      <td>2</td>\n",
       "      <td>../negative_graph_save/4lm4_ligand_5</td>\n",
       "      <td>0.0</td>\n",
       "    </tr>\n",
       "    <tr>\n",
       "      <th>3</th>\n",
       "      <td>3</td>\n",
       "      <td>../negative_graph_save/4c5d_ligand_7</td>\n",
       "      <td>0.0</td>\n",
       "    </tr>\n",
       "    <tr>\n",
       "      <th>4</th>\n",
       "      <td>4</td>\n",
       "      <td>../negative_graph_save/5l4m_ligand_3</td>\n",
       "      <td>0.0</td>\n",
       "    </tr>\n",
       "  </tbody>\n",
       "</table>\n",
       "</div>"
      ],
      "text/plain": [
       "   Unnamed: 0                             file_name  label\n",
       "0           0  ../negative_graph_save/1a4k_ligand_7    0.0\n",
       "1           1           ../positive_graph_save/4avh    1.0\n",
       "2           2  ../negative_graph_save/4lm4_ligand_5    0.0\n",
       "3           3  ../negative_graph_save/4c5d_ligand_7    0.0\n",
       "4           4  ../negative_graph_save/5l4m_ligand_3    0.0"
      ]
     },
     "execution_count": 57,
     "metadata": {},
     "output_type": "execute_result"
    }
   ],
   "source": [
    "dfVal.head()"
   ]
  },
  {
   "cell_type": "code",
   "execution_count": 58,
   "metadata": {
    "scrolled": false
   },
   "outputs": [
    {
     "data": {
      "text/html": [
       "<div>\n",
       "<style scoped>\n",
       "    .dataframe tbody tr th:only-of-type {\n",
       "        vertical-align: middle;\n",
       "    }\n",
       "\n",
       "    .dataframe tbody tr th {\n",
       "        vertical-align: top;\n",
       "    }\n",
       "\n",
       "    .dataframe thead th {\n",
       "        text-align: right;\n",
       "    }\n",
       "</style>\n",
       "<table border=\"1\" class=\"dataframe\">\n",
       "  <thead>\n",
       "    <tr style=\"text-align: right;\">\n",
       "      <th></th>\n",
       "      <th>Unnamed: 0</th>\n",
       "      <th>Unnamed: 0.1</th>\n",
       "      <th>file_name</th>\n",
       "      <th>label</th>\n",
       "    </tr>\n",
       "  </thead>\n",
       "  <tbody>\n",
       "    <tr>\n",
       "      <th>0</th>\n",
       "      <td>0</td>\n",
       "      <td>0</td>\n",
       "      <td>../positive_graph_save8A_test/6as8</td>\n",
       "      <td>1.0</td>\n",
       "    </tr>\n",
       "    <tr>\n",
       "      <th>1</th>\n",
       "      <td>1</td>\n",
       "      <td>1</td>\n",
       "      <td>../positive_graph_save8A_test/6eeb</td>\n",
       "      <td>1.0</td>\n",
       "    </tr>\n",
       "    <tr>\n",
       "      <th>2</th>\n",
       "      <td>2</td>\n",
       "      <td>2</td>\n",
       "      <td>../positive_graph_save8A_test/6dys</td>\n",
       "      <td>1.0</td>\n",
       "    </tr>\n",
       "    <tr>\n",
       "      <th>3</th>\n",
       "      <td>3</td>\n",
       "      <td>3</td>\n",
       "      <td>../positive_graph_save8A_test/5zg1</td>\n",
       "      <td>1.0</td>\n",
       "    </tr>\n",
       "    <tr>\n",
       "      <th>4</th>\n",
       "      <td>4</td>\n",
       "      <td>4</td>\n",
       "      <td>../positive_graph_save8A_test/6aro</td>\n",
       "      <td>1.0</td>\n",
       "    </tr>\n",
       "  </tbody>\n",
       "</table>\n",
       "</div>"
      ],
      "text/plain": [
       "   Unnamed: 0  Unnamed: 0.1                           file_name  label\n",
       "0           0             0  ../positive_graph_save8A_test/6as8    1.0\n",
       "1           1             1  ../positive_graph_save8A_test/6eeb    1.0\n",
       "2           2             2  ../positive_graph_save8A_test/6dys    1.0\n",
       "3           3             3  ../positive_graph_save8A_test/5zg1    1.0\n",
       "4           4             4  ../positive_graph_save8A_test/6aro    1.0"
      ]
     },
     "execution_count": 58,
     "metadata": {},
     "output_type": "execute_result"
    }
   ],
   "source": [
    "dfTest.head()"
   ]
  },
  {
   "cell_type": "code",
   "execution_count": 51,
   "metadata": {},
   "outputs": [
    {
     "data": {
      "text/plain": [
       "2622487.0"
      ]
     },
     "execution_count": 51,
     "metadata": {},
     "output_type": "execute_result"
    }
   ],
   "source": [
    "atomsCnt"
   ]
  },
  {
   "cell_type": "code",
   "execution_count": 9,
   "metadata": {
    "scrolled": true
   },
   "outputs": [
    {
     "data": {
      "text/plain": [
       "array([      0., 2679929.,       0., 3863851., 1036032., 1201613.,\n",
       "         81570.,       0., 1971133.,       0.,    6410.,    1578.,\n",
       "          6856.,       0.,   55409.,    4398.,     819.,     659.,\n",
       "           184.,    5892.,    1021.,     193.])"
      ]
     },
     "execution_count": 9,
     "metadata": {},
     "output_type": "execute_result"
    }
   ],
   "source": [
    "atomsCnts = np.array_split(atomsCnt, 2)\n",
    "atomsCnt = atomsCnts[0] + atomsCnts[1]\n",
    "atomsCnt"
   ]
  },
  {
   "cell_type": "code",
   "execution_count": 10,
   "metadata": {},
   "outputs": [
    {
     "data": {
      "text/plain": [
       "(22,)"
      ]
     },
     "execution_count": 10,
     "metadata": {},
     "output_type": "execute_result"
    }
   ],
   "source": [
    "atomsCnt.shape"
   ]
  },
  {
   "cell_type": "code",
   "execution_count": 11,
   "metadata": {},
   "outputs": [
    {
     "name": "stdout",
     "output_type": "stream",
     "text": [
      "0\n",
      "2\n",
      "7\n",
      "9\n",
      "13\n"
     ]
    }
   ],
   "source": [
    "for i, num in enumerate(atomsCnt):\n",
    "    if num == 0:\n",
    "        print(i)"
   ]
  },
  {
   "cell_type": "code",
   "execution_count": 64,
   "metadata": {},
   "outputs": [
    {
     "data": {
      "text/plain": [
       "array([1, 2, 3, 4, 5])"
      ]
     },
     "execution_count": 64,
     "metadata": {},
     "output_type": "execute_result"
    }
   ],
   "source": [
    "a = np.array([1,2,3,4,5])\n",
    "np.sum(a)\n",
    "a/np.sum(a)\n",
    "a"
   ]
  },
  {
   "cell_type": "code",
   "execution_count": 17,
   "metadata": {},
   "outputs": [
    {
     "data": {
      "image/png": "[encoded data removed]",
      "text/plain": [
       "<Figure size 432x288 with 1 Axes>"
      ]
     },
     "metadata": {
      "needs_background": "light"
     },
     "output_type": "display_data"
    }
   ],
   "source": [
    "import matplotlib.pyplot as plt\n",
    "import matplotlib\n",
    "\n",
    "plt.barh(range(atomsCnt.shape[0]), atomsCnt/np.sum(atomsCnt), color='steelblue')\n",
    "plt.yticks(range(atomsCnt.shape[0]), types)\n",
    "plt.xlabel('Percentage(%)')\n",
    "plt.xlim(0.0, 0.01)\n",
    "plt.savefig('../figs/element_count.png', dpi=400)\n",
    "plt.show()"
   ]
  },
  {
   "cell_type": "code",
   "execution_count": 14,
   "metadata": {},
   "outputs": [
    {
     "data": {
      "text/plain": [
       "<Figure size 432x288 with 0 Axes>"
      ]
     },
     "metadata": {},
     "output_type": "display_data"
    }
   ],
   "source": [
    "plt.savefig('../figs/element_count.png', dpi=400)"
   ]
  }
 ],
 "metadata": {
  "kernelspec": {
   "display_name": "Python 3",
   "language": "python",
   "name": "python3"
  },
  "language_info": {
   "codemirror_mode": {
    "name": "ipython",
    "version": 3
   },
   "file_extension": ".py",
   "mimetype": "text/x-python",
   "name": "python",
   "nbconvert_exporter": "python",
   "pygments_lexer": "ipython3",
   "version": "3.8.5"
  }
 },
 "nbformat": 4,
 "nbformat_minor": 4
}
