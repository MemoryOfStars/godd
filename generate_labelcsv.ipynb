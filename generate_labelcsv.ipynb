{
 "metadata": {
  "language_info": {
   "codemirror_mode": {
    "name": "ipython",
    "version": 3
   },
   "file_extension": ".py",
   "mimetype": "text/x-python",
   "name": "python",
   "nbconvert_exporter": "python",
   "pygments_lexer": "ipython3",
   "version": "3.8.5-final"
  },
  "orig_nbformat": 2,
  "kernelspec": {
   "name": "python3",
   "display_name": "Python 3",
   "language": "python"
  }
 },
 "nbformat": 4,
 "nbformat_minor": 2,
 "cells": [
  {
   "source": [
    "生成一个CSV文件，包含着所有的data，标注了label"
   ],
   "cell_type": "markdown",
   "metadata": {}
  },
  {
   "cell_type": "code",
   "execution_count": 4,
   "metadata": {},
   "outputs": [],
   "source": [
    "import os\n",
    "import pandas as pd\n",
    "import numpy as np"
   ]
  },
  {
   "cell_type": "code",
   "execution_count": 3,
   "metadata": {},
   "outputs": [],
   "source": [
    "from sklearn.utils import shuffle"
   ]
  },
  {
   "cell_type": "code",
   "execution_count": 23,
   "metadata": {},
   "outputs": [],
   "source": [
    "pos_files = np.array(list(map(lambda x:'../positive_graph_save/' + x, os.listdir('../positive_graph_save/'))))\n",
    "pos_labels = np.ones(pos_files.shape)\n",
    "neg_files = np.array(list(map(lambda x:'../negative_graph_save/' + x, os.listdir('../negative_graph_save/'))))\n",
    "neg_labels = np.zeros(neg_files.shape)\n"
   ]
  },
  {
   "cell_type": "code",
   "execution_count": 24,
   "metadata": {},
   "outputs": [],
   "source": [
    "df_pos = pd.DataFrame([pos_files, pos_labels], index = ['file_name', 'label'])\n",
    "df_neg = pd.DataFrame([neg_files, neg_labels], index = ['file_name', 'label'])"
   ]
  },
  {
   "cell_type": "code",
   "execution_count": 25,
   "metadata": {},
   "outputs": [
    {
     "output_type": "execute_result",
     "data": {
      "text/plain": [
       "                                  0                            1     \\\n",
       "file_name  ../positive_graph_save/4CPY  ../positive_graph_save/1LYB   \n",
       "label                                1                            1   \n",
       "\n",
       "                                  2                            3     \\\n",
       "file_name  ../positive_graph_save/3K1J  ../positive_graph_save/2P16   \n",
       "label                                1                            1   \n",
       "\n",
       "                                  4                            5     \\\n",
       "file_name  ../positive_graph_save/4OR4  ../positive_graph_save/3DGO   \n",
       "label                                1                            1   \n",
       "\n",
       "                                  6                            7     \\\n",
       "file_name  ../positive_graph_save/3V3Q  ../positive_graph_save/4WT2   \n",
       "label                                1                            1   \n",
       "\n",
       "                                  8                            9     ...  \\\n",
       "file_name  ../positive_graph_save/1UZ1  ../positive_graph_save/1FKN  ...   \n",
       "label                                1                            1  ...   \n",
       "\n",
       "                                  4842                         4843  \\\n",
       "file_name  ../positive_graph_save/5OH2  ../positive_graph_save/1NVQ   \n",
       "label                                1                            1   \n",
       "\n",
       "                                  4844                         4845  \\\n",
       "file_name  ../positive_graph_save/6CKR  ../positive_graph_save/3DC3   \n",
       "label                                1                            1   \n",
       "\n",
       "                                  4846                         4847  \\\n",
       "file_name  ../positive_graph_save/5NZ4  ../positive_graph_save/4MC9   \n",
       "label                                1                            1   \n",
       "\n",
       "                                  4848                         4849  \\\n",
       "file_name  ../positive_graph_save/1JVU  ../positive_graph_save/4G0P   \n",
       "label                                1                            1   \n",
       "\n",
       "                                  4850                         4851  \n",
       "file_name  ../positive_graph_save/2WC3  ../positive_graph_save/4GAH  \n",
       "label                                1                            1  \n",
       "\n",
       "[2 rows x 4852 columns]"
      ],
      "text/html": "<div>\n<style scoped>\n    .dataframe tbody tr th:only-of-type {\n        vertical-align: middle;\n    }\n\n    .dataframe tbody tr th {\n        vertical-align: top;\n    }\n\n    .dataframe thead th {\n        text-align: right;\n    }\n</style>\n<table border=\"1\" class=\"dataframe\">\n  <thead>\n    <tr style=\"text-align: right;\">\n      <th></th>\n      <th>0</th>\n      <th>1</th>\n      <th>2</th>\n      <th>3</th>\n      <th>4</th>\n      <th>5</th>\n      <th>6</th>\n      <th>7</th>\n      <th>8</th>\n      <th>9</th>\n      <th>...</th>\n      <th>4842</th>\n      <th>4843</th>\n      <th>4844</th>\n      <th>4845</th>\n      <th>4846</th>\n      <th>4847</th>\n      <th>4848</th>\n      <th>4849</th>\n      <th>4850</th>\n      <th>4851</th>\n    </tr>\n  </thead>\n  <tbody>\n    <tr>\n      <th>file_name</th>\n      <td>../positive_graph_save/4CPY</td>\n      <td>../positive_graph_save/1LYB</td>\n      <td>../positive_graph_save/3K1J</td>\n      <td>../positive_graph_save/2P16</td>\n      <td>../positive_graph_save/4OR4</td>\n      <td>../positive_graph_save/3DGO</td>\n      <td>../positive_graph_save/3V3Q</td>\n      <td>../positive_graph_save/4WT2</td>\n      <td>../positive_graph_save/1UZ1</td>\n      <td>../positive_graph_save/1FKN</td>\n      <td>...</td>\n      <td>../positive_graph_save/5OH2</td>\n      <td>../positive_graph_save/1NVQ</td>\n      <td>../positive_graph_save/6CKR</td>\n      <td>../positive_graph_save/3DC3</td>\n      <td>../positive_graph_save/5NZ4</td>\n      <td>../positive_graph_save/4MC9</td>\n      <td>../positive_graph_save/1JVU</td>\n      <td>../positive_graph_save/4G0P</td>\n      <td>../positive_graph_save/2WC3</td>\n      <td>../positive_graph_save/4GAH</td>\n    </tr>\n    <tr>\n      <th>label</th>\n      <td>1</td>\n      <td>1</td>\n      <td>1</td>\n      <td>1</td>\n      <td>1</td>\n      <td>1</td>\n      <td>1</td>\n      <td>1</td>\n      <td>1</td>\n      <td>1</td>\n      <td>...</td>\n      <td>1</td>\n      <td>1</td>\n      <td>1</td>\n      <td>1</td>\n      <td>1</td>\n      <td>1</td>\n      <td>1</td>\n      <td>1</td>\n      <td>1</td>\n      <td>1</td>\n    </tr>\n  </tbody>\n</table>\n<p>2 rows × 4852 columns</p>\n</div>"
     },
     "metadata": {},
     "execution_count": 25
    }
   ],
   "source": [
    "df_pos.head()"
   ]
  },
  {
   "cell_type": "code",
   "execution_count": 26,
   "metadata": {},
   "outputs": [
    {
     "output_type": "execute_result",
     "data": {
      "text/plain": [
       "                                           0     \\\n",
       "file_name  ../negative_graph_save/3qfz_ligand_2   \n",
       "label                                         0   \n",
       "\n",
       "                                           1     \\\n",
       "file_name  ../negative_graph_save/5efa_ligand_1   \n",
       "label                                         0   \n",
       "\n",
       "                                           2     \\\n",
       "file_name  ../negative_graph_save/2jdu_ligand_4   \n",
       "label                                         0   \n",
       "\n",
       "                                           3     \\\n",
       "file_name  ../negative_graph_save/4h3g_ligand_3   \n",
       "label                                         0   \n",
       "\n",
       "                                           4     \\\n",
       "file_name  ../negative_graph_save/3qfz_ligand_9   \n",
       "label                                         0   \n",
       "\n",
       "                                           5     \\\n",
       "file_name  ../negative_graph_save/2oi2_ligand_7   \n",
       "label                                         0   \n",
       "\n",
       "                                           6     \\\n",
       "file_name  ../negative_graph_save/4lm3_ligand_4   \n",
       "label                                         0   \n",
       "\n",
       "                                           7     \\\n",
       "file_name  ../negative_graph_save/2ces_ligand_2   \n",
       "label                                         0   \n",
       "\n",
       "                                           8     \\\n",
       "file_name  ../negative_graph_save/4zgk_ligand_6   \n",
       "label                                         0   \n",
       "\n",
       "                                           9     ...  \\\n",
       "file_name  ../negative_graph_save/5dkn_ligand_4  ...   \n",
       "label                                         0  ...   \n",
       "\n",
       "                                           7488  \\\n",
       "file_name  ../negative_graph_save/3s78_ligand_2   \n",
       "label                                         0   \n",
       "\n",
       "                                           7489  \\\n",
       "file_name  ../negative_graph_save/2wvt_ligand_2   \n",
       "label                                         0   \n",
       "\n",
       "                                           7490  \\\n",
       "file_name  ../negative_graph_save/1r1h_ligand_3   \n",
       "label                                         0   \n",
       "\n",
       "                                           7491  \\\n",
       "file_name  ../negative_graph_save/5we9_ligand_3   \n",
       "label                                         0   \n",
       "\n",
       "                                           7492  \\\n",
       "file_name  ../negative_graph_save/1li3_ligand_8   \n",
       "label                                         0   \n",
       "\n",
       "                                           7493  \\\n",
       "file_name  ../negative_graph_save/4wn5_ligand_2   \n",
       "label                                         0   \n",
       "\n",
       "                                           7494  \\\n",
       "file_name  ../negative_graph_save/1oxr_ligand_1   \n",
       "label                                         0   \n",
       "\n",
       "                                           7495  \\\n",
       "file_name  ../negative_graph_save/4g0y_ligand_4   \n",
       "label                                         0   \n",
       "\n",
       "                                           7496  \\\n",
       "file_name  ../negative_graph_save/4nra_ligand_7   \n",
       "label                                         0   \n",
       "\n",
       "                                           7497  \n",
       "file_name  ../negative_graph_save/1oar_ligand_3  \n",
       "label                                         0  \n",
       "\n",
       "[2 rows x 7498 columns]"
      ],
      "text/html": "<div>\n<style scoped>\n    .dataframe tbody tr th:only-of-type {\n        vertical-align: middle;\n    }\n\n    .dataframe tbody tr th {\n        vertical-align: top;\n    }\n\n    .dataframe thead th {\n        text-align: right;\n    }\n</style>\n<table border=\"1\" class=\"dataframe\">\n  <thead>\n    <tr style=\"text-align: right;\">\n      <th></th>\n      <th>0</th>\n      <th>1</th>\n      <th>2</th>\n      <th>3</th>\n      <th>4</th>\n      <th>5</th>\n      <th>6</th>\n      <th>7</th>\n      <th>8</th>\n      <th>9</th>\n      <th>...</th>\n      <th>7488</th>\n      <th>7489</th>\n      <th>7490</th>\n      <th>7491</th>\n      <th>7492</th>\n      <th>7493</th>\n      <th>7494</th>\n      <th>7495</th>\n      <th>7496</th>\n      <th>7497</th>\n    </tr>\n  </thead>\n  <tbody>\n    <tr>\n      <th>file_name</th>\n      <td>../negative_graph_save/3qfz_ligand_2</td>\n      <td>../negative_graph_save/5efa_ligand_1</td>\n      <td>../negative_graph_save/2jdu_ligand_4</td>\n      <td>../negative_graph_save/4h3g_ligand_3</td>\n      <td>../negative_graph_save/3qfz_ligand_9</td>\n      <td>../negative_graph_save/2oi2_ligand_7</td>\n      <td>../negative_graph_save/4lm3_ligand_4</td>\n      <td>../negative_graph_save/2ces_ligand_2</td>\n      <td>../negative_graph_save/4zgk_ligand_6</td>\n      <td>../negative_graph_save/5dkn_ligand_4</td>\n      <td>...</td>\n      <td>../negative_graph_save/3s78_ligand_2</td>\n      <td>../negative_graph_save/2wvt_ligand_2</td>\n      <td>../negative_graph_save/1r1h_ligand_3</td>\n      <td>../negative_graph_save/5we9_ligand_3</td>\n      <td>../negative_graph_save/1li3_ligand_8</td>\n      <td>../negative_graph_save/4wn5_ligand_2</td>\n      <td>../negative_graph_save/1oxr_ligand_1</td>\n      <td>../negative_graph_save/4g0y_ligand_4</td>\n      <td>../negative_graph_save/4nra_ligand_7</td>\n      <td>../negative_graph_save/1oar_ligand_3</td>\n    </tr>\n    <tr>\n      <th>label</th>\n      <td>0</td>\n      <td>0</td>\n      <td>0</td>\n      <td>0</td>\n      <td>0</td>\n      <td>0</td>\n      <td>0</td>\n      <td>0</td>\n      <td>0</td>\n      <td>0</td>\n      <td>...</td>\n      <td>0</td>\n      <td>0</td>\n      <td>0</td>\n      <td>0</td>\n      <td>0</td>\n      <td>0</td>\n      <td>0</td>\n      <td>0</td>\n      <td>0</td>\n      <td>0</td>\n    </tr>\n  </tbody>\n</table>\n<p>2 rows × 7498 columns</p>\n</div>"
     },
     "metadata": {},
     "execution_count": 26
    }
   ],
   "source": [
    "df_neg.head()"
   ]
  },
  {
   "cell_type": "code",
   "execution_count": 27,
   "metadata": {},
   "outputs": [],
   "source": [
    "df_pos.to_csv('./positive_dataset.csv')\n",
    "df_neg.to_csv('./negative_dataset.csv')"
   ]
  }
 ]
}